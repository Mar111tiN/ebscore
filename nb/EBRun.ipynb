{
 "cells": [
  {
   "cell_type": "code",
   "execution_count": 5,
   "metadata": {
    "ExecuteTime": {
     "end_time": "2020-09-10T07:15:45.430131Z",
     "start_time": "2020-09-10T07:15:45.304412Z"
    }
   },
   "outputs": [
    {
     "name": "stdout",
     "output_type": "stream",
     "text": [
      "001_A-B-chr1.EB           002_chr7.bed              test.cleanpileup\r\n",
      "001_A-B-chr1.mutmatrix    002_chr7.pon              test.cutpileup\r\n",
      "002.csv                   003_A-B-chr1.EB           test.filterCount\r\n",
      "002.matrix                003_A-B-chr1.mutmatrix    test.pileup\r\n",
      "002_A-B-chr1.EB           chr7.pilecount.gz         test.pon\r\n",
      "002_A-B-chr1.EBmutmatrix  stop.file\r\n",
      "002_A-B-chr1.mutmatrix    test.bed\r\n"
     ]
    }
   ],
   "source": [
    "ls /Users/martinscience/Dropbox/Icke/Work/somVar/testdata/EBdata/"
   ]
  },
  {
   "cell_type": "code",
   "execution_count": 1,
   "metadata": {
    "ExecuteTime": {
     "end_time": "2020-09-10T07:16:44.427219Z",
     "start_time": "2020-09-10T07:16:44.423861Z"
    }
   },
   "outputs": [],
   "source": [
    "# get the code\n",
    "import sys\n",
    "sys.path.append('../code')\n",
    "\n",
    "# set the paths\n",
    "home = '/Users/mahtin'\n",
    "home = '/Users/martinscience'\n",
    "testdata = f\"{home}/Dropbox/Icke/Work/somVar/testdata\"\n",
    "ebdata = f\"{testdata}/EBdata\"\n",
    "pon_path = f\"{testdata}/testpon\"\n",
    "static = f\"{home}/Dropbox/Icke/Work/static\"\n",
    "\n",
    "# squeezing all data and shell paths into config\n",
    "EBconfig = {\n",
    "    \"cleanpileup\": \"../shell/cleanpileup.mawk\",\n",
    "    \"makeponlist\": \"../shell/makeponlist.sh\",\n",
    "    \"csv2bed\":\"../shell/csv2bed.mawk\",\n",
    "    \"pon2cols\": \"../shell/pon2cols.mawk\",\n",
    "    \"pile2count\": \"../shell/pile2count2.mawk\",\n",
    "    \"filterVar\": \"../shell/filterVar.mawk\",\n",
    "    \"pon2tumor\": \"../shell/pon2tumor.mawk\",\n",
    "    \"pon_path\": pon_path,\n",
    "    \"genome_split\": f\"{static}/genome/gatk/hg38/split\",\n",
    "    \"MAPQ\": 20,\n",
    "    \"Q\": 25,\n",
    "    \"fit_pen\": 0.5,\n",
    "    \"threads\":6,\n",
    "    \"count_dict\": {0:\"alt+\", 1:\"alt-\", 2:\"depth+\", 3:\"depth-\"},\n",
    "    \"debug\":True\n",
    "}\n"
   ]
  },
  {
   "cell_type": "code",
   "execution_count": 2,
   "metadata": {},
   "outputs": [],
   "source": [
    "from ebrun import run_ebscore"
   ]
  },
  {
   "cell_type": "code",
   "execution_count": 3,
   "metadata": {},
   "outputs": [
    {
     "name": "stdout",
     "output_type": "stream",
     "text": [
      "\u001b[1;35;2m14:27:10\u001b[0m : \u001b[1;30;1mComputing EBscore for chrom chr7 on target /Users/martinscience/Dropbox/Icke/Work/somVar/testdata/bam/002_A.bam\u001b[0m\n",
      "\u001b[1;35;2m14:27:10\u001b[0m : \u001b[1;30;1mPiling up chr7 of /Users/martinscience/Dropbox/Icke/Work/somVar/testdata/bam/002_A.bam with Pon List.\u001b[0m\n",
      "                                                 bam\n",
      "0  /Users/martinscience/Dropbox/Icke/Work/somVar/...\n",
      "1  /Users/martinscience/Dropbox/Icke/Work/somVar/...\n",
      "2  /Users/martinscience/Dropbox/Icke/Work/somVar/...\n",
      "3  /Users/martinscience/Dropbox/Icke/Work/somVar/...\n",
      "4  /Users/martinscience/Dropbox/Icke/Work/somVar/...\n",
      "5  /Users/martinscience/Dropbox/Icke/Work/somVar/...\n",
      "\u001b[1;35;2m14:28:05\u001b[0m : \u001b[1;36;1mPileup matrix for chrom chr7 of /Users/martinscience/Dropbox/Icke/Work/somVar/testdata/bam/002_A.bam completed.\u001b[0m\n",
      "\u001b[1;35;2m14:28:05\u001b[0m : \u001b[1;30;1mComputing ABparams from PoN data on chr7.\u001b[0m\n",
      "\u001b[1;35;2m14:28:06\u001b[0m : \u001b[1;36;1mComputing ABparams finished.\u001b[0m\n",
      "\u001b[1;35;2m14:28:06\u001b[0m : \u001b[1;36;1mCreated EBscore for chrom chr7 of /Users/martinscience/Dropbox/Icke/Work/somVar/testdata/bam/002_A.bam and written to ../output/002.EB\u001b[0m\n"
     ]
    }
   ],
   "source": [
    "# get the input files\n",
    "bam_file = f\"{testdata}/bam/002_A.bam\"\n",
    "mut_file = f\"{ebdata}/002.csv\"\n",
    "pon_list = \"Pon_chr7short.txt\"\n",
    "chrom = \"chr7\"\n",
    "output = \"../output/002.EB\"\n",
    "df = run_ebscore(mut_file, bam_file, output_file=output, pon_list=pon_list, chrom=chrom, EBconfig=EBconfig, debug=True)"
   ]
  },
  {
   "cell_type": "code",
   "execution_count": null,
   "metadata": {},
   "outputs": [],
   "source": []
  }
 ],
 "metadata": {
  "kernelspec": {
   "display_name": "Python 3",
   "language": "python",
   "name": "python3"
  },
  "language_info": {
   "codemirror_mode": {
    "name": "ipython",
    "version": 3
   },
   "file_extension": ".py",
   "mimetype": "text/x-python",
   "name": "python",
   "nbconvert_exporter": "python",
   "pygments_lexer": "ipython3",
   "version": "3.8.5"
  },
  "varInspector": {
   "cols": {
    "lenName": 16,
    "lenType": 16,
    "lenVar": 40
   },
   "kernels_config": {
    "python": {
     "delete_cmd_postfix": "",
     "delete_cmd_prefix": "del ",
     "library": "var_list.py",
     "varRefreshCmd": "print(var_dic_list())"
    },
    "r": {
     "delete_cmd_postfix": ") ",
     "delete_cmd_prefix": "rm(",
     "library": "var_list.r",
     "varRefreshCmd": "cat(var_dic_list()) "
    }
   },
   "types_to_exclude": [
    "module",
    "function",
    "builtin_function_or_method",
    "instance",
    "_Feature"
   ],
   "window_display": false
  }
 },
 "nbformat": 4,
 "nbformat_minor": 4
}
