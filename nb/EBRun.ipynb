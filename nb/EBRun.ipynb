{
 "cells": [
  {
   "cell_type": "code",
   "execution_count": 1,
   "metadata": {
    "ExecuteTime": {
     "end_time": "2020-09-10T07:16:44.427219Z",
     "start_time": "2020-09-10T07:16:44.423861Z"
    }
   },
   "outputs": [],
   "source": [
    "# get the code\n",
    "import sys\n",
    "import os\n",
    "sys.path.append('../code')\n",
    "\n",
    "# set the paths\n",
    "home = '/Users/martinscience'\n",
    "#  home = '/Users/mahtin'\n",
    "\n",
    "\n",
    "somvar_path = os.path.join(home, \"Dropbox/Icke/Work/somVar\")\n",
    "testdata = os.path.join(somvar_path, \"testdata\")\n",
    "ebdata = os.path.join(somvar_path, \"tooldata/EBdata\")\n",
    "pon_path = os.path.join(testdata, \"PON\")\n",
    "\n",
    "static = os.path.join(home, \"Dropbox/Icke/Work/static\")"
   ]
  },
  {
   "cell_type": "code",
   "execution_count": 2,
   "metadata": {},
   "outputs": [],
   "source": [
    "from ebrun import run_ebscore"
   ]
  },
  {
   "cell_type": "code",
   "execution_count": 3,
   "metadata": {},
   "outputs": [
    {
     "name": "stdout",
     "output_type": "stream",
     "text": [
      "\u001b[1;35;2m21:08:16\u001b[0m : \u001b[1;30;1mComputing EBscore for chrom chr7 on target /Users/mahtin/Dropbox/Icke/Work/somVar/testdata/bam/002_A.bam\u001b[0m\n",
      "\u001b[1;35;2m21:08:16\u001b[0m : \u001b[1;30;1mPiling up chr7 of /Users/mahtin/Dropbox/Icke/Work/somVar/testdata/bam/002_A.bam with Pon List.\u001b[0m\n",
      "\u001b[1;35;2m21:08:16\u001b[0m : \u001b[1;31;1m1 matches target bam /Users/mahtin/Dropbox/Icke/Work/somVar/testdata/bam/002_A.bam and is removed from pon_list. If not desired, change names in PoN\u001b[0m\n",
      "                                                 bam\n",
      "0  /Users/mahtin/Dropbox/Icke/Work/somVar/testdat...\n",
      "1  /Users/mahtin/Dropbox/Icke/Work/somVar/testdat...\n",
      "3  /Users/mahtin/Dropbox/Icke/Work/somVar/testdat...\n",
      "4  /Users/mahtin/Dropbox/Icke/Work/somVar/testdat...\n",
      "5  /Users/mahtin/Dropbox/Icke/Work/somVar/testdat...\n",
      "\u001b[1;35;2m21:09:05\u001b[0m : \u001b[1;36;1mPileup matrix for chrom chr7 of /Users/mahtin/Dropbox/Icke/Work/somVar/testdata/bam/002_A.bam completed.\u001b[0m\n",
      "\u001b[1;35;2m21:09:05\u001b[0m : \u001b[1;30;1mComputing ABparams from PoN data on chr7.\u001b[0m\n",
      "\u001b[1;35;2m21:09:06\u001b[0m : \u001b[1;36;1mComputing ABparams finished.\u001b[0m\n",
      "\u001b[1;35;2m21:09:06\u001b[0m : \u001b[1;36;1mCreated EBscore for chrom chr7 of /Users/mahtin/Dropbox/Icke/Work/somVar/testdata/bam/002_A.bam and written to ../output/002.EB\u001b[0m\n"
     ]
    }
   ],
   "source": [
    "# get the input files\n",
    "bam_file = f\"{testdata}/bam/002_A.bam\"\n",
    "mut_file = f\"{ebdata}/002.csv\"\n",
    "pon_list = \"Pon_chr7short.txt\"\n",
    "chrom = \"chr7\"\n",
    "output = \"../output/002.EB\"\n",
    "df = run_ebscore(mut_file, bam_file, output_file=output, pon_list=pon_list, chrom=chrom, EBconfig=EBconfig, debug=True)"
   ]
  },
  {
   "cell_type": "code",
   "execution_count": null,
   "metadata": {},
   "outputs": [],
   "source": []
  }
 ],
 "metadata": {
  "kernelspec": {
   "display_name": "Python 3",
   "language": "python",
   "name": "python3"
  },
  "language_info": {
   "codemirror_mode": {
    "name": "ipython",
    "version": 3
   },
   "file_extension": ".py",
   "mimetype": "text/x-python",
   "name": "python",
   "nbconvert_exporter": "python",
   "pygments_lexer": "ipython3",
   "version": "3.8.5"
  },
  "varInspector": {
   "cols": {
    "lenName": 16,
    "lenType": 16,
    "lenVar": 40
   },
   "kernels_config": {
    "python": {
     "delete_cmd_postfix": "",
     "delete_cmd_prefix": "del ",
     "library": "var_list.py",
     "varRefreshCmd": "print(var_dic_list())"
    },
    "r": {
     "delete_cmd_postfix": ") ",
     "delete_cmd_prefix": "rm(",
     "library": "var_list.r",
     "varRefreshCmd": "cat(var_dic_list()) "
    }
   },
   "types_to_exclude": [
    "module",
    "function",
    "builtin_function_or_method",
    "instance",
    "_Feature"
   ],
   "window_display": false
  }
 },
 "nbformat": 4,
 "nbformat_minor": 4
}
