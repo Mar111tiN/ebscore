{
 "cells": [
  {
   "cell_type": "code",
   "execution_count": 4,
   "metadata": {
    "ExecuteTime": {
     "end_time": "2021-04-12T10:12:31.006010Z",
     "start_time": "2021-04-12T10:12:31.000341Z"
    }
   },
   "outputs": [],
   "source": [
    "# get the code\n",
    "import sys\n",
    "import os\n",
    "sys.path.append('../code')\n",
    "\n",
    "# set the paths\n",
    "home = '/Users/martinscience'\n",
    "#  home = '/Users/mahtin'\n",
    "\n",
    "\n",
    "somvar_path = os.path.join(home, \"Dropbox/Icke/Work/somVar\")\n",
    "testdata = os.path.join(somvar_path, \"testdata\")\n",
    "ebdata = os.path.join(somvar_path, \"tooldata/EBdata\")\n",
    "pon_path = os.path.join(testdata, \"PON\")\n",
    "\n",
    "static = os.path.join(home, \"Dropbox/Icke/Work/static\")"
   ]
  },
  {
   "cell_type": "markdown",
   "metadata": {},
   "source": [
    "## create EBmatrix from different input\n",
    "+ filterVar.mawk is the input fork"
   ]
  },
  {
   "cell_type": "code",
   "execution_count": 5,
   "metadata": {
    "ExecuteTime": {
     "end_time": "2021-04-12T10:13:20.188531Z",
     "start_time": "2021-04-12T10:13:19.593981Z"
    }
   },
   "outputs": [
    {
     "name": "stderr",
     "output_type": "stream",
     "text": [
      "../code/ebutils.py:33: FutureWarning: The default value of regex will change from True to False in a future version.\n",
      "  pon_df[\"basename\"]\n"
     ]
    },
    {
     "name": "stdout",
     "output_type": "stream",
     "text": [
      "\u001b[1;35;2m17:05:44\u001b[0m : \u001b[1;31;1m03_B.chr7.bam from PON list matches /Users/martinscience/Dropbox/Icke/Work/somVar/testdata/bam/003_A.chr7.bam and is removed from pon_list. If not desired, change names\u001b[0m\n",
      "\u001b[1m$ samtools mpileup -Q 25 -q 20 -l /Users/martinscience/Dropbox/Icke/Work/somVar/tooldata/EBdata/temp/002_A-B_chr7.bed -f /Users/martinscience/Dropbox/Icke/Work/static/genome/gatk/hg38/split/chr7.fa -r chr7 /Users/martinscience/Dropbox/Icke/Work/somVar/testdata/bam/003_A.chr7.bam | ../shell/cleanpileup.mawk | ../shell/pile2count.mawk | ../shell/tumor2matrix.mawk /Users/martinscience/Dropbox/Icke/Work/somVar/tooldata/EBdata/table/002_A-B.csv chr7 -P /Users/martinscience/Dropbox/Icke/Work/somVar/testdata/PON/matrix/chr7.pon -x 3\u001b[0m\n"
     ]
    },
    {
     "data": {
      "text/html": [
       "<div>\n",
       "<style scoped>\n",
       "    .dataframe tbody tr th:only-of-type {\n",
       "        vertical-align: middle;\n",
       "    }\n",
       "\n",
       "    .dataframe tbody tr th {\n",
       "        vertical-align: top;\n",
       "    }\n",
       "\n",
       "    .dataframe thead th {\n",
       "        text-align: right;\n",
       "    }\n",
       "</style>\n",
       "<table border=\"1\" class=\"dataframe\">\n",
       "  <thead>\n",
       "    <tr style=\"text-align: right;\">\n",
       "      <th></th>\n",
       "      <th>Chr</th>\n",
       "      <th>Start</th>\n",
       "      <th>End</th>\n",
       "      <th>Ref</th>\n",
       "      <th>Alt</th>\n",
       "      <th>Tumor</th>\n",
       "      <th>PONpos</th>\n",
       "      <th>PONeg</th>\n",
       "    </tr>\n",
       "  </thead>\n",
       "  <tbody>\n",
       "    <tr>\n",
       "      <th>0</th>\n",
       "      <td>chr7</td>\n",
       "      <td>35326</td>\n",
       "      <td>35326</td>\n",
       "      <td>C</td>\n",
       "      <td>T</td>\n",
       "      <td>0-13=0-13</td>\n",
       "      <td>0|1|0|0=4|1|31|0</td>\n",
       "      <td>0|5|0|3=2|5|0|3</td>\n",
       "    </tr>\n",
       "    <tr>\n",
       "      <th>1</th>\n",
       "      <td>chr7</td>\n",
       "      <td>35442</td>\n",
       "      <td>35442</td>\n",
       "      <td>-</td>\n",
       "      <td>TGC</td>\n",
       "      <td>2-0=2-2</td>\n",
       "      <td>6|0|1|0=6|0|17|0</td>\n",
       "      <td>4|1|1|0=5|4|29|2</td>\n",
       "    </tr>\n",
       "    <tr>\n",
       "      <th>2</th>\n",
       "      <td>chr7</td>\n",
       "      <td>248451</td>\n",
       "      <td>248451</td>\n",
       "      <td>G</td>\n",
       "      <td>A</td>\n",
       "      <td>2-4=100-239</td>\n",
       "      <td>1|1|1|0=69|55|86|65</td>\n",
       "      <td>0|0|0|0=102|116|135|75</td>\n",
       "    </tr>\n",
       "    <tr>\n",
       "      <th>3</th>\n",
       "      <td>chr7</td>\n",
       "      <td>248458</td>\n",
       "      <td>248458</td>\n",
       "      <td>T</td>\n",
       "      <td>C</td>\n",
       "      <td>0-3=76-235</td>\n",
       "      <td>1|1|1|0=49|45|66|49</td>\n",
       "      <td>0|0|0|0=114|118|139|79</td>\n",
       "    </tr>\n",
       "    <tr>\n",
       "      <th>4</th>\n",
       "      <td>chr7</td>\n",
       "      <td>248482</td>\n",
       "      <td>248482</td>\n",
       "      <td>-</td>\n",
       "      <td>A</td>\n",
       "      <td>0-3=27-220</td>\n",
       "      <td>0|0|0|0=23|23|25|22</td>\n",
       "      <td>0|0|1|0=95|105|130|68</td>\n",
       "    </tr>\n",
       "    <tr>\n",
       "      <th>...</th>\n",
       "      <td>...</td>\n",
       "      <td>...</td>\n",
       "      <td>...</td>\n",
       "      <td>...</td>\n",
       "      <td>...</td>\n",
       "      <td>...</td>\n",
       "      <td>...</td>\n",
       "      <td>...</td>\n",
       "    </tr>\n",
       "    <tr>\n",
       "      <th>7094</th>\n",
       "      <td>chr7</td>\n",
       "      <td>159142337</td>\n",
       "      <td>159142338</td>\n",
       "      <td>T</td>\n",
       "      <td>-</td>\n",
       "      <td>7-0=91-4</td>\n",
       "      <td>1|2|1|1=52|73|71|83</td>\n",
       "      <td>0|0|0|0=4|7|1|2</td>\n",
       "    </tr>\n",
       "    <tr>\n",
       "      <th>7095</th>\n",
       "      <td>chr7</td>\n",
       "      <td>159144277</td>\n",
       "      <td>159144277</td>\n",
       "      <td>C</td>\n",
       "      <td>A</td>\n",
       "      <td>1-1=183-25</td>\n",
       "      <td>0|0|0|0=166|275|218|113</td>\n",
       "      <td>0|0|0|0=27|29|27|17</td>\n",
       "    </tr>\n",
       "    <tr>\n",
       "      <th>7096</th>\n",
       "      <td>chr7</td>\n",
       "      <td>159144683</td>\n",
       "      <td>159144683</td>\n",
       "      <td>C</td>\n",
       "      <td>T</td>\n",
       "      <td>69-54=83-90</td>\n",
       "      <td>0|65|0|0=100|137|120|85</td>\n",
       "      <td>0|69|0|0=77|140|138|43</td>\n",
       "    </tr>\n",
       "    <tr>\n",
       "      <th>7097</th>\n",
       "      <td>chr7</td>\n",
       "      <td>159144893</td>\n",
       "      <td>159144893</td>\n",
       "      <td>T</td>\n",
       "      <td>C</td>\n",
       "      <td>2-8=7-44</td>\n",
       "      <td>0|2|5|6=7|7|5|8</td>\n",
       "      <td>0|38|54|12=30|61|54|28</td>\n",
       "    </tr>\n",
       "    <tr>\n",
       "      <th>7098</th>\n",
       "      <td>chr7</td>\n",
       "      <td>159144902</td>\n",
       "      <td>159144902</td>\n",
       "      <td>-</td>\n",
       "      <td>C</td>\n",
       "      <td>2-36=5-45</td>\n",
       "      <td>3|4|1|3=3|5|2|5</td>\n",
       "      <td>32|60|45|14=35|63|51|19</td>\n",
       "    </tr>\n",
       "  </tbody>\n",
       "</table>\n",
       "<p>7099 rows × 8 columns</p>\n",
       "</div>"
      ],
      "text/plain": [
       "       Chr      Start        End Ref  Alt        Tumor  \\\n",
       "0     chr7      35326      35326   C    T    0-13=0-13   \n",
       "1     chr7      35442      35442   -  TGC      2-0=2-2   \n",
       "2     chr7     248451     248451   G    A  2-4=100-239   \n",
       "3     chr7     248458     248458   T    C   0-3=76-235   \n",
       "4     chr7     248482     248482   -    A   0-3=27-220   \n",
       "...    ...        ...        ...  ..  ...          ...   \n",
       "7094  chr7  159142337  159142338   T    -     7-0=91-4   \n",
       "7095  chr7  159144277  159144277   C    A   1-1=183-25   \n",
       "7096  chr7  159144683  159144683   C    T  69-54=83-90   \n",
       "7097  chr7  159144893  159144893   T    C     2-8=7-44   \n",
       "7098  chr7  159144902  159144902   -    C    2-36=5-45   \n",
       "\n",
       "                       PONpos                    PONeg  \n",
       "0            0|1|0|0=4|1|31|0          0|5|0|3=2|5|0|3  \n",
       "1            6|0|1|0=6|0|17|0         4|1|1|0=5|4|29|2  \n",
       "2         1|1|1|0=69|55|86|65   0|0|0|0=102|116|135|75  \n",
       "3         1|1|1|0=49|45|66|49   0|0|0|0=114|118|139|79  \n",
       "4         0|0|0|0=23|23|25|22    0|0|1|0=95|105|130|68  \n",
       "...                       ...                      ...  \n",
       "7094      1|2|1|1=52|73|71|83          0|0|0|0=4|7|1|2  \n",
       "7095  0|0|0|0=166|275|218|113      0|0|0|0=27|29|27|17  \n",
       "7096  0|65|0|0=100|137|120|85   0|69|0|0=77|140|138|43  \n",
       "7097          0|2|5|6=7|7|5|8   0|38|54|12=30|61|54|28  \n",
       "7098          3|4|1|3=3|5|2|5  32|60|45|14=35|63|51|19  \n",
       "\n",
       "[7099 rows x 8 columns]"
      ]
     },
     "execution_count": 5,
     "metadata": {},
     "output_type": "execute_result"
    }
   ],
   "source": [
    "from ebraw import tumor2matrix\n",
    "\n",
    "EBconfig = {\n",
    "    \"temp_dir\": os.path.join(ebdata, \"temp\"),\n",
    "    \"pon_path\": pon_path,\n",
    "    \"mawk_path\": \"../shell\",\n",
    "    \"genome_split\": os.path.join(static, \"genome/gatk/hg38/split\"),\n",
    "    \"MAPQ\": 20,\n",
    "    \"Q\": 25,\n",
    "    \"fit_pen\": 0.5,\n",
    "    \"count_dict\": {0:\"alt+\", 1:\"alt-\", 2:\"depth+\", 3:\"depth-\"},\n",
    "    \"use_cache\": True\n",
    "}\n",
    "\n",
    "\n",
    "bam_file = f\"{testdata}/bam/003_A.chr7.bam\"\n",
    "pileup_file = os.path.join(ebdata, \"pileup/002_A-B.pileup.gz\")\n",
    "mut_file = os.path.join(ebdata, \"table/002_A-B.csv\")\n",
    "pon_list = \"PON_chr7.txt\"\n",
    "chrom = \"chr7\"\n",
    "\n",
    "# df = bam2matrix(mut_file, pileup=pileup_file, chrom=chrom, pon_list=pon_list, EBconfig=EBconfig)\n",
    "df = tumor2matrix(mut_file, bam=bam_file, chrom=chrom, pon_list=pon_list, EBconfig=EBconfig)\n",
    "df"
   ]
  },
  {
   "cell_type": "markdown",
   "metadata": {},
   "source": [
    "## matrix to AB"
   ]
  },
  {
   "cell_type": "code",
   "execution_count": 6,
   "metadata": {},
   "outputs": [
    {
     "data": {
      "text/html": [
       "<div>\n",
       "<style scoped>\n",
       "    .dataframe tbody tr th:only-of-type {\n",
       "        vertical-align: middle;\n",
       "    }\n",
       "\n",
       "    .dataframe tbody tr th {\n",
       "        vertical-align: top;\n",
       "    }\n",
       "\n",
       "    .dataframe thead th {\n",
       "        text-align: right;\n",
       "    }\n",
       "</style>\n",
       "<table border=\"1\" class=\"dataframe\">\n",
       "  <thead>\n",
       "    <tr style=\"text-align: right;\">\n",
       "      <th></th>\n",
       "      <th>Chr</th>\n",
       "      <th>Start</th>\n",
       "      <th>End</th>\n",
       "      <th>Ref</th>\n",
       "      <th>Alt</th>\n",
       "      <th>Tumor</th>\n",
       "      <th>PONpos</th>\n",
       "      <th>PONeg</th>\n",
       "    </tr>\n",
       "  </thead>\n",
       "  <tbody>\n",
       "    <tr>\n",
       "      <th>0</th>\n",
       "      <td>chr7</td>\n",
       "      <td>35326</td>\n",
       "      <td>35326</td>\n",
       "      <td>C</td>\n",
       "      <td>T</td>\n",
       "      <td>0-13=0-13</td>\n",
       "      <td>0|1|0|0=4|1|31|0</td>\n",
       "      <td>0|5|0|3=2|5|0|3</td>\n",
       "    </tr>\n",
       "    <tr>\n",
       "      <th>1</th>\n",
       "      <td>chr7</td>\n",
       "      <td>35442</td>\n",
       "      <td>35442</td>\n",
       "      <td>-</td>\n",
       "      <td>TGC</td>\n",
       "      <td>2-0=2-2</td>\n",
       "      <td>6|0|1|0=6|0|17|0</td>\n",
       "      <td>4|1|1|0=5|4|29|2</td>\n",
       "    </tr>\n",
       "    <tr>\n",
       "      <th>2</th>\n",
       "      <td>chr7</td>\n",
       "      <td>248451</td>\n",
       "      <td>248451</td>\n",
       "      <td>G</td>\n",
       "      <td>A</td>\n",
       "      <td>2-4=100-239</td>\n",
       "      <td>1|1|1|0=69|55|86|65</td>\n",
       "      <td>0|0|0|0=102|116|135|75</td>\n",
       "    </tr>\n",
       "    <tr>\n",
       "      <th>3</th>\n",
       "      <td>chr7</td>\n",
       "      <td>248458</td>\n",
       "      <td>248458</td>\n",
       "      <td>T</td>\n",
       "      <td>C</td>\n",
       "      <td>0-3=76-235</td>\n",
       "      <td>1|1|1|0=49|45|66|49</td>\n",
       "      <td>0|0|0|0=114|118|139|79</td>\n",
       "    </tr>\n",
       "    <tr>\n",
       "      <th>4</th>\n",
       "      <td>chr7</td>\n",
       "      <td>248482</td>\n",
       "      <td>248482</td>\n",
       "      <td>-</td>\n",
       "      <td>A</td>\n",
       "      <td>0-3=27-220</td>\n",
       "      <td>0|0|0|0=23|23|25|22</td>\n",
       "      <td>0|0|1|0=95|105|130|68</td>\n",
       "    </tr>\n",
       "    <tr>\n",
       "      <th>...</th>\n",
       "      <td>...</td>\n",
       "      <td>...</td>\n",
       "      <td>...</td>\n",
       "      <td>...</td>\n",
       "      <td>...</td>\n",
       "      <td>...</td>\n",
       "      <td>...</td>\n",
       "      <td>...</td>\n",
       "    </tr>\n",
       "    <tr>\n",
       "      <th>7094</th>\n",
       "      <td>chr7</td>\n",
       "      <td>159142337</td>\n",
       "      <td>159142338</td>\n",
       "      <td>T</td>\n",
       "      <td>-</td>\n",
       "      <td>7-0=91-4</td>\n",
       "      <td>1|2|1|1=52|73|71|83</td>\n",
       "      <td>0|0|0|0=4|7|1|2</td>\n",
       "    </tr>\n",
       "    <tr>\n",
       "      <th>7095</th>\n",
       "      <td>chr7</td>\n",
       "      <td>159144277</td>\n",
       "      <td>159144277</td>\n",
       "      <td>C</td>\n",
       "      <td>A</td>\n",
       "      <td>1-1=183-25</td>\n",
       "      <td>0|0|0|0=166|275|218|113</td>\n",
       "      <td>0|0|0|0=27|29|27|17</td>\n",
       "    </tr>\n",
       "    <tr>\n",
       "      <th>7096</th>\n",
       "      <td>chr7</td>\n",
       "      <td>159144683</td>\n",
       "      <td>159144683</td>\n",
       "      <td>C</td>\n",
       "      <td>T</td>\n",
       "      <td>69-54=83-90</td>\n",
       "      <td>0|65|0|0=100|137|120|85</td>\n",
       "      <td>0|69|0|0=77|140|138|43</td>\n",
       "    </tr>\n",
       "    <tr>\n",
       "      <th>7097</th>\n",
       "      <td>chr7</td>\n",
       "      <td>159144893</td>\n",
       "      <td>159144893</td>\n",
       "      <td>T</td>\n",
       "      <td>C</td>\n",
       "      <td>2-8=7-44</td>\n",
       "      <td>0|2|5|6=7|7|5|8</td>\n",
       "      <td>0|38|54|12=30|61|54|28</td>\n",
       "    </tr>\n",
       "    <tr>\n",
       "      <th>7098</th>\n",
       "      <td>chr7</td>\n",
       "      <td>159144902</td>\n",
       "      <td>159144902</td>\n",
       "      <td>-</td>\n",
       "      <td>C</td>\n",
       "      <td>2-36=5-45</td>\n",
       "      <td>3|4|1|3=3|5|2|5</td>\n",
       "      <td>32|60|45|14=35|63|51|19</td>\n",
       "    </tr>\n",
       "  </tbody>\n",
       "</table>\n",
       "<p>7099 rows × 8 columns</p>\n",
       "</div>"
      ],
      "text/plain": [
       "       Chr      Start        End Ref  Alt        Tumor  \\\n",
       "0     chr7      35326      35326   C    T    0-13=0-13   \n",
       "1     chr7      35442      35442   -  TGC      2-0=2-2   \n",
       "2     chr7     248451     248451   G    A  2-4=100-239   \n",
       "3     chr7     248458     248458   T    C   0-3=76-235   \n",
       "4     chr7     248482     248482   -    A   0-3=27-220   \n",
       "...    ...        ...        ...  ..  ...          ...   \n",
       "7094  chr7  159142337  159142338   T    -     7-0=91-4   \n",
       "7095  chr7  159144277  159144277   C    A   1-1=183-25   \n",
       "7096  chr7  159144683  159144683   C    T  69-54=83-90   \n",
       "7097  chr7  159144893  159144893   T    C     2-8=7-44   \n",
       "7098  chr7  159144902  159144902   -    C    2-36=5-45   \n",
       "\n",
       "                       PONpos                    PONeg  \n",
       "0            0|1|0|0=4|1|31|0          0|5|0|3=2|5|0|3  \n",
       "1            6|0|1|0=6|0|17|0         4|1|1|0=5|4|29|2  \n",
       "2         1|1|1|0=69|55|86|65   0|0|0|0=102|116|135|75  \n",
       "3         1|1|1|0=49|45|66|49   0|0|0|0=114|118|139|79  \n",
       "4         0|0|0|0=23|23|25|22    0|0|1|0=95|105|130|68  \n",
       "...                       ...                      ...  \n",
       "7094      1|2|1|1=52|73|71|83          0|0|0|0=4|7|1|2  \n",
       "7095  0|0|0|0=166|275|218|113      0|0|0|0=27|29|27|17  \n",
       "7096  0|65|0|0=100|137|120|85   0|69|0|0=77|140|138|43  \n",
       "7097          0|2|5|6=7|7|5|8   0|38|54|12=30|61|54|28  \n",
       "7098          3|4|1|3=3|5|2|5  32|60|45|14=35|63|51|19  \n",
       "\n",
       "[7099 rows x 8 columns]"
      ]
     },
     "execution_count": 6,
     "metadata": {},
     "output_type": "execute_result"
    }
   ],
   "source": [
    "df"
   ]
  },
  {
   "cell_type": "markdown",
   "metadata": {},
   "source": [
    "### get_count_df for matrix2EB"
   ]
  },
  {
   "cell_type": "code",
   "execution_count": 43,
   "metadata": {},
   "outputs": [],
   "source": [
    "pon_string = \"6|0|1|0=6|0|17|0\""
   ]
  },
  {
   "cell_type": "code",
   "execution_count": 33,
   "metadata": {},
   "outputs": [
    {
     "data": {
      "text/plain": [
       "[['6', '0', '17', '0'], ['6', '0', '1', '0']]"
      ]
     },
     "execution_count": 33,
     "metadata": {},
     "output_type": "execute_result"
    }
   ],
   "source": [
    "from ebcore import minimize\n",
    "\n",
    "def \n",
    "arr = \n",
    "arr"
   ]
  },
  {
   "cell_type": "code",
   "execution_count": 44,
   "metadata": {},
   "outputs": [
    {
     "data": {
      "text/plain": [
       "array([[ 6,  6],\n",
       "       [ 0,  0],\n",
       "       [17,  1],\n",
       "       [ 0,  0]])"
      ]
     },
     "execution_count": 44,
     "metadata": {},
     "output_type": "execute_result"
    }
   ],
   "source": [
    "np.transpose([p.split(\"|\") for p in pon_string.split(\"=\")][::-1]).astype(int)"
   ]
  },
  {
   "cell_type": "markdown",
   "metadata": {},
   "source": [
    "## new style"
   ]
  },
  {
   "cell_type": "code",
   "execution_count": null,
   "metadata": {},
   "outputs": [],
   "source": [
    "from scipy.optimize import fmin_l_bfgs_b as minimize_func\n",
    "\n",
    "KS_matrix = np.array([[1, 0, 1, 1, 0, 1, 0, 0, 0], [\n",
    "                     0, 1, -1, 0, 1, -1, 0, 0, 0]])\n",
    "gamma_reduce = np.array([1, -1, -1, -1, 1, 1, 1, -1, -1])\n",
    "\n",
    "\n",
    "def bb_loglikelihood(params, count_df):\n",
    "    [a, b] = params\n",
    "    ab_matrix = np.array([1, 1, 1, a + b, a, b, a + b, a, b])\n",
    "    # convert df into matrix for np.array operations that change dims\n",
    "    count_matrix = count_df.values\n",
    "    # perform matrix multiplication to get inputs to log-gamma\n",
    "    input_matrix = np.matmul(count_matrix, KS_matrix) + ab_matrix\n",
    "    # get corresponding log-gamma values and reduce over pon-values\n",
    "    # make sure, count_df is 2d to safe the check\n",
    "    # if is_1d:  # check whether gammatrix is 2-dim - otherwise sum aggregation over axis 0 is faulty\n",
    "    #     gamma_matrix = gammaln(input_matrix)\n",
    "    # else:\n",
    "    gamma_matrix = np.sum(gammaln(input_matrix), axis=0)\n",
    "    # add or subtract using gamma_reduce matrix and sum to loglikelihood (scalar)\n",
    "    log_likelihood = np.sum(gamma_matrix * gamma_reduce)\n",
    "    return log_likelihood\n",
    "\n",
    "\n",
    "def bb_loglikelihood_fitting(params, count_df, penalty):\n",
    "    '''\n",
    "    Fitting params [alpha, beta] to maximize loglikelihood\n",
    "    '''\n",
    "\n",
    "    # Here, we apply the penalty term of alpha and beta (default 0.5 is slightly arbitray...)\n",
    "    result = penalty * \\\n",
    "        math.log(sum(params)) - bb_loglikelihood(params,\n",
    "                                                 count_df)  # matrix is dim2\n",
    "    return result\n",
    "\n",
    "\n",
    "def minimize(strand_count_df, pen):\n",
    "    '''\n",
    "    minimize the bb_loglikelihood to obtain AB params\n",
    "    '''\n",
    "    ab_params = minimize_func(\n",
    "        bb_loglikelihood_fitting, [20, 20],\n",
    "        args=(strand_count_df, pen), approx_grad=True,\n",
    "        bounds=[(0.1, 10000000), (1, 10000000)]\n",
    "    )[0]\n",
    "    return [round(param, 5) for param in ab_params]\n",
    "\n",
    "\n",
    "def fit_bb(PON_string, pen):\n",
    "    '''\n",
    "    Obtaining maximum likelihood estimator of beta-binomial distribution\n",
    "    count_df is the array of depth-mismatch (trials, success) pairs over the PoN list for either strand\n",
    "    during minimization of fitting function (max for loglikelihood) penalty term is applied to constrain alpha and beta\n",
    "        Ref for L-BFGS-B algorithm:\n",
    "        A Limited Memory Algorithm for Bound Constrained Optimization\n",
    "        R. H. Byrd, P. Lu and J. Nocedal. , (1995),\n",
    "        SIAM Journal on Scientific and Statistical Computing, 16, 5, pp. 1190-1208.\n",
    "    '''\n",
    "\n",
    "    # get the matrix from the PON_string\n",
    "    \n",
    "    np.transpose([p.split(\"|\") for p in PON_string.split(\"=\")][::-1]).astype(int)\n",
    "    # minimize loglikelihood using L-BFGS-B algorithm\n",
    "    \n",
    "    \n",
    "    \n",
    "    \n",
    "    AB = minimize(count_pos, pen)\n",
    "    return f\"{AB[0]}|{AB[1]}\""
   ]
  },
  {
   "cell_type": "code",
   "execution_count": null,
   "metadata": {},
   "outputs": [],
   "source": []
  },
  {
   "cell_type": "markdown",
   "metadata": {},
   "source": [
    "### old style"
   ]
  },
  {
   "cell_type": "code",
   "execution_count": 38,
   "metadata": {},
   "outputs": [
    {
     "data": {
      "text/html": [
       "<div>\n",
       "<style scoped>\n",
       "    .dataframe tbody tr th:only-of-type {\n",
       "        vertical-align: middle;\n",
       "    }\n",
       "\n",
       "    .dataframe tbody tr th {\n",
       "        vertical-align: top;\n",
       "    }\n",
       "\n",
       "    .dataframe thead th {\n",
       "        text-align: right;\n",
       "    }\n",
       "</style>\n",
       "<table border=\"1\" class=\"dataframe\">\n",
       "  <thead>\n",
       "    <tr style=\"text-align: right;\">\n",
       "      <th></th>\n",
       "      <th>alt+</th>\n",
       "      <th>alt-</th>\n",
       "      <th>depth+</th>\n",
       "      <th>depth-</th>\n",
       "    </tr>\n",
       "  </thead>\n",
       "  <tbody>\n",
       "    <tr>\n",
       "      <th>0</th>\n",
       "      <td>6</td>\n",
       "      <td>4</td>\n",
       "      <td>6</td>\n",
       "      <td>5</td>\n",
       "    </tr>\n",
       "    <tr>\n",
       "      <th>1</th>\n",
       "      <td>0</td>\n",
       "      <td>1</td>\n",
       "      <td>0</td>\n",
       "      <td>4</td>\n",
       "    </tr>\n",
       "    <tr>\n",
       "      <th>2</th>\n",
       "      <td>1</td>\n",
       "      <td>1</td>\n",
       "      <td>17</td>\n",
       "      <td>29</td>\n",
       "    </tr>\n",
       "    <tr>\n",
       "      <th>3</th>\n",
       "      <td>0</td>\n",
       "      <td>0</td>\n",
       "      <td>0</td>\n",
       "      <td>2</td>\n",
       "    </tr>\n",
       "  </tbody>\n",
       "</table>\n",
       "</div>"
      ],
      "text/plain": [
       "   alt+  alt-  depth+  depth-\n",
       "0     6     4       6       5\n",
       "1     0     1       0       4\n",
       "2     1     1      17      29\n",
       "3     0     0       0       2"
      ]
     },
     "execution_count": 38,
     "metadata": {},
     "output_type": "execute_result"
    }
   ],
   "source": [
    "from ebutils import get_count_df\n",
    "\n",
    "pon_string = \"6|0|1|0-4|1|1|0=6|0|17|0-5|4|29|2\"\n",
    "count_df = get_count_df(pon_string)\n",
    "count_df"
   ]
  },
  {
   "cell_type": "code",
   "execution_count": 39,
   "metadata": {},
   "outputs": [
    {
     "data": {
      "text/html": [
       "<div>\n",
       "<style scoped>\n",
       "    .dataframe tbody tr th:only-of-type {\n",
       "        vertical-align: middle;\n",
       "    }\n",
       "\n",
       "    .dataframe tbody tr th {\n",
       "        vertical-align: top;\n",
       "    }\n",
       "\n",
       "    .dataframe thead th {\n",
       "        text-align: right;\n",
       "    }\n",
       "</style>\n",
       "<table border=\"1\" class=\"dataframe\">\n",
       "  <thead>\n",
       "    <tr style=\"text-align: right;\">\n",
       "      <th></th>\n",
       "      <th>depth+</th>\n",
       "      <th>alt+</th>\n",
       "    </tr>\n",
       "  </thead>\n",
       "  <tbody>\n",
       "    <tr>\n",
       "      <th>0</th>\n",
       "      <td>6</td>\n",
       "      <td>6</td>\n",
       "    </tr>\n",
       "    <tr>\n",
       "      <th>1</th>\n",
       "      <td>0</td>\n",
       "      <td>0</td>\n",
       "    </tr>\n",
       "    <tr>\n",
       "      <th>2</th>\n",
       "      <td>17</td>\n",
       "      <td>1</td>\n",
       "    </tr>\n",
       "    <tr>\n",
       "      <th>3</th>\n",
       "      <td>0</td>\n",
       "      <td>0</td>\n",
       "    </tr>\n",
       "  </tbody>\n",
       "</table>\n",
       "</div>"
      ],
      "text/plain": [
       "   depth+  alt+\n",
       "0       6     6\n",
       "1       0     0\n",
       "2      17     1\n",
       "3       0     0"
      ]
     },
     "execution_count": 39,
     "metadata": {},
     "output_type": "execute_result"
    }
   ],
   "source": [
    "count_pos = count_df.loc[:, ['depth+', 'alt+']]\n",
    "count_pos"
   ]
  },
  {
   "cell_type": "code",
   "execution_count": 40,
   "metadata": {},
   "outputs": [
    {
     "data": {
      "text/plain": [
       "array([[ 6,  6],\n",
       "       [ 0,  0],\n",
       "       [17,  1],\n",
       "       [ 0,  0]])"
      ]
     },
     "execution_count": 40,
     "metadata": {},
     "output_type": "execute_result"
    }
   ],
   "source": [
    "count_pos.values"
   ]
  },
  {
   "cell_type": "code",
   "execution_count": 41,
   "metadata": {},
   "outputs": [
    {
     "data": {
      "text/plain": [
       "'0.62288|1.0-0.43362|1.0'"
      ]
     },
     "execution_count": 41,
     "metadata": {},
     "output_type": "execute_result"
    }
   ],
   "source": [
    "from ebcore import fit_bb\n",
    "fit_bb(count_df, 0.5)"
   ]
  },
  {
   "cell_type": "code",
   "execution_count": null,
   "metadata": {},
   "outputs": [],
   "source": []
  },
  {
   "cell_type": "code",
   "execution_count": 7,
   "metadata": {},
   "outputs": [
    {
     "ename": "KeyError",
     "evalue": "'PON:ALT=Depth'",
     "output_type": "error",
     "traceback": [
      "\u001b[0;31m---------------------------------------------------------------------------\u001b[0m",
      "\u001b[0;31mKeyError\u001b[0m                                  Traceback (most recent call last)",
      "\u001b[0;32m~/miniconda3/envs/eb-env/lib/python3.9/site-packages/pandas/core/indexes/base.py\u001b[0m in \u001b[0;36mget_loc\u001b[0;34m(self, key, method, tolerance)\u001b[0m\n\u001b[1;32m   3079\u001b[0m             \u001b[0;32mtry\u001b[0m\u001b[0;34m:\u001b[0m\u001b[0;34m\u001b[0m\u001b[0;34m\u001b[0m\u001b[0m\n\u001b[0;32m-> 3080\u001b[0;31m                 \u001b[0;32mreturn\u001b[0m \u001b[0mself\u001b[0m\u001b[0;34m.\u001b[0m\u001b[0m_engine\u001b[0m\u001b[0;34m.\u001b[0m\u001b[0mget_loc\u001b[0m\u001b[0;34m(\u001b[0m\u001b[0mcasted_key\u001b[0m\u001b[0;34m)\u001b[0m\u001b[0;34m\u001b[0m\u001b[0;34m\u001b[0m\u001b[0m\n\u001b[0m\u001b[1;32m   3081\u001b[0m             \u001b[0;32mexcept\u001b[0m \u001b[0mKeyError\u001b[0m \u001b[0;32mas\u001b[0m \u001b[0merr\u001b[0m\u001b[0;34m:\u001b[0m\u001b[0;34m\u001b[0m\u001b[0;34m\u001b[0m\u001b[0m\n",
      "\u001b[0;32mpandas/_libs/index.pyx\u001b[0m in \u001b[0;36mpandas._libs.index.IndexEngine.get_loc\u001b[0;34m()\u001b[0m\n",
      "\u001b[0;32mpandas/_libs/index.pyx\u001b[0m in \u001b[0;36mpandas._libs.index.IndexEngine.get_loc\u001b[0;34m()\u001b[0m\n",
      "\u001b[0;32mpandas/_libs/hashtable_class_helper.pxi\u001b[0m in \u001b[0;36mpandas._libs.hashtable.PyObjectHashTable.get_item\u001b[0;34m()\u001b[0m\n",
      "\u001b[0;32mpandas/_libs/hashtable_class_helper.pxi\u001b[0m in \u001b[0;36mpandas._libs.hashtable.PyObjectHashTable.get_item\u001b[0;34m()\u001b[0m\n",
      "\u001b[0;31mKeyError\u001b[0m: 'PON:ALT=Depth'",
      "\nThe above exception was the direct cause of the following exception:\n",
      "\u001b[0;31mKeyError\u001b[0m                                  Traceback (most recent call last)",
      "\u001b[0;32m<ipython-input-7-194ff3001ee6>\u001b[0m in \u001b[0;36m<module>\u001b[0;34m\u001b[0m\n\u001b[1;32m      2\u001b[0m \u001b[0mrow\u001b[0m \u001b[0;34m=\u001b[0m \u001b[0mdf\u001b[0m\u001b[0;34m.\u001b[0m\u001b[0miloc\u001b[0m\u001b[0;34m[\u001b[0m\u001b[0;36m2\u001b[0m\u001b[0;34m,\u001b[0m\u001b[0;34m:\u001b[0m\u001b[0;34m]\u001b[0m\u001b[0;34m\u001b[0m\u001b[0;34m\u001b[0m\u001b[0m\n\u001b[1;32m      3\u001b[0m \u001b[0mrow\u001b[0m\u001b[0;34m\u001b[0m\u001b[0;34m\u001b[0m\u001b[0m\n\u001b[0;32m----> 4\u001b[0;31m \u001b[0mcdf\u001b[0m \u001b[0;34m=\u001b[0m \u001b[0mget_count_df\u001b[0m\u001b[0;34m(\u001b[0m\u001b[0mrow\u001b[0m\u001b[0;34m[\u001b[0m\u001b[0;34m'PON:ALT=Depth'\u001b[0m\u001b[0;34m]\u001b[0m\u001b[0;34m,\u001b[0m \u001b[0mEBconfig\u001b[0m\u001b[0;34m[\u001b[0m\u001b[0;34m\"count_dict\"\u001b[0m\u001b[0;34m]\u001b[0m\u001b[0;34m)\u001b[0m\u001b[0;34m\u001b[0m\u001b[0;34m\u001b[0m\u001b[0m\n\u001b[0m\u001b[1;32m      5\u001b[0m \u001b[0mcdf\u001b[0m\u001b[0;34m\u001b[0m\u001b[0;34m\u001b[0m\u001b[0m\n",
      "\u001b[0;32m~/miniconda3/envs/eb-env/lib/python3.9/site-packages/pandas/core/series.py\u001b[0m in \u001b[0;36m__getitem__\u001b[0;34m(self, key)\u001b[0m\n\u001b[1;32m    851\u001b[0m \u001b[0;34m\u001b[0m\u001b[0m\n\u001b[1;32m    852\u001b[0m         \u001b[0;32melif\u001b[0m \u001b[0mkey_is_scalar\u001b[0m\u001b[0;34m:\u001b[0m\u001b[0;34m\u001b[0m\u001b[0;34m\u001b[0m\u001b[0m\n\u001b[0;32m--> 853\u001b[0;31m             \u001b[0;32mreturn\u001b[0m \u001b[0mself\u001b[0m\u001b[0;34m.\u001b[0m\u001b[0m_get_value\u001b[0m\u001b[0;34m(\u001b[0m\u001b[0mkey\u001b[0m\u001b[0;34m)\u001b[0m\u001b[0;34m\u001b[0m\u001b[0;34m\u001b[0m\u001b[0m\n\u001b[0m\u001b[1;32m    854\u001b[0m \u001b[0;34m\u001b[0m\u001b[0m\n\u001b[1;32m    855\u001b[0m         \u001b[0;32mif\u001b[0m \u001b[0mis_hashable\u001b[0m\u001b[0;34m(\u001b[0m\u001b[0mkey\u001b[0m\u001b[0;34m)\u001b[0m\u001b[0;34m:\u001b[0m\u001b[0;34m\u001b[0m\u001b[0;34m\u001b[0m\u001b[0m\n",
      "\u001b[0;32m~/miniconda3/envs/eb-env/lib/python3.9/site-packages/pandas/core/series.py\u001b[0m in \u001b[0;36m_get_value\u001b[0;34m(self, label, takeable)\u001b[0m\n\u001b[1;32m    959\u001b[0m \u001b[0;34m\u001b[0m\u001b[0m\n\u001b[1;32m    960\u001b[0m         \u001b[0;31m# Similar to Index.get_value, but we do not fall back to positional\u001b[0m\u001b[0;34m\u001b[0m\u001b[0;34m\u001b[0m\u001b[0;34m\u001b[0m\u001b[0m\n\u001b[0;32m--> 961\u001b[0;31m         \u001b[0mloc\u001b[0m \u001b[0;34m=\u001b[0m \u001b[0mself\u001b[0m\u001b[0;34m.\u001b[0m\u001b[0mindex\u001b[0m\u001b[0;34m.\u001b[0m\u001b[0mget_loc\u001b[0m\u001b[0;34m(\u001b[0m\u001b[0mlabel\u001b[0m\u001b[0;34m)\u001b[0m\u001b[0;34m\u001b[0m\u001b[0;34m\u001b[0m\u001b[0m\n\u001b[0m\u001b[1;32m    962\u001b[0m         \u001b[0;32mreturn\u001b[0m \u001b[0mself\u001b[0m\u001b[0;34m.\u001b[0m\u001b[0mindex\u001b[0m\u001b[0;34m.\u001b[0m\u001b[0m_get_values_for_loc\u001b[0m\u001b[0;34m(\u001b[0m\u001b[0mself\u001b[0m\u001b[0;34m,\u001b[0m \u001b[0mloc\u001b[0m\u001b[0;34m,\u001b[0m \u001b[0mlabel\u001b[0m\u001b[0;34m)\u001b[0m\u001b[0;34m\u001b[0m\u001b[0;34m\u001b[0m\u001b[0m\n\u001b[1;32m    963\u001b[0m \u001b[0;34m\u001b[0m\u001b[0m\n",
      "\u001b[0;32m~/miniconda3/envs/eb-env/lib/python3.9/site-packages/pandas/core/indexes/base.py\u001b[0m in \u001b[0;36mget_loc\u001b[0;34m(self, key, method, tolerance)\u001b[0m\n\u001b[1;32m   3080\u001b[0m                 \u001b[0;32mreturn\u001b[0m \u001b[0mself\u001b[0m\u001b[0;34m.\u001b[0m\u001b[0m_engine\u001b[0m\u001b[0;34m.\u001b[0m\u001b[0mget_loc\u001b[0m\u001b[0;34m(\u001b[0m\u001b[0mcasted_key\u001b[0m\u001b[0;34m)\u001b[0m\u001b[0;34m\u001b[0m\u001b[0;34m\u001b[0m\u001b[0m\n\u001b[1;32m   3081\u001b[0m             \u001b[0;32mexcept\u001b[0m \u001b[0mKeyError\u001b[0m \u001b[0;32mas\u001b[0m \u001b[0merr\u001b[0m\u001b[0;34m:\u001b[0m\u001b[0;34m\u001b[0m\u001b[0;34m\u001b[0m\u001b[0m\n\u001b[0;32m-> 3082\u001b[0;31m                 \u001b[0;32mraise\u001b[0m \u001b[0mKeyError\u001b[0m\u001b[0;34m(\u001b[0m\u001b[0mkey\u001b[0m\u001b[0;34m)\u001b[0m \u001b[0;32mfrom\u001b[0m \u001b[0merr\u001b[0m\u001b[0;34m\u001b[0m\u001b[0;34m\u001b[0m\u001b[0m\n\u001b[0m\u001b[1;32m   3083\u001b[0m \u001b[0;34m\u001b[0m\u001b[0m\n\u001b[1;32m   3084\u001b[0m         \u001b[0;32mif\u001b[0m \u001b[0mtolerance\u001b[0m \u001b[0;32mis\u001b[0m \u001b[0;32mnot\u001b[0m \u001b[0;32mNone\u001b[0m\u001b[0;34m:\u001b[0m\u001b[0;34m\u001b[0m\u001b[0;34m\u001b[0m\u001b[0m\n",
      "\u001b[0;31mKeyError\u001b[0m: 'PON:ALT=Depth'"
     ]
    }
   ],
   "source": [
    "from ebutils import get_count_df\n",
    "row = df.iloc[2,:]\n",
    "row\n",
    "cdf = get_count_df(row['PON:ALT=Depth'], EBconfig[\"count_dict\"])\n",
    "cdf"
   ]
  },
  {
   "cell_type": "code",
   "execution_count": null,
   "metadata": {},
   "outputs": [],
   "source": [
    "from ebconvert import matrix2AB\n",
    "from ebcore import fit_bb\n",
    "bb_params = fit_bb(cdf, 0.5)\n",
    "bb_params"
   ]
  },
  {
   "cell_type": "code",
   "execution_count": null,
   "metadata": {},
   "outputs": [],
   "source": [
    "matrix2AB(row, config=EBconfig)"
   ]
  },
  {
   "cell_type": "markdown",
   "metadata": {},
   "source": [
    "### expand matrix2AB to df"
   ]
  },
  {
   "cell_type": "code",
   "execution_count": null,
   "metadata": {},
   "outputs": [],
   "source": [
    "df['ABparams'] = df.apply(matrix2AB, config=EBconfig, axis=1)\n",
    "df[:3]"
   ]
  },
  {
   "cell_type": "markdown",
   "metadata": {},
   "source": [
    "## AB to EB"
   ]
  },
  {
   "cell_type": "code",
   "execution_count": null,
   "metadata": {},
   "outputs": [],
   "source": [
    "# make a row with the same values as in EBold for comparison\n",
    "row_dict = {\n",
    "    \"Chr\": [\"chr7\"],\n",
    "    \"Start\": 680651,\n",
    "    \"Tumor:Alt=Depth\": \"0-5=12-42\",\n",
    "    \"ABparams\": \"0.20509|23.07746-0.22661|2.47235\"\n",
    "}\n",
    "\n",
    "test_row = pd.DataFrame().from_dict(row_dict).iloc[0]\n",
    "test_row\n",
    "from ebconvert import AB2EBscore\n",
    "AB2EBscore(test_row, config=EBconfig)"
   ]
  },
  {
   "cell_type": "code",
   "execution_count": null,
   "metadata": {},
   "outputs": [],
   "source": [
    "df['EBscore'] = df.apply(AB2EBscore, config=EBconfig, axis=1)\n",
    "df"
   ]
  }
 ],
 "metadata": {
  "kernelspec": {
   "display_name": "Python 3",
   "language": "python",
   "name": "python3"
  },
  "language_info": {
   "codemirror_mode": {
    "name": "ipython",
    "version": 3
   },
   "file_extension": ".py",
   "mimetype": "text/x-python",
   "name": "python",
   "nbconvert_exporter": "python",
   "pygments_lexer": "ipython3",
   "version": "3.9.2"
  },
  "varInspector": {
   "cols": {
    "lenName": 16,
    "lenType": 16,
    "lenVar": 40
   },
   "kernels_config": {
    "python": {
     "delete_cmd_postfix": "",
     "delete_cmd_prefix": "del ",
     "library": "var_list.py",
     "varRefreshCmd": "print(var_dic_list())"
    },
    "r": {
     "delete_cmd_postfix": ") ",
     "delete_cmd_prefix": "rm(",
     "library": "var_list.r",
     "varRefreshCmd": "cat(var_dic_list()) "
    }
   },
   "types_to_exclude": [
    "module",
    "function",
    "builtin_function_or_method",
    "instance",
    "_Feature"
   ],
   "window_display": false
  }
 },
 "nbformat": 4,
 "nbformat_minor": 4
}
