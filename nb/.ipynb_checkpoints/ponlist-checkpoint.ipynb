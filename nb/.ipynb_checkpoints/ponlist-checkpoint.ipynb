{
 "cells": [
  {
   "cell_type": "markdown",
   "metadata": {},
   "source": [
    "### check the pon list\n",
    "+ if bam_file is contained in pon_list, return reduced pon_list and "
   ]
  },
  {
   "cell_type": "code",
   "execution_count": 1,
   "metadata": {},
   "outputs": [],
   "source": [
    "# set the paths\n",
    "home = '/Users/mahtin'\n",
    "home = '/Users/martinscience'\n",
    "testdata = f\"{home}/Dropbox/Icke/Work/somVar/testdata\"\n",
    "ebdata = f\"{testdata}/EBdata\"\n",
    "pon_path = f\"{testdata}/testpon\"\n",
    "static = f\"{home}/Dropbox/Icke/Work/static\""
   ]
  },
  {
   "cell_type": "code",
   "execution_count": 2,
   "metadata": {},
   "outputs": [],
   "source": [
    "bam_file = '002_A.bam'\n",
    "pon_list = os.path.join(pon_path, \"Pon_chr7short.txt\")"
   ]
  },
  {
   "cell_type": "markdown",
   "metadata": {},
   "source": [
    "### get the bam base"
   ]
  },
  {
   "cell_type": "code",
   "execution_count": 75,
   "metadata": {},
   "outputs": [],
   "source": [
    "def get_pon(bam_file, pon_list, pon_path='', prepend_bam=False):\n",
    "    '''\n",
    "    checks whether bam_file is contained in the pon_list\n",
    "    returns reduced pon_list and the matching 1-based position in the pon_list\n",
    "    '''\n",
    "    # get the stripped sample name\n",
    "    sample_base = bam_file.replace('.bam', '').split('_')[0].lstrip(\"0\")\n",
    "    # pon path is not \"\", add a backslash\n",
    "    if pon_path:\n",
    "        pon_path += \"/\"\n",
    "    # load the pon_list into df\n",
    "    pon_df = pd.read_csv(pon_list, header=None, names=['bam'])\n",
    "    # extract the stripped sample into sample column\n",
    "    pon_df['basename'] = pon_df['bam'].str.split('/', expand=True)[1]\n",
    "    pon_df['sample'] = pon_df['basename'].str.replace(\n",
    "        '.bam', \"\").str.split(\"_\", expand=True)[0].str.lstrip('0')\n",
    "    pon_df['bam'] = f\"{pon_path}\" + pon_df['bam']\n",
    "    # add bam to beginning if prepend_bam == True\n",
    "    if prepend_bam:\n",
    "        pon_df = pd.concat(\n",
    "            [pd.DataFrame([{'bam': bam_file}]), pon_df]).reset_index()\n",
    "\n",
    "    if pon_df.query('sample == @sample_base').empty:\n",
    "        return pon_df.loc[:, ['bam']], 0, ''\n",
    "    # bam is in pon\n",
    "    reduced_pon_df = pon_df.query('sample != @sample_base').loc[:, ['bam']]\n",
    "    pos = pon_df.query('sample == @sample_base').index[0] + 1 - int(prepend_bam)\n",
    "    removed_pon = pon_df.query('sample == @sample_base').iloc[0, 0]\n",
    "    return reduced_pon_df, pos, removed_pon"
   ]
  },
  {
   "cell_type": "code",
   "execution_count": 76,
   "metadata": {},
   "outputs": [],
   "source": [
    "pon_df, pos, removed_pon = get_pon(bam_file, pon_list, pon_path=pon_path, prepend_bam=False)"
   ]
  },
  {
   "cell_type": "code",
   "execution_count": 78,
   "metadata": {},
   "outputs": [
    {
     "data": {
      "text/html": [
       "<div>\n",
       "<style scoped>\n",
       "    .dataframe tbody tr th:only-of-type {\n",
       "        vertical-align: middle;\n",
       "    }\n",
       "\n",
       "    .dataframe tbody tr th {\n",
       "        vertical-align: top;\n",
       "    }\n",
       "\n",
       "    .dataframe thead th {\n",
       "        text-align: right;\n",
       "    }\n",
       "</style>\n",
       "<table border=\"1\" class=\"dataframe\">\n",
       "  <thead>\n",
       "    <tr style=\"text-align: right;\">\n",
       "      <th></th>\n",
       "      <th>bam</th>\n",
       "    </tr>\n",
       "  </thead>\n",
       "  <tbody>\n",
       "    <tr>\n",
       "      <th>0</th>\n",
       "      <td>/Users/martinscience/Dropbox/Icke/Work/somVar/...</td>\n",
       "    </tr>\n",
       "    <tr>\n",
       "      <th>2</th>\n",
       "      <td>/Users/martinscience/Dropbox/Icke/Work/somVar/...</td>\n",
       "    </tr>\n",
       "    <tr>\n",
       "      <th>3</th>\n",
       "      <td>/Users/martinscience/Dropbox/Icke/Work/somVar/...</td>\n",
       "    </tr>\n",
       "    <tr>\n",
       "      <th>4</th>\n",
       "      <td>/Users/martinscience/Dropbox/Icke/Work/somVar/...</td>\n",
       "    </tr>\n",
       "  </tbody>\n",
       "</table>\n",
       "</div>"
      ],
      "text/plain": [
       "                                                 bam\n",
       "0  /Users/martinscience/Dropbox/Icke/Work/somVar/...\n",
       "2  /Users/martinscience/Dropbox/Icke/Work/somVar/...\n",
       "3  /Users/martinscience/Dropbox/Icke/Work/somVar/...\n",
       "4  /Users/martinscience/Dropbox/Icke/Work/somVar/..."
      ]
     },
     "execution_count": 78,
     "metadata": {},
     "output_type": "execute_result"
    }
   ],
   "source": [
    "pon_df"
   ]
  },
  {
   "cell_type": "markdown",
   "metadata": {},
   "source": [
    "### return reduced pon_file"
   ]
  },
  {
   "cell_type": "code",
   "execution_count": 29,
   "metadata": {},
   "outputs": [
    {
     "data": {
      "text/html": [
       "<div>\n",
       "<style scoped>\n",
       "    .dataframe tbody tr th:only-of-type {\n",
       "        vertical-align: middle;\n",
       "    }\n",
       "\n",
       "    .dataframe tbody tr th {\n",
       "        vertical-align: top;\n",
       "    }\n",
       "\n",
       "    .dataframe thead th {\n",
       "        text-align: right;\n",
       "    }\n",
       "</style>\n",
       "<table border=\"1\" class=\"dataframe\">\n",
       "  <thead>\n",
       "    <tr style=\"text-align: right;\">\n",
       "      <th></th>\n",
       "      <th>bam</th>\n",
       "    </tr>\n",
       "  </thead>\n",
       "  <tbody>\n",
       "    <tr>\n",
       "      <th>0</th>\n",
       "      <td>bam/001_B.chr7.bam</td>\n",
       "    </tr>\n",
       "    <tr>\n",
       "      <th>2</th>\n",
       "      <td>bam/003_B.chr7.bam</td>\n",
       "    </tr>\n",
       "    <tr>\n",
       "      <th>3</th>\n",
       "      <td>bam/004_B.chr7.bam</td>\n",
       "    </tr>\n",
       "    <tr>\n",
       "      <th>4</th>\n",
       "      <td>bam/005_B.chr7.bam</td>\n",
       "    </tr>\n",
       "  </tbody>\n",
       "</table>\n",
       "</div>"
      ],
      "text/plain": [
       "                  bam\n",
       "0  bam/001_B.chr7.bam\n",
       "2  bam/003_B.chr7.bam\n",
       "3  bam/004_B.chr7.bam\n",
       "4  bam/005_B.chr7.bam"
      ]
     },
     "execution_count": 29,
     "metadata": {},
     "output_type": "execute_result"
    }
   ],
   "source": []
  },
  {
   "cell_type": "code",
   "execution_count": 32,
   "metadata": {},
   "outputs": [
    {
     "data": {
      "text/plain": [
       "True"
      ]
     },
     "execution_count": 32,
     "metadata": {},
     "output_type": "execute_result"
    }
   ],
   "source": [
    "pon_df.query('sample == \"sd\"').empty"
   ]
  },
  {
   "cell_type": "code",
   "execution_count": null,
   "metadata": {},
   "outputs": [],
   "source": []
  }
 ],
 "metadata": {
  "kernelspec": {
   "display_name": "Python 3",
   "language": "python",
   "name": "python3"
  },
  "language_info": {
   "codemirror_mode": {
    "name": "ipython",
    "version": 3
   },
   "file_extension": ".py",
   "mimetype": "text/x-python",
   "name": "python",
   "nbconvert_exporter": "python",
   "pygments_lexer": "ipython3",
   "version": "3.8.5"
  }
 },
 "nbformat": 4,
 "nbformat_minor": 4
}
