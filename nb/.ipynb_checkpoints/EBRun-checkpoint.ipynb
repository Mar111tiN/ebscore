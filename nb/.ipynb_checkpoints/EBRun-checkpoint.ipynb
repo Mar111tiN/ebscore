{
 "cells": [
  {
   "cell_type": "code",
   "execution_count": 1,
   "metadata": {
    "ExecuteTime": {
     "end_time": "2020-09-10T07:16:44.427219Z",
     "start_time": "2020-09-10T07:16:44.423861Z"
    }
   },
   "outputs": [],
   "source": [
    "# get the code\n",
    "import sys\n",
    "import os\n",
    "sys.path.append('../code')\n",
    "\n",
    "# set the paths\n",
    "home = '/Users/martinscience'\n",
    "home = '/Users/mahtin'\n",
    "\n",
    "\n",
    "somvar_path = os.path.join(home, \"Dropbox/Icke/Work/somVar\")\n",
    "testdata = os.path.join(somvar_path, \"testdata\")\n",
    "ebdata = os.path.join(somvar_path, \"tooldata/EBdata\")\n",
    "pon_path = os.path.join(testdata, \"PON\")\n",
    "\n",
    "static = os.path.join(home, \"Dropbox/Icke/Work/static\")"
   ]
  },
  {
   "cell_type": "code",
   "execution_count": 2,
   "metadata": {},
   "outputs": [
    {
     "name": "stdout",
     "output_type": "stream",
     "text": [
      "\u001b[1;35;2m21:47:37\u001b[0m : \u001b[1;30;1mComputing EBscore for chrom chr7 on target /Users/mahtin/Dropbox/Icke/Work/somVar/testdata/bam/002_A.chr7.bam\u001b[0m\n",
      "\u001b[1;30;1mRetrieving tumor data and PONmatrix\u001b[0m\n",
      "\u001b[1;35;2m21:47:37\u001b[0m : \u001b[1;31;1m02_B.chr7.bam from PON list matches /Users/mahtin/Dropbox/Icke/Work/somVar/testdata/bam/002_A.chr7.bam and is removed from pon_list. If not desired, change names\u001b[0m\n",
      "\u001b[1m$ samtools mpileup -Q 25 -q 20 -l /Users/mahtin/Dropbox/Icke/Work/somVar/tooldata/EBdata/temp/002_A-B_chr7.bed -f /Users/mahtin/Dropbox/Icke/Work/static/genome/gatk/hg38/split/chr7.fa -r chr7 /Users/mahtin/Dropbox/Icke/Work/somVar/testdata/bam/002_A.chr7.bam | ../shell/cleanpileup.mawk | ../shell/pile2count.mawk | ../shell/tumor2matrix.mawk /Users/mahtin/Dropbox/Icke/Work/somVar/tooldata/EBdata/table/002_A-B.csv chr7 -P /Users/mahtin/Dropbox/Icke/Work/somVar/testdata/PON/matrix/chr7.pon.gz -A /Users/mahtin/Dropbox/Icke/Work/somVar/testdata/PON/ABcache/chr7.AB.gz -x 2\u001b[0m\n",
      "\u001b[1;35;2m21:47:47\u001b[0m : \u001b[1;36;1mPONmatrix computation on chrom chr7 of /Users/mahtin/Dropbox/Icke/Work/somVar/testdata/bam/002_A.chr7.bam finished. Starting AB computation..\u001b[0m\n"
     ]
    },
    {
     "ename": "KeyError",
     "evalue": "'threads'",
     "output_type": "error",
     "traceback": [
      "\u001b[0;31m---------------------------------------------------------------------------\u001b[0m",
      "\u001b[0;31mKeyError\u001b[0m                                  Traceback (most recent call last)",
      "\u001b[0;32m<ipython-input-2-19e56bd2290c>\u001b[0m in \u001b[0;36m<module>\u001b[0;34m\u001b[0m\n\u001b[1;32m     22\u001b[0m \u001b[0;34m\u001b[0m\u001b[0m\n\u001b[1;32m     23\u001b[0m \u001b[0moutput\u001b[0m \u001b[0;34m=\u001b[0m \u001b[0mos\u001b[0m\u001b[0;34m.\u001b[0m\u001b[0mpath\u001b[0m\u001b[0;34m.\u001b[0m\u001b[0mjoin\u001b[0m\u001b[0;34m(\u001b[0m\u001b[0mebdata\u001b[0m\u001b[0;34m,\u001b[0m \u001b[0;34m\"EB/02_A.EB\"\u001b[0m\u001b[0;34m)\u001b[0m\u001b[0;34m\u001b[0m\u001b[0;34m\u001b[0m\u001b[0m\n\u001b[0;32m---> 24\u001b[0;31m df = run_ebscore(mut_file, \n\u001b[0m\u001b[1;32m     25\u001b[0m                  \u001b[0mtumor_bam\u001b[0m\u001b[0;34m=\u001b[0m\u001b[0mbam_file\u001b[0m\u001b[0;34m,\u001b[0m\u001b[0;34m\u001b[0m\u001b[0;34m\u001b[0m\u001b[0m\n\u001b[1;32m     26\u001b[0m                  \u001b[0moutput_file\u001b[0m\u001b[0;34m=\u001b[0m\u001b[0moutput\u001b[0m\u001b[0;34m,\u001b[0m\u001b[0;34m\u001b[0m\u001b[0;34m\u001b[0m\u001b[0m\n",
      "\u001b[0;32m~/Sites/Bio/ebscore/code/ebrun.py\u001b[0m in \u001b[0;36mrun_ebscore\u001b[0;34m(mut_file, tumor_bam, pileup_file, output_file, pon_list, chrom, config)\u001b[0m\n\u001b[1;32m     71\u001b[0m             \u001b[0;34mf\"PONmatrix computation on chrom {chrom} of {tumor_file} finished. Starting AB computation..\"\u001b[0m\u001b[0;34m,\u001b[0m \u001b[0mcolor\u001b[0m\u001b[0;34m=\u001b[0m\u001b[0;34m\"success\"\u001b[0m\u001b[0;34m\u001b[0m\u001b[0;34m\u001b[0m\u001b[0m\n\u001b[1;32m     72\u001b[0m         )\n\u001b[0;32m---> 73\u001b[0;31m         \u001b[0mAB_df\u001b[0m \u001b[0;34m=\u001b[0m \u001b[0mmatrix2AB_multi\u001b[0m\u001b[0;34m(\u001b[0m\u001b[0mmatrix_df\u001b[0m\u001b[0;34m,\u001b[0m \u001b[0mconfig\u001b[0m\u001b[0;34m=\u001b[0m\u001b[0mconfig\u001b[0m\u001b[0;34m)\u001b[0m\u001b[0;34m\u001b[0m\u001b[0;34m\u001b[0m\u001b[0m\n\u001b[0m\u001b[1;32m     74\u001b[0m         \u001b[0mshow_output\u001b[0m\u001b[0;34m(\u001b[0m\u001b[0;34mf\"Computing ABparams finished.\"\u001b[0m\u001b[0;34m,\u001b[0m \u001b[0mcolor\u001b[0m\u001b[0;34m=\u001b[0m\u001b[0;34m\"success\"\u001b[0m\u001b[0;34m)\u001b[0m\u001b[0;34m\u001b[0m\u001b[0;34m\u001b[0m\u001b[0m\n\u001b[1;32m     75\u001b[0m         \u001b[0;32mif\u001b[0m \u001b[0mdebug\u001b[0m\u001b[0;34m:\u001b[0m\u001b[0;34m\u001b[0m\u001b[0;34m\u001b[0m\u001b[0m\n",
      "\u001b[0;32m~/Sites/Bio/ebscore/code/matrix2AB.py\u001b[0m in \u001b[0;36mmatrix2AB_multi\u001b[0;34m(matrix_df, config)\u001b[0m\n\u001b[1;32m    151\u001b[0m     \"\"\"\n\u001b[1;32m    152\u001b[0m \u001b[0;34m\u001b[0m\u001b[0m\n\u001b[0;32m--> 153\u001b[0;31m     \u001b[0mthreads\u001b[0m \u001b[0;34m=\u001b[0m \u001b[0mconfig\u001b[0m\u001b[0;34m[\u001b[0m\u001b[0;34m\"threads\"\u001b[0m\u001b[0;34m]\u001b[0m\u001b[0;34m\u001b[0m\u001b[0;34m\u001b[0m\u001b[0m\n\u001b[0m\u001b[1;32m    154\u001b[0m \u001b[0;34m\u001b[0m\u001b[0m\n\u001b[1;32m    155\u001b[0m     \u001b[0mpool\u001b[0m \u001b[0;34m=\u001b[0m \u001b[0mPool\u001b[0m\u001b[0;34m(\u001b[0m\u001b[0mthreads\u001b[0m\u001b[0;34m)\u001b[0m\u001b[0;34m\u001b[0m\u001b[0;34m\u001b[0m\u001b[0m\n",
      "\u001b[0;31mKeyError\u001b[0m: 'threads'"
     ]
    }
   ],
   "source": [
    "from ebrun import run_ebscore\n",
    "EBconfig = {\n",
    "    \"temp_dir\": os.path.join(ebdata, \"temp\"),\n",
    "    \"pon_path\": pon_path,\n",
    "    \"mawk_path\": \"../shell\",\n",
    "    \"genome_split\": os.path.join(static, \"genome/gatk/hg38/split\"),\n",
    "    \"MAPQ\": 20,\n",
    "    \"Q\": 25,\n",
    "    \"fit_pen\": 0.5,\n",
    "    \"AB_chunk_size\": 500, # size of AB_df splits for multithreaded computation \n",
    "    \"zero_condense_factor\": 13,  # how much complexity remains after flattening the tumor-zero lines\n",
    "    \"use_cache\": True,\n",
    "    \"threads\": 8,\n",
    "    \"debug\": False\n",
    "}\n",
    "\n",
    "bam_file = os.path.join(testdata,\"bam/002_A.chr7.bam\")\n",
    "bam2_file = os.path.join(ebdata, \"temp/test.chr7.bam\")\n",
    "pileup_file = os.path.join(ebdata, \"pileup/002_A-B.pileup.gz\")\n",
    "mut_file = os.path.join(ebdata, \"table/002_A-B.csv\")\n",
    "pon_list = \"PON_chr7.txt\"\n",
    "chrom = \"chr7\"\n",
    "\n",
    "output = os.path.join(ebdata, \"EB/02_A.EB\")\n",
    "df = run_ebscore(mut_file, \n",
    "                 tumor_bam=bam_file,\n",
    "                 output_file=output,\n",
    "                 pon_list=pon_list,\n",
    "                 chrom=chrom,\n",
    "                 config=EBconfig\n",
    "                )"
   ]
  },
  {
   "cell_type": "code",
   "execution_count": null,
   "metadata": {},
   "outputs": [],
   "source": []
  }
 ],
 "metadata": {
  "kernelspec": {
   "display_name": "Python 3",
   "language": "python",
   "name": "python3"
  },
  "language_info": {
   "codemirror_mode": {
    "name": "ipython",
    "version": 3
   },
   "file_extension": ".py",
   "mimetype": "text/x-python",
   "name": "python",
   "nbconvert_exporter": "python",
   "pygments_lexer": "ipython3",
   "version": "3.8.5"
  },
  "varInspector": {
   "cols": {
    "lenName": 16,
    "lenType": 16,
    "lenVar": 40
   },
   "kernels_config": {
    "python": {
     "delete_cmd_postfix": "",
     "delete_cmd_prefix": "del ",
     "library": "var_list.py",
     "varRefreshCmd": "print(var_dic_list())"
    },
    "r": {
     "delete_cmd_postfix": ") ",
     "delete_cmd_prefix": "rm(",
     "library": "var_list.r",
     "varRefreshCmd": "cat(var_dic_list()) "
    }
   },
   "types_to_exclude": [
    "module",
    "function",
    "builtin_function_or_method",
    "instance",
    "_Feature"
   ],
   "window_display": false
  }
 },
 "nbformat": 4,
 "nbformat_minor": 4
}
