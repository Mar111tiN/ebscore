{
 "cells": [
  {
   "cell_type": "markdown",
   "metadata": {},
   "source": [
    "## Making the EBcache\n",
    "+ should work similar to EBscore with these differences:\n",
    "    * no tumor bam is needed"
   ]
  },
  {
   "cell_type": "code",
   "execution_count": 2,
   "metadata": {
    "ExecuteTime": {
     "end_time": "2020-09-10T07:16:44.427219Z",
     "start_time": "2020-09-10T07:16:44.423861Z"
    }
   },
   "outputs": [],
   "source": [
    "# get the code\n",
    "import sys\n",
    "import os\n",
    "sys.path.append('../code')\n",
    "\n",
    "# set the paths\n",
    "home = '/Users/martinscience'\n",
    "#  home = '/Users/mahtin'\n",
    "\n",
    "\n",
    "somvar_path = os.path.join(home, \"Dropbox/Icke/Work/somVar\")\n",
    "testdata = os.path.join(somvar_path, \"testdata\")\n",
    "ebdata = os.path.join(somvar_path, \"tooldata/EBdata\")\n",
    "pon_path = os.path.join(testdata, \"PON\")\n",
    "\n",
    "static = os.path.join(home, \"Dropbox/Icke/Work/static\")"
   ]
  },
  {
   "cell_type": "markdown",
   "metadata": {},
   "source": [
    "## make EBcache matrix\n",
    "+ to be used by bam2matrix in cache-mode"
   ]
  },
  {
   "cell_type": "markdown",
   "metadata": {},
   "source": [
    "from ebcache import PON2matrix\n",
    "\n",
    "EBconfig = {\n",
    "    \"temp_dir\": os.path.join(ebdata, \"temp\"),\n",
    "    \"pon_path\": pon_path,\n",
    "    \"zero_path\": os.path.join(pon_path, \"zero\"),\n",
    "    \"bed_file\": os.path.join(static, \"bed_files/SureSelect/hg38/SS_HAEv7_hg38_Padded.bed\"),\n",
    "    \"mawk_path\": \"../shell\",\n",
    "    \"genome_split\": f\"{static}/genome/gatk/hg38/split\",\n",
    "    \"MAPQ\": 20,\n",
    "    \"Q\": 25,\n",
    "    \"fit_pen\": 0.5,\n",
    "    \"use_cache\": True\n",
    "}\n",
    "pon_list = \"PON_chr19.txt\"\n",
    "chrom = \"chr19\"\n",
    "\n",
    "PON2matrix(pon_list, chrom, EBconfig)"
   ]
  },
  {
   "cell_type": "code",
   "execution_count": 3,
   "metadata": {},
   "outputs": [
    {
     "data": {
      "text/html": [
       "<div>\n",
       "<style scoped>\n",
       "    .dataframe tbody tr th:only-of-type {\n",
       "        vertical-align: middle;\n",
       "    }\n",
       "\n",
       "    .dataframe tbody tr th {\n",
       "        vertical-align: top;\n",
       "    }\n",
       "\n",
       "    .dataframe thead th {\n",
       "        text-align: right;\n",
       "    }\n",
       "</style>\n",
       "<table border=\"1\" class=\"dataframe\">\n",
       "  <thead>\n",
       "    <tr style=\"text-align: right;\">\n",
       "      <th></th>\n",
       "      <th>Chr</th>\n",
       "      <th>Start</th>\n",
       "      <th>Ref</th>\n",
       "      <th>A</th>\n",
       "      <th>G</th>\n",
       "      <th>C</th>\n",
       "      <th>T</th>\n",
       "      <th>I</th>\n",
       "      <th>D</th>\n",
       "      <th>Depth</th>\n",
       "    </tr>\n",
       "  </thead>\n",
       "  <tbody>\n",
       "    <tr>\n",
       "      <th>0</th>\n",
       "      <td>chr19</td>\n",
       "      <td>66218</td>\n",
       "      <td>C</td>\n",
       "      <td>0|0|0|0|0-0|0|0|0|0</td>\n",
       "      <td>0|0|0|0|0-0|0|0|0|0</td>\n",
       "      <td>0|0|0|0|0-0|0|0|0|0</td>\n",
       "      <td>0|0|0|0|0-0|0|0|0|0</td>\n",
       "      <td>0|0|0|0|0-0|0|0|0|0</td>\n",
       "      <td>0|0|0|0|0-0|0|0|0|0</td>\n",
       "      <td>0|5|0|0|0-0|0|0|0|0</td>\n",
       "    </tr>\n",
       "    <tr>\n",
       "      <th>1</th>\n",
       "      <td>chr19</td>\n",
       "      <td>66219</td>\n",
       "      <td>A</td>\n",
       "      <td>0|0|0|0|0-0|0|0|0|0</td>\n",
       "      <td>0|0|0|0|0-0|0|0|0|0</td>\n",
       "      <td>0|0|0|0|0-0|0|0|0|0</td>\n",
       "      <td>0|0|0|0|0-0|0|0|0|0</td>\n",
       "      <td>0|0|0|0|0-0|0|0|0|0</td>\n",
       "      <td>0|0|0|0|0-0|0|0|0|0</td>\n",
       "      <td>0|3|0|0|0-0|0|0|0|0</td>\n",
       "    </tr>\n",
       "    <tr>\n",
       "      <th>2</th>\n",
       "      <td>chr19</td>\n",
       "      <td>66220</td>\n",
       "      <td>G</td>\n",
       "      <td>0|0|0|0|0-0|0|0|0|0</td>\n",
       "      <td>0|0|0|0|0-0|0|0|0|0</td>\n",
       "      <td>0|0|0|0|0-0|0|0|0|0</td>\n",
       "      <td>0|0|0|0|0-0|0|0|0|0</td>\n",
       "      <td>0|0|0|0|0-0|0|0|0|0</td>\n",
       "      <td>0|0|0|0|0-0|0|0|0|0</td>\n",
       "      <td>0|5|0|0|0-0|0|0|0|0</td>\n",
       "    </tr>\n",
       "    <tr>\n",
       "      <th>3</th>\n",
       "      <td>chr19</td>\n",
       "      <td>66221</td>\n",
       "      <td>G</td>\n",
       "      <td>0|0|0|0|0-0|0|0|0|0</td>\n",
       "      <td>0|0|0|0|0-0|0|0|0|0</td>\n",
       "      <td>0|0|0|0|0-0|0|0|0|0</td>\n",
       "      <td>0|0|0|0|0-0|0|0|0|0</td>\n",
       "      <td>0|0|0|0|0-0|0|0|0|0</td>\n",
       "      <td>0|0|0|0|0-0|0|0|0|0</td>\n",
       "      <td>0|5|0|0|0-0|0|0|0|0</td>\n",
       "    </tr>\n",
       "    <tr>\n",
       "      <th>4</th>\n",
       "      <td>chr19</td>\n",
       "      <td>66222</td>\n",
       "      <td>G</td>\n",
       "      <td>0|0|0|0|0-0|0|0|0|0</td>\n",
       "      <td>0|0|0|0|0-0|0|0|0|0</td>\n",
       "      <td>0|0|0|0|0-0|0|0|0|0</td>\n",
       "      <td>0|0|0|0|0-0|0|0|0|0</td>\n",
       "      <td>0|0|0|0|0-0|0|0|0|0</td>\n",
       "      <td>0|0|0|0|0-0|0|0|0|0</td>\n",
       "      <td>0|5|0|0|0-0|0|0|0|0</td>\n",
       "    </tr>\n",
       "    <tr>\n",
       "      <th>...</th>\n",
       "      <td>...</td>\n",
       "      <td>...</td>\n",
       "      <td>...</td>\n",
       "      <td>...</td>\n",
       "      <td>...</td>\n",
       "      <td>...</td>\n",
       "      <td>...</td>\n",
       "      <td>...</td>\n",
       "      <td>...</td>\n",
       "      <td>...</td>\n",
       "    </tr>\n",
       "    <tr>\n",
       "      <th>5090844</th>\n",
       "      <td>chr19</td>\n",
       "      <td>58571443</td>\n",
       "      <td>A</td>\n",
       "      <td>0|0|0|0|0-0|0|0|0|0</td>\n",
       "      <td>0|0|0|0|0-0|0|0|0|0</td>\n",
       "      <td>0|0|0|0|0-0|0|0|0|0</td>\n",
       "      <td>0|0|0|0|0-0|0|0|0|0</td>\n",
       "      <td>0|0|0|0|0-0|0|0|0|0</td>\n",
       "      <td>0|0|0|0|0-0|0|0|0|0</td>\n",
       "      <td>1|0|1|4|0-66|94|111|105|25</td>\n",
       "    </tr>\n",
       "    <tr>\n",
       "      <th>5090845</th>\n",
       "      <td>chr19</td>\n",
       "      <td>58571444</td>\n",
       "      <td>G</td>\n",
       "      <td>0|0|0|0|0-0|0|0|0|0</td>\n",
       "      <td>0|0|0|0|0-0|0|0|0|0</td>\n",
       "      <td>0|0|0|0|0-0|0|0|0|0</td>\n",
       "      <td>0|0|0|0|0-0|0|0|0|0</td>\n",
       "      <td>0|0|0|0|0-0|0|0|0|0</td>\n",
       "      <td>0|0|0|0|0-0|0|0|0|0</td>\n",
       "      <td>1|0|1|4|0-65|96|108|102|23</td>\n",
       "    </tr>\n",
       "    <tr>\n",
       "      <th>5090846</th>\n",
       "      <td>chr19</td>\n",
       "      <td>58571445</td>\n",
       "      <td>G</td>\n",
       "      <td>0|0|0|0|0-0|0|0|0|0</td>\n",
       "      <td>0|0|0|0|0-0|0|0|0|0</td>\n",
       "      <td>0|0|0|0|0-0|0|0|0|0</td>\n",
       "      <td>0|0|0|0|0-0|0|0|0|0</td>\n",
       "      <td>0|0|0|0|0-0|0|0|0|0</td>\n",
       "      <td>0|0|0|0|0-0|0|0|0|0</td>\n",
       "      <td>1|0|1|4|0-61|98|110|103|25</td>\n",
       "    </tr>\n",
       "    <tr>\n",
       "      <th>5090847</th>\n",
       "      <td>chr19</td>\n",
       "      <td>58571446</td>\n",
       "      <td>A</td>\n",
       "      <td>0|0|0|0|0-0|0|0|0|0</td>\n",
       "      <td>0|0|0|0|0-0|0|0|0|0</td>\n",
       "      <td>0|0|0|0|0-0|0|0|0|0</td>\n",
       "      <td>0|0|0|0|0-0|0|0|0|0</td>\n",
       "      <td>0|0|0|0|0-0|0|0|0|0</td>\n",
       "      <td>0|0|0|0|0-0|0|0|0|0</td>\n",
       "      <td>1|0|1|4|0-58|95|110|101|25</td>\n",
       "    </tr>\n",
       "    <tr>\n",
       "      <th>5090848</th>\n",
       "      <td>chr19</td>\n",
       "      <td>58571447</td>\n",
       "      <td>T</td>\n",
       "      <td>0|0|0|0|0-0|0|0|0|0</td>\n",
       "      <td>0|0|0|0|0-0|0|0|0|0</td>\n",
       "      <td>0|0|0|0|0-0|0|0|0|0</td>\n",
       "      <td>0|0|0|0|0-0|0|0|0|0</td>\n",
       "      <td>0|0|0|0|0-0|0|0|0|0</td>\n",
       "      <td>0|0|0|0|0-0|0|0|0|0</td>\n",
       "      <td>1|0|1|3|0-58|95|108|97|16</td>\n",
       "    </tr>\n",
       "  </tbody>\n",
       "</table>\n",
       "<p>5090849 rows × 10 columns</p>\n",
       "</div>"
      ],
      "text/plain": [
       "           Chr     Start Ref                    A                    G  \\\n",
       "0        chr19     66218   C  0|0|0|0|0-0|0|0|0|0  0|0|0|0|0-0|0|0|0|0   \n",
       "1        chr19     66219   A  0|0|0|0|0-0|0|0|0|0  0|0|0|0|0-0|0|0|0|0   \n",
       "2        chr19     66220   G  0|0|0|0|0-0|0|0|0|0  0|0|0|0|0-0|0|0|0|0   \n",
       "3        chr19     66221   G  0|0|0|0|0-0|0|0|0|0  0|0|0|0|0-0|0|0|0|0   \n",
       "4        chr19     66222   G  0|0|0|0|0-0|0|0|0|0  0|0|0|0|0-0|0|0|0|0   \n",
       "...        ...       ...  ..                  ...                  ...   \n",
       "5090844  chr19  58571443   A  0|0|0|0|0-0|0|0|0|0  0|0|0|0|0-0|0|0|0|0   \n",
       "5090845  chr19  58571444   G  0|0|0|0|0-0|0|0|0|0  0|0|0|0|0-0|0|0|0|0   \n",
       "5090846  chr19  58571445   G  0|0|0|0|0-0|0|0|0|0  0|0|0|0|0-0|0|0|0|0   \n",
       "5090847  chr19  58571446   A  0|0|0|0|0-0|0|0|0|0  0|0|0|0|0-0|0|0|0|0   \n",
       "5090848  chr19  58571447   T  0|0|0|0|0-0|0|0|0|0  0|0|0|0|0-0|0|0|0|0   \n",
       "\n",
       "                           C                    T                    I  \\\n",
       "0        0|0|0|0|0-0|0|0|0|0  0|0|0|0|0-0|0|0|0|0  0|0|0|0|0-0|0|0|0|0   \n",
       "1        0|0|0|0|0-0|0|0|0|0  0|0|0|0|0-0|0|0|0|0  0|0|0|0|0-0|0|0|0|0   \n",
       "2        0|0|0|0|0-0|0|0|0|0  0|0|0|0|0-0|0|0|0|0  0|0|0|0|0-0|0|0|0|0   \n",
       "3        0|0|0|0|0-0|0|0|0|0  0|0|0|0|0-0|0|0|0|0  0|0|0|0|0-0|0|0|0|0   \n",
       "4        0|0|0|0|0-0|0|0|0|0  0|0|0|0|0-0|0|0|0|0  0|0|0|0|0-0|0|0|0|0   \n",
       "...                      ...                  ...                  ...   \n",
       "5090844  0|0|0|0|0-0|0|0|0|0  0|0|0|0|0-0|0|0|0|0  0|0|0|0|0-0|0|0|0|0   \n",
       "5090845  0|0|0|0|0-0|0|0|0|0  0|0|0|0|0-0|0|0|0|0  0|0|0|0|0-0|0|0|0|0   \n",
       "5090846  0|0|0|0|0-0|0|0|0|0  0|0|0|0|0-0|0|0|0|0  0|0|0|0|0-0|0|0|0|0   \n",
       "5090847  0|0|0|0|0-0|0|0|0|0  0|0|0|0|0-0|0|0|0|0  0|0|0|0|0-0|0|0|0|0   \n",
       "5090848  0|0|0|0|0-0|0|0|0|0  0|0|0|0|0-0|0|0|0|0  0|0|0|0|0-0|0|0|0|0   \n",
       "\n",
       "                           D                       Depth  \n",
       "0        0|0|0|0|0-0|0|0|0|0         0|5|0|0|0-0|0|0|0|0  \n",
       "1        0|0|0|0|0-0|0|0|0|0         0|3|0|0|0-0|0|0|0|0  \n",
       "2        0|0|0|0|0-0|0|0|0|0         0|5|0|0|0-0|0|0|0|0  \n",
       "3        0|0|0|0|0-0|0|0|0|0         0|5|0|0|0-0|0|0|0|0  \n",
       "4        0|0|0|0|0-0|0|0|0|0         0|5|0|0|0-0|0|0|0|0  \n",
       "...                      ...                         ...  \n",
       "5090844  0|0|0|0|0-0|0|0|0|0  1|0|1|4|0-66|94|111|105|25  \n",
       "5090845  0|0|0|0|0-0|0|0|0|0  1|0|1|4|0-65|96|108|102|23  \n",
       "5090846  0|0|0|0|0-0|0|0|0|0  1|0|1|4|0-61|98|110|103|25  \n",
       "5090847  0|0|0|0|0-0|0|0|0|0  1|0|1|4|0-58|95|110|101|25  \n",
       "5090848  0|0|0|0|0-0|0|0|0|0   1|0|1|3|0-58|95|108|97|16  \n",
       "\n",
       "[5090849 rows x 10 columns]"
      ]
     },
     "execution_count": 3,
     "metadata": {},
     "output_type": "execute_result"
    }
   ],
   "source": [
    "chr19_df = pd.read_csv(os.path.join(pon_path, \"matrix/chr19.pon.gz\"), compression=\"gzip\", sep=\"\\t\")\n",
    "chr19_df"
   ]
  },
  {
   "cell_type": "markdown",
   "metadata": {},
   "source": [
    "## computation has  to be done per PON string\n",
    "+ allows use of same function for both PONcache and matrix2AB\n",
    "+ allows optimal caching of the results"
   ]
  },
  {
   "cell_type": "code",
   "execution_count": null,
   "metadata": {},
   "outputs": [],
   "source": [
    "from ebcache import PONmatrix2AB_multi\n",
    "\n",
    "PONAB_config = {\n",
    "    \"fit_pen\": 0.5,\n",
    "    \"threads\": 8,\n",
    "    \"chunk_size\":20000,\n",
    "    \"zero_path\": os.path.join(pon_path, \"zero\")\n",
    "}\n",
    "test_df =  chr19_df[:200000].copy()\n",
    "\n",
    "chr19_AB_df = PONmatrix2AB_multi(chr19_df, config=PONAB_config)"
   ]
  },
  {
   "cell_type": "code",
   "execution_count": null,
   "metadata": {},
   "outputs": [],
   "source": [
    "chr19_AB_df"
   ]
  },
  {
   "cell_type": "code",
   "execution_count": null,
   "metadata": {},
   "outputs": [],
   "source": []
  },
  {
   "cell_type": "markdown",
   "metadata": {},
   "source": [
    "### matrix to AB\n",
    "+ look at the first 500k lines of AB-converted pon and try to see what comes most and what could be cached for faster computation\n",
    "### caching the caching\n",
    "+ trying to find common cachable AB parameters"
   ]
  },
  {
   "cell_type": "code",
   "execution_count": 55,
   "metadata": {},
   "outputs": [],
   "source": [
    "def get_next_zero(zero_path):\n",
    "    # get all the zero files\n",
    "    zero_files = [file for file in os.listdir(zero_path) if os.path.isfile(os.path.join(zero_path, file))]\n",
    "    # get the numbers of the files\n",
    "    file_counter = sorted([int(f.replace(\"zero.\", \"\").replace(\".csv\", \"\")) for f in zero_files])\n",
    "    if len(load_file_counter):\n",
    "        next_file_count = file_counter[-1] + 1\n",
    "    else:\n",
    "        next_file_count = 0    \n",
    "    return os.path.join(zero_path, f\"zero.{next_file_count}.csv\")\n",
    "\n",
    "\n",
    "def load_zero_df(zero_path):\n",
    "    '''\n",
    "    looks into zero_path and gets the previous zero_files into one df\n",
    "    '''\n",
    "    \n",
    "    # get all the zero files\n",
    "    zero_files = [file for file in os.listdir(zero_path) if os.path.isfile(os.path.join(zero_path, file))]\n",
    "    # get the numbers of the files\n",
    "    file_counter = sorted([int(f.replace(\"zero.\", \"\").replace(\".csv\", \"\")) for f in zero_files])\n",
    "\n",
    "    load_file_counter = file_counter[-4:-2]\n",
    "    if not len(load_file_counter):\n",
    "        load_file_counter = file_counter[-2:-1]\n",
    "        if not len(load_file_counter):\n",
    "            # if nothing is there, load the zero.0.csv\n",
    "            load_file_counter = [0]\n",
    "    load_files = [os.path.join(zero_path, f\"zero.{i}.csv\") for i in load_file_counter]\n",
    "    zero_dfs = []\n",
    "    for f in load_files:\n",
    "        if os.path.isfile(f):\n",
    "            print(f)\n",
    "            zero_df = pd.read_csv(f, sep=\"\\t\")\n",
    "            zero_dfs.append(zero_df)\n",
    "    if len(zero_dfs):\n",
    "        zero_df = pd.concat(zero_dfs).drop_duplicates(\"D\")\n",
    "    else:\n",
    "        return None\n",
    "    return zero_df"
   ]
  },
  {
   "cell_type": "code",
   "execution_count": 56,
   "metadata": {},
   "outputs": [
    {
     "name": "stdout",
     "output_type": "stream",
     "text": [
      "[]\n"
     ]
    }
   ],
   "source": [
    "get_next"
   ]
  },
  {
   "cell_type": "markdown",
   "metadata": {},
   "source": [
    "### get the last 3 files"
   ]
  },
  {
   "cell_type": "code",
   "execution_count": 28,
   "metadata": {},
   "outputs": [
    {
     "data": {
      "text/plain": [
       "[9]"
      ]
     },
     "execution_count": 28,
     "metadata": {},
     "output_type": "execute_result"
    }
   ],
   "source": [
    "\n",
    "file_counter[-2:-1]"
   ]
  },
  {
   "cell_type": "code",
   "execution_count": 27,
   "metadata": {},
   "outputs": [
    {
     "data": {
      "text/plain": [
       "[]"
      ]
     },
     "execution_count": 27,
     "metadata": {},
     "output_type": "execute_result"
    }
   ],
   "source": [
    "[][:-1]"
   ]
  },
  {
   "cell_type": "code",
   "execution_count": 24,
   "metadata": {},
   "outputs": [
    {
     "data": {
      "text/plain": [
       "['/Users/martinscience/Dropbox/Icke/Work/somVar/testdata/PON/zero/zero.7.csv',\n",
       " '/Users/martinscience/Dropbox/Icke/Work/somVar/testdata/PON/zero/zero.8.csv']"
      ]
     },
     "execution_count": 24,
     "metadata": {},
     "output_type": "execute_result"
    }
   ],
   "source": [
    "\n",
    "load_files"
   ]
  },
  {
   "cell_type": "code",
   "execution_count": null,
   "metadata": {},
   "outputs": [],
   "source": [
    "\n"
   ]
  },
  {
   "cell_type": "code",
   "execution_count": null,
   "metadata": {},
   "outputs": [],
   "source": []
  },
  {
   "cell_type": "code",
   "execution_count": null,
   "metadata": {},
   "outputs": [],
   "source": []
  },
  {
   "cell_type": "code",
   "execution_count": null,
   "metadata": {},
   "outputs": [],
   "source": [
    "from ebcache import PONmatrix2AB_multi\n",
    "\n",
    "lines = 100000\n",
    "\n",
    "# use this but going through all letters and \n",
    "PONEB_config = {\n",
    "    \"fit_pen\": 0.5,\n",
    "    \"threads\": 8,\n",
    "    \"chunk_size\": 1900\n",
    "}\n",
    "\n",
    "%time df = PONmatrix2AB_multi(chr19_df[:lines], config=PONEB_config)\n",
    "# df.to_csv(os.path.join(pon_path, \"ABcache/chr19.AB.gz\"), sep=\"\\t\", compression=\"gzip\", index=False)\n",
    "df"
   ]
  },
  {
   "cell_type": "markdown",
   "metadata": {},
   "source": [
    "### flatten the df by the letters"
   ]
  },
  {
   "cell_type": "code",
   "execution_count": null,
   "metadata": {},
   "outputs": [],
   "source": [
    "# merge AB with matrix\n",
    "merge = chr19_df[:lines].merge(df, left_index=True, right_index=True)\n",
    "\n",
    "dfs = []\n",
    "for letter in \"AGCTID\":\n",
    "    print(letter)\n",
    "    letter_df = merge.loc[:, [f\"{letter}_x\", \"Depth\", f\"{letter}_y\"]].rename({f\"{letter}_x\":\"tumor\", f\"{letter}_y\":\"AB\"}, axis=1)\n",
    "    dfs.append(letter_df)\n",
    "merge2 = pd.concat(dfs)\n",
    "merge2"
   ]
  },
  {
   "cell_type": "markdown",
   "metadata": {},
   "source": [
    "## split left and right"
   ]
  },
  {
   "cell_type": "code",
   "execution_count": null,
   "metadata": {},
   "outputs": [],
   "source": [
    "ldfs = []\n",
    "for l in [0,1]:\n",
    "    ldf = pd.DataFrame()\n",
    "    for col in ['tumor', 'Depth', 'AB']:\n",
    "        ldf[col] = merge2[col].str.split(\"=\").str[0]\n",
    "    ldfs.append(ldf)\n",
    "merge3 = pd.concat(ldfs)\n",
    "merge3"
   ]
  },
  {
   "cell_type": "markdown",
   "metadata": {},
   "source": [
    "### sort the splits by Depth"
   ]
  },
  {
   "cell_type": "code",
   "execution_count": null,
   "metadata": {},
   "outputs": [],
   "source": [
    "def order(row):\n",
    "    dl = [int(d) for d in row['Depth'].split(\"|\")]\n",
    "    row['Depth'] = \"|\".join([str(d) for d in sorted(dl)])\n",
    "    row['tumor'] = \"|\".join([str(row['tumor'].split(\"|\")[i]) for i in np.argsort(dl)])\n",
    "    return row\n",
    "\n",
    "merge4 = merge3.apply(order, axis=1).sort_values(['AB', 'Depth', 'tumor']).groupby(['Depth', 'tumor']).agg(['first', 'last', \"count\"])"
   ]
  },
  {
   "cell_type": "markdown",
   "metadata": {},
   "source": [
    "### make stats"
   ]
  },
  {
   "cell_type": "code",
   "execution_count": null,
   "metadata": {},
   "outputs": [],
   "source": [
    "merge5 = merge4['AB'].reset_index().sort_values(['count'], ascending=False).query('tumor == \"0|0|0|0|0\"')\n",
    "merge5['freq'] = merge5['count'] / (lines * 12)\n",
    "merge5['sumfreq'] = merge5['freq'].cumsum()\n",
    "merge5"
   ]
  },
  {
   "cell_type": "code",
   "execution_count": null,
   "metadata": {},
   "outputs": [],
   "source": [
    "merge5.query('tumor == \"0|0|0|0|0\"')"
   ]
  },
  {
   "cell_type": "code",
   "execution_count": null,
   "metadata": {},
   "outputs": [],
   "source": []
  },
  {
   "cell_type": "code",
   "execution_count": null,
   "metadata": {},
   "outputs": [],
   "source": []
  },
  {
   "cell_type": "code",
   "execution_count": null,
   "metadata": {},
   "outputs": [],
   "source": [
    "merge5.to_csv(os.path.join(pon_path, \"chr19.cache.cache.gz\"), sep=\"\\t\", index=False, compression=\"gzip\")\n",
    "# merge7 = pd.read_csv(os.path.join(pon_path, \"chr7.cache.cache.gz\"), sep=\"\\t\", compression=\"gzip\")"
   ]
  },
  {
   "cell_type": "code",
   "execution_count": null,
   "metadata": {},
   "outputs": [],
   "source": []
  },
  {
   "cell_type": "code",
   "execution_count": null,
   "metadata": {},
   "outputs": [],
   "source": []
  },
  {
   "cell_type": "code",
   "execution_count": null,
   "metadata": {},
   "outputs": [],
   "source": []
  },
  {
   "cell_type": "code",
   "execution_count": null,
   "metadata": {},
   "outputs": [],
   "source": []
  },
  {
   "cell_type": "code",
   "execution_count": null,
   "metadata": {},
   "outputs": [],
   "source": []
  },
  {
   "cell_type": "code",
   "execution_count": null,
   "metadata": {},
   "outputs": [],
   "source": []
  },
  {
   "cell_type": "code",
   "execution_count": null,
   "metadata": {},
   "outputs": [],
   "source": []
  },
  {
   "cell_type": "code",
   "execution_count": null,
   "metadata": {},
   "outputs": [],
   "source": []
  },
  {
   "cell_type": "code",
   "execution_count": null,
   "metadata": {},
   "outputs": [],
   "source": []
  },
  {
   "cell_type": "code",
   "execution_count": null,
   "metadata": {},
   "outputs": [],
   "source": []
  },
  {
   "cell_type": "code",
   "execution_count": null,
   "metadata": {},
   "outputs": [],
   "source": []
  }
 ],
 "metadata": {
  "kernelspec": {
   "display_name": "Python 3",
   "language": "python",
   "name": "python3"
  },
  "language_info": {
   "codemirror_mode": {
    "name": "ipython",
    "version": 3
   },
   "file_extension": ".py",
   "mimetype": "text/x-python",
   "name": "python",
   "nbconvert_exporter": "python",
   "pygments_lexer": "ipython3",
   "version": "3.9.2"
  },
  "varInspector": {
   "cols": {
    "lenName": 16,
    "lenType": 16,
    "lenVar": 40
   },
   "kernels_config": {
    "python": {
     "delete_cmd_postfix": "",
     "delete_cmd_prefix": "del ",
     "library": "var_list.py",
     "varRefreshCmd": "print(var_dic_list())"
    },
    "r": {
     "delete_cmd_postfix": ") ",
     "delete_cmd_prefix": "rm(",
     "library": "var_list.r",
     "varRefreshCmd": "cat(var_dic_list()) "
    }
   },
   "types_to_exclude": [
    "module",
    "function",
    "builtin_function_or_method",
    "instance",
    "_Feature"
   ],
   "window_display": false
  }
 },
 "nbformat": 4,
 "nbformat_minor": 4
}
