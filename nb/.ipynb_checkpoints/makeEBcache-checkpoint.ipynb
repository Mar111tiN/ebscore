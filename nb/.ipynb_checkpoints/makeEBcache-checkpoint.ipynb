{
 "cells": [
  {
   "cell_type": "markdown",
   "metadata": {},
   "source": [
    "## Making the EBcache\n",
    "+ should work similar to EBscore with these differences:\n",
    "    * no tumor bam is needed"
   ]
  },
  {
   "cell_type": "code",
   "execution_count": null,
   "metadata": {
    "ExecuteTime": {
     "end_time": "2020-09-10T07:16:44.427219Z",
     "start_time": "2020-09-10T07:16:44.423861Z"
    }
   },
   "outputs": [],
   "source": [
    "# get the code\n",
    "import sys\n",
    "import os\n",
    "sys.path.append('../code')\n",
    "\n",
    "# set the paths\n",
    "home = '/Users/martinscience'\n",
    "#  home = '/Users/mahtin'\n",
    "\n",
    "\n",
    "somvar_path = os.path.join(home, \"Dropbox/Icke/Work/somVar\")\n",
    "testdata = os.path.join(somvar_path, \"testdata\")\n",
    "ebdata = os.path.join(somvar_path, \"tooldata/EBdata\")\n",
    "pon_path = os.path.join(testdata, \"PON\")\n",
    "\n",
    "static = os.path.join(home, \"Dropbox/Icke/Work/static\")"
   ]
  },
  {
   "cell_type": "markdown",
   "metadata": {},
   "source": [
    "## make EBcache matrix\n",
    "+ to be used by bam2matrix in cache-mode"
   ]
  },
  {
   "cell_type": "markdown",
   "metadata": {},
   "source": [
    "from ebcache import PON2matrix\n",
    "\n",
    "EBconfig = {\n",
    "    \"temp_dir\": os.path.join(ebdata, \"temp\"),\n",
    "    \"pon_path\": pon_path,\n",
    "    \"zero_path\": os.path.join(pon_path, \"zero\"),\n",
    "    \"bed_file\": os.path.join(static, \"bed_files/SureSelect/hg38/SS_HAEv7_hg38_Padded.bed\"),\n",
    "    \"mawk_path\": \"../shell\",\n",
    "    \"genome_split\": f\"{static}/genome/gatk/hg38/split\",\n",
    "    \"MAPQ\": 20,\n",
    "    \"Q\": 25,\n",
    "    \"fit_pen\": 0.5,\n",
    "    \"use_cache\": True\n",
    "}\n",
    "pon_list = \"PON_chr19.txt\"\n",
    "chrom = \"chr19\"\n",
    "\n",
    "PON2matrix(pon_list, chrom, EBconfig)"
   ]
  },
  {
   "cell_type": "code",
   "execution_count": null,
   "metadata": {},
   "outputs": [],
   "source": [
    "chr19_df = pd.read_csv(os.path.join(pon_path, \"matrix/chr19.pon.gz\"), compression=\"gzip\", sep=\"\\t\")\n",
    "chr19_df"
   ]
  },
  {
   "cell_type": "markdown",
   "metadata": {},
   "source": [
    "## computation has  to be done per PON string\n",
    "+ allows use of same function for both PONcache and matrix2AB\n",
    "+ allows optimal caching of the results"
   ]
  },
  {
   "cell_type": "code",
   "execution_count": null,
   "metadata": {},
   "outputs": [],
   "source": [
    "from ebcache import PONmatrix2AB_multi\n",
    "from zerocache import collapse_zeros\n",
    "\n",
    "collapse_zeros(os.path.join(pon_path, \"zero\"))\n",
    "\n",
    "PONAB_config = {\n",
    "    \"fit_pen\": 0.5,\n",
    "    \"threads\": 8,\n",
    "    \"chunk_size\":2000,\n",
    "    \"zero_path\": os.path.join(pon_path, \"zero\")\n",
    "}\n",
    "test_df =  chr19_df[:50000].copy()\n",
    "\n",
    "chr19_AB_df = PONmatrix2AB_multi(test_df, config=PONAB_config)\n",
    "chr19_AB_df"
   ]
  },
  {
   "cell_type": "code",
   "execution_count": null,
   "metadata": {},
   "outputs": [],
   "source": [
    "chr19_AB_df"
   ]
  },
  {
   "cell_type": "code",
   "execution_count": null,
   "metadata": {},
   "outputs": [],
   "source": [
    "from zerocache import collapse_zeros\n",
    "collapse_zeros(os.path.join(pon_path, \"zero\"))"
   ]
  }
 ],
 "metadata": {
  "kernelspec": {
   "display_name": "Python 3",
   "language": "python",
   "name": "python3"
  },
  "language_info": {
   "codemirror_mode": {
    "name": "ipython",
    "version": 3
   },
   "file_extension": ".py",
   "mimetype": "text/x-python",
   "name": "python",
   "nbconvert_exporter": "python",
   "pygments_lexer": "ipython3",
   "version": "3.9.2"
  },
  "varInspector": {
   "cols": {
    "lenName": 16,
    "lenType": 16,
    "lenVar": 40
   },
   "kernels_config": {
    "python": {
     "delete_cmd_postfix": "",
     "delete_cmd_prefix": "del ",
     "library": "var_list.py",
     "varRefreshCmd": "print(var_dic_list())"
    },
    "r": {
     "delete_cmd_postfix": ") ",
     "delete_cmd_prefix": "rm(",
     "library": "var_list.r",
     "varRefreshCmd": "cat(var_dic_list()) "
    }
   },
   "types_to_exclude": [
    "module",
    "function",
    "builtin_function_or_method",
    "instance",
    "_Feature"
   ],
   "window_display": false
  }
 },
 "nbformat": 4,
 "nbformat_minor": 4
}
