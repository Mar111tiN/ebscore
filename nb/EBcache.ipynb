{
 "cells": [
  {
   "cell_type": "markdown",
   "metadata": {},
   "source": [
    "## Making the EBcache\n",
    "+ should work similar to EBscore with these differences:\n",
    "    * no tumor bam is needed"
   ]
  },
  {
   "cell_type": "code",
   "execution_count": 1,
   "metadata": {
    "ExecuteTime": {
     "end_time": "2021-04-13T19:42:51.898528Z",
     "start_time": "2021-04-13T19:42:51.894263Z"
    }
   },
   "outputs": [],
   "source": [
    "# get the code\n",
    "import sys\n",
    "import os\n",
    "sys.path.append('../code')\n",
    "\n",
    "# set the paths\n",
    "home = '/Users/martinscience'\n",
    "#  home = '/Users/mahtin'\n",
    "\n",
    "\n",
    "somvar_path = os.path.join(home, \"Dropbox/Icke/Work/somVar\")\n",
    "testdata = os.path.join(somvar_path, \"testdata\")\n",
    "ebdata = os.path.join(somvar_path, \"tooldata/EBdata\")\n",
    "pon_path = os.path.join(testdata, \"PON\")\n",
    "\n",
    "static = os.path.join(home, \"Dropbox/Icke/Work/static\")"
   ]
  },
  {
   "cell_type": "markdown",
   "metadata": {},
   "source": [
    "## make EBcache matrix\n",
    "+ to be used by bam2matrix in cache-mode"
   ]
  },
  {
   "cell_type": "markdown",
   "metadata": {},
   "source": [
    "from ebcache import PON2matrix\n",
    "\n",
    "EBconfig = {\n",
    "    \"temp_dir\": os.path.join(ebdata, \"temp\"),\n",
    "    \"pon_path\": pon_path,\n",
    "    \"zero_path\": os.path.join(pon_path, \"zero\"),\n",
    "    \"bed_file\": os.path.join(static, \"bed_files/SureSelect/hg38/SS_HAEv7_hg38_Padded.bed\"),\n",
    "    \"mawk_path\": \"../shell\",\n",
    "    \"genome_split\": f\"{static}/genome/gatk/hg38/split\",\n",
    "    \"MAPQ\": 20,\n",
    "    \"Q\": 25,\n",
    "    \"fit_pen\": 0.5,\n",
    "    \"use_cache\": True\n",
    "}\n",
    "pon_list = \"PON_chr19.txt\"\n",
    "chrom = \"chr19\"\n",
    "\n",
    "PON2matrix(pon_list, chrom, EBconfig)"
   ]
  },
  {
   "cell_type": "code",
   "execution_count": 2,
   "metadata": {
    "ExecuteTime": {
     "end_time": "2021-04-13T19:43:09.336099Z",
     "start_time": "2021-04-13T19:42:58.375081Z"
    }
   },
   "outputs": [
    {
     "data": {
      "text/html": [
       "<div>\n",
       "<style scoped>\n",
       "    .dataframe tbody tr th:only-of-type {\n",
       "        vertical-align: middle;\n",
       "    }\n",
       "\n",
       "    .dataframe tbody tr th {\n",
       "        vertical-align: top;\n",
       "    }\n",
       "\n",
       "    .dataframe thead th {\n",
       "        text-align: right;\n",
       "    }\n",
       "</style>\n",
       "<table border=\"1\" class=\"dataframe\">\n",
       "  <thead>\n",
       "    <tr style=\"text-align: right;\">\n",
       "      <th></th>\n",
       "      <th>Chr</th>\n",
       "      <th>Start</th>\n",
       "      <th>Ref</th>\n",
       "      <th>A</th>\n",
       "      <th>G</th>\n",
       "      <th>C</th>\n",
       "      <th>T</th>\n",
       "      <th>I</th>\n",
       "      <th>D</th>\n",
       "      <th>Depth</th>\n",
       "    </tr>\n",
       "  </thead>\n",
       "  <tbody>\n",
       "    <tr>\n",
       "      <th>0</th>\n",
       "      <td>chr7</td>\n",
       "      <td>35213</td>\n",
       "      <td>G</td>\n",
       "      <td>0|0|0|0|0-0|0|0|0|0</td>\n",
       "      <td>0|0|0|0|0-0|0|0|0|0</td>\n",
       "      <td>0|0|0|0|0-0|0|0|0|0</td>\n",
       "      <td>0|0|0|0|0-0|0|0|0|0</td>\n",
       "      <td>0|0|0|0|0-0|0|0|0|0</td>\n",
       "      <td>0|0|0|0|0-0|0|0|0|0</td>\n",
       "      <td>5|5|1|9|3-0|1|0|0|0</td>\n",
       "    </tr>\n",
       "    <tr>\n",
       "      <th>1</th>\n",
       "      <td>chr7</td>\n",
       "      <td>35214</td>\n",
       "      <td>A</td>\n",
       "      <td>0|0|0|0|0-0|0|0|0|0</td>\n",
       "      <td>0|0|0|0|0-0|0|0|0|0</td>\n",
       "      <td>0|0|0|0|0-0|0|0|0|0</td>\n",
       "      <td>0|0|0|0|0-0|0|0|0|0</td>\n",
       "      <td>0|0|0|0|0-0|0|0|0|0</td>\n",
       "      <td>0|0|0|0|0-0|0|0|0|0</td>\n",
       "      <td>5|5|1|9|3-0|1|0|0|0</td>\n",
       "    </tr>\n",
       "    <tr>\n",
       "      <th>2</th>\n",
       "      <td>chr7</td>\n",
       "      <td>35215</td>\n",
       "      <td>A</td>\n",
       "      <td>0|0|0|0|0-0|0|0|0|0</td>\n",
       "      <td>0|0|0|0|0-0|0|0|0|0</td>\n",
       "      <td>0|0|0|0|0-0|0|0|0|0</td>\n",
       "      <td>0|0|0|0|0-0|0|0|0|0</td>\n",
       "      <td>0|0|0|0|0-0|0|0|0|0</td>\n",
       "      <td>0|0|0|0|0-0|0|0|0|0</td>\n",
       "      <td>5|3|1|9|3-0|1|0|0|0</td>\n",
       "    </tr>\n",
       "    <tr>\n",
       "      <th>3</th>\n",
       "      <td>chr7</td>\n",
       "      <td>35216</td>\n",
       "      <td>T</td>\n",
       "      <td>0|0|0|0|0-0|0|0|0|0</td>\n",
       "      <td>0|0|0|0|0-0|0|0|0|0</td>\n",
       "      <td>0|0|0|0|0-0|0|0|0|0</td>\n",
       "      <td>0|0|0|0|0-0|0|0|0|0</td>\n",
       "      <td>0|0|0|0|0-0|0|0|0|0</td>\n",
       "      <td>0|0|0|0|0-0|0|0|0|0</td>\n",
       "      <td>5|5|1|9|3-0|1|0|0|0</td>\n",
       "    </tr>\n",
       "    <tr>\n",
       "      <th>4</th>\n",
       "      <td>chr7</td>\n",
       "      <td>35217</td>\n",
       "      <td>C</td>\n",
       "      <td>0|0|0|0|0-0|0|0|0|0</td>\n",
       "      <td>0|0|0|0|0-0|0|0|0|0</td>\n",
       "      <td>0|0|0|0|0-0|0|0|0|0</td>\n",
       "      <td>0|0|0|0|0-0|0|0|0|0</td>\n",
       "      <td>0|0|0|0|0-0|0|0|0|0</td>\n",
       "      <td>0|0|0|0|0-0|0|0|0|0</td>\n",
       "      <td>5|5|1|9|3-0|1|0|0|0</td>\n",
       "    </tr>\n",
       "    <tr>\n",
       "      <th>...</th>\n",
       "      <td>...</td>\n",
       "      <td>...</td>\n",
       "      <td>...</td>\n",
       "      <td>...</td>\n",
       "      <td>...</td>\n",
       "      <td>...</td>\n",
       "      <td>...</td>\n",
       "      <td>...</td>\n",
       "      <td>...</td>\n",
       "      <td>...</td>\n",
       "    </tr>\n",
       "    <tr>\n",
       "      <th>4225516</th>\n",
       "      <td>chr7</td>\n",
       "      <td>159144962</td>\n",
       "      <td>G</td>\n",
       "      <td>0|0|0|0|0-0|0|0|0|0</td>\n",
       "      <td>0|0|0|0|0-0|0|0|0|0</td>\n",
       "      <td>0|0|0|0|0-0|0|0|0|0</td>\n",
       "      <td>0|0|0|0|0-0|0|0|0|0</td>\n",
       "      <td>0|0|0|0|0-0|0|0|0|0</td>\n",
       "      <td>0|0|0|0|0-0|0|0|0|0</td>\n",
       "      <td>0|0|3|1|0-11|22|34|17|5</td>\n",
       "    </tr>\n",
       "    <tr>\n",
       "      <th>4225517</th>\n",
       "      <td>chr7</td>\n",
       "      <td>159144963</td>\n",
       "      <td>T</td>\n",
       "      <td>0|0|0|0|0-0|0|0|0|0</td>\n",
       "      <td>0|0|0|0|0-0|0|0|0|0</td>\n",
       "      <td>0|0|0|0|0-0|0|0|0|0</td>\n",
       "      <td>0|0|0|0|0-0|0|0|0|0</td>\n",
       "      <td>0|0|0|0|0-0|0|0|0|0</td>\n",
       "      <td>0|0|0|0|0-0|0|0|0|0</td>\n",
       "      <td>0|0|2|0|0-11|19|29|19|5</td>\n",
       "    </tr>\n",
       "    <tr>\n",
       "      <th>4225518</th>\n",
       "      <td>chr7</td>\n",
       "      <td>159144964</td>\n",
       "      <td>C</td>\n",
       "      <td>0|0|0|0|0-0|0|0|0|0</td>\n",
       "      <td>0|0|0|0|0-0|0|0|0|0</td>\n",
       "      <td>0|0|0|0|0-0|0|0|0|0</td>\n",
       "      <td>0|0|0|0|0-0|0|0|0|0</td>\n",
       "      <td>0|0|0|0|0-0|0|0|0|0</td>\n",
       "      <td>0|0|0|0|0-0|0|0|0|0</td>\n",
       "      <td>0|0|1|0|0-12|21|31|20|4</td>\n",
       "    </tr>\n",
       "    <tr>\n",
       "      <th>4225519</th>\n",
       "      <td>chr7</td>\n",
       "      <td>159144965</td>\n",
       "      <td>C</td>\n",
       "      <td>0|0|0|0|0-0|0|0|0|0</td>\n",
       "      <td>0|0|0|0|0-0|0|0|0|0</td>\n",
       "      <td>0|0|0|0|0-0|0|0|0|0</td>\n",
       "      <td>0|0|0|0|0-0|0|0|0|0</td>\n",
       "      <td>0|0|0|0|0-0|0|0|0|0</td>\n",
       "      <td>0|0|0|0|0-0|0|0|0|0</td>\n",
       "      <td>0|0|2|1|0-12|20|30|21|4</td>\n",
       "    </tr>\n",
       "    <tr>\n",
       "      <th>4225520</th>\n",
       "      <td>chr7</td>\n",
       "      <td>159144966</td>\n",
       "      <td>C</td>\n",
       "      <td>0|0|0|0|0-0|0|0|0|0</td>\n",
       "      <td>0|0|0|0|0-0|0|0|0|0</td>\n",
       "      <td>0|0|0|0|0-0|0|0|0|0</td>\n",
       "      <td>0|0|0|0|0-0|0|0|0|0</td>\n",
       "      <td>0|0|0|0|0-0|0|0|0|0</td>\n",
       "      <td>0|0|0|0|0-0|0|0|0|0</td>\n",
       "      <td>0|0|1|1|0-12|18|28|19|4</td>\n",
       "    </tr>\n",
       "  </tbody>\n",
       "</table>\n",
       "<p>4225521 rows × 10 columns</p>\n",
       "</div>"
      ],
      "text/plain": [
       "          Chr      Start Ref                    A                    G  \\\n",
       "0        chr7      35213   G  0|0|0|0|0-0|0|0|0|0  0|0|0|0|0-0|0|0|0|0   \n",
       "1        chr7      35214   A  0|0|0|0|0-0|0|0|0|0  0|0|0|0|0-0|0|0|0|0   \n",
       "2        chr7      35215   A  0|0|0|0|0-0|0|0|0|0  0|0|0|0|0-0|0|0|0|0   \n",
       "3        chr7      35216   T  0|0|0|0|0-0|0|0|0|0  0|0|0|0|0-0|0|0|0|0   \n",
       "4        chr7      35217   C  0|0|0|0|0-0|0|0|0|0  0|0|0|0|0-0|0|0|0|0   \n",
       "...       ...        ...  ..                  ...                  ...   \n",
       "4225516  chr7  159144962   G  0|0|0|0|0-0|0|0|0|0  0|0|0|0|0-0|0|0|0|0   \n",
       "4225517  chr7  159144963   T  0|0|0|0|0-0|0|0|0|0  0|0|0|0|0-0|0|0|0|0   \n",
       "4225518  chr7  159144964   C  0|0|0|0|0-0|0|0|0|0  0|0|0|0|0-0|0|0|0|0   \n",
       "4225519  chr7  159144965   C  0|0|0|0|0-0|0|0|0|0  0|0|0|0|0-0|0|0|0|0   \n",
       "4225520  chr7  159144966   C  0|0|0|0|0-0|0|0|0|0  0|0|0|0|0-0|0|0|0|0   \n",
       "\n",
       "                           C                    T                    I  \\\n",
       "0        0|0|0|0|0-0|0|0|0|0  0|0|0|0|0-0|0|0|0|0  0|0|0|0|0-0|0|0|0|0   \n",
       "1        0|0|0|0|0-0|0|0|0|0  0|0|0|0|0-0|0|0|0|0  0|0|0|0|0-0|0|0|0|0   \n",
       "2        0|0|0|0|0-0|0|0|0|0  0|0|0|0|0-0|0|0|0|0  0|0|0|0|0-0|0|0|0|0   \n",
       "3        0|0|0|0|0-0|0|0|0|0  0|0|0|0|0-0|0|0|0|0  0|0|0|0|0-0|0|0|0|0   \n",
       "4        0|0|0|0|0-0|0|0|0|0  0|0|0|0|0-0|0|0|0|0  0|0|0|0|0-0|0|0|0|0   \n",
       "...                      ...                  ...                  ...   \n",
       "4225516  0|0|0|0|0-0|0|0|0|0  0|0|0|0|0-0|0|0|0|0  0|0|0|0|0-0|0|0|0|0   \n",
       "4225517  0|0|0|0|0-0|0|0|0|0  0|0|0|0|0-0|0|0|0|0  0|0|0|0|0-0|0|0|0|0   \n",
       "4225518  0|0|0|0|0-0|0|0|0|0  0|0|0|0|0-0|0|0|0|0  0|0|0|0|0-0|0|0|0|0   \n",
       "4225519  0|0|0|0|0-0|0|0|0|0  0|0|0|0|0-0|0|0|0|0  0|0|0|0|0-0|0|0|0|0   \n",
       "4225520  0|0|0|0|0-0|0|0|0|0  0|0|0|0|0-0|0|0|0|0  0|0|0|0|0-0|0|0|0|0   \n",
       "\n",
       "                           D                    Depth  \n",
       "0        0|0|0|0|0-0|0|0|0|0      5|5|1|9|3-0|1|0|0|0  \n",
       "1        0|0|0|0|0-0|0|0|0|0      5|5|1|9|3-0|1|0|0|0  \n",
       "2        0|0|0|0|0-0|0|0|0|0      5|3|1|9|3-0|1|0|0|0  \n",
       "3        0|0|0|0|0-0|0|0|0|0      5|5|1|9|3-0|1|0|0|0  \n",
       "4        0|0|0|0|0-0|0|0|0|0      5|5|1|9|3-0|1|0|0|0  \n",
       "...                      ...                      ...  \n",
       "4225516  0|0|0|0|0-0|0|0|0|0  0|0|3|1|0-11|22|34|17|5  \n",
       "4225517  0|0|0|0|0-0|0|0|0|0  0|0|2|0|0-11|19|29|19|5  \n",
       "4225518  0|0|0|0|0-0|0|0|0|0  0|0|1|0|0-12|21|31|20|4  \n",
       "4225519  0|0|0|0|0-0|0|0|0|0  0|0|2|1|0-12|20|30|21|4  \n",
       "4225520  0|0|0|0|0-0|0|0|0|0  0|0|1|1|0-12|18|28|19|4  \n",
       "\n",
       "[4225521 rows x 10 columns]"
      ]
     },
     "execution_count": 2,
     "metadata": {},
     "output_type": "execute_result"
    }
   ],
   "source": [
    "chr7_df = pd.read_csv(os.path.join(pon_path, \"matrix/chr7.pon.gz\"), compression=\"gzip\", sep=\"\\t\")\n",
    "chr7_df"
   ]
  },
  {
   "cell_type": "markdown",
   "metadata": {},
   "source": [
    "## computation has  to be done per PON string\n",
    "+ allows use of same function for both PONcache and matrix2AB\n",
    "+ allows optimal caching of the results"
   ]
  },
  {
   "cell_type": "code",
   "execution_count": null,
   "metadata": {},
   "outputs": [
    {
     "name": "stdout",
     "output_type": "stream",
     "text": [
      "/Users/martinscience/Dropbox/Icke/Work/somVar/testdata/PON/zero/zero.0.csv\n",
      "\u001b[1;35;2m12:03:37\u001b[0m : \u001b[1;30;1mStarting AB conversion of PON matrix using 8 cores\u001b[0m\n",
      "\u001b[1;35;2m12:03:42\u001b[0m : \u001b[1;30;1mPON matrix has been stacked\u001b[0m\n",
      "5|5|1|9|3\n"
     ]
    }
   ],
   "source": [
    "from ebcache import PONmatrix2AB_multi\n",
    "from zerocache import collapse_zeros\n",
    "\n",
    "collapse_zeros(os.path.join(pon_path, \"zero\"))\n",
    "\n",
    "PONAB_config = {\n",
    "    \"fit_pen\": 0.5,\n",
    "    \"threads\": 8,\n",
    "    \"chunk_size\":50000,\n",
    "    \"zero_path\": os.path.join(pon_path, \"zero\"),\n",
    "    \"zero_condense_factor\": 13 # how much complexity remains after flattening the tumor-zero lines\n",
    "}\n",
    "# test_df = chr7_df.iloc[:100000, :]\n",
    "chr7_AB_df = PONmatrix2AB_multi(chr7_df_df, config=PONAB_config)\n",
    "chr7_AB_df"
   ]
  },
  {
   "cell_type": "code",
   "execution_count": null,
   "metadata": {},
   "outputs": [],
   "source": [
    "chr7_AB_df.to_csv(os.path.join(pon_path, \"ABcache/chr7.AB\"), sep=\"\\t\", index=False)"
   ]
  },
  {
   "cell_type": "code",
   "execution_count": null,
   "metadata": {
    "ExecuteTime": {
     "end_time": "2021-04-13T19:47:49.085697Z",
     "start_time": "2021-04-13T19:47:46.205206Z"
    }
   },
   "outputs": [],
   "source": [
    "from zerocache import collapse_zeros\n",
    "zdf = collapse_zeros(os.path.join(pon_path, \"zero\"), zero_condense_factor=13)\n",
    "zdf"
   ]
  }
 ],
 "metadata": {
  "kernelspec": {
   "display_name": "Python 3",
   "language": "python",
   "name": "python3"
  },
  "language_info": {
   "codemirror_mode": {
    "name": "ipython",
    "version": 3
   },
   "file_extension": ".py",
   "mimetype": "text/x-python",
   "name": "python",
   "nbconvert_exporter": "python",
   "pygments_lexer": "ipython3",
   "version": "3.9.2"
  },
  "varInspector": {
   "cols": {
    "lenName": 16,
    "lenType": 16,
    "lenVar": 40
   },
   "kernels_config": {
    "python": {
     "delete_cmd_postfix": "",
     "delete_cmd_prefix": "del ",
     "library": "var_list.py",
     "varRefreshCmd": "print(var_dic_list())"
    },
    "r": {
     "delete_cmd_postfix": ") ",
     "delete_cmd_prefix": "rm(",
     "library": "var_list.r",
     "varRefreshCmd": "cat(var_dic_list()) "
    }
   },
   "types_to_exclude": [
    "module",
    "function",
    "builtin_function_or_method",
    "instance",
    "_Feature"
   ],
   "window_display": false
  }
 },
 "nbformat": 4,
 "nbformat_minor": 4
}
