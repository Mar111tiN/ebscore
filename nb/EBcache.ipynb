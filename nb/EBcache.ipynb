{
 "cells": [
  {
   "cell_type": "markdown",
   "metadata": {},
   "source": [
    "## Making the EBcache\n",
    "+ should work similar to EBscore with these differences:\n",
    "    * no tumor bam is needed"
   ]
  },
  {
   "cell_type": "code",
   "execution_count": null,
   "metadata": {
    "ExecuteTime": {
     "end_time": "2021-04-13T19:42:51.898528Z",
     "start_time": "2021-04-13T19:42:51.894263Z"
    }
   },
   "outputs": [],
   "source": [
    "# get the code\n",
    "import sys\n",
    "import os\n",
    "sys.path.append('../code')\n",
    "\n",
    "# set the paths\n",
    "home = '/Users/martinscience'\n",
    "home = '/Users/mahtin'\n",
    "\n",
    "\n",
    "somvar_path = os.path.join(home, \"Dropbox/Icke/Work/somVar\")\n",
    "testdata = os.path.join(somvar_path, \"testdata\")\n",
    "ebdata = os.path.join(somvar_path, \"tooldata/EBdata\")\n",
    "pon_path = os.path.join(testdata, \"PON\")\n",
    "\n",
    "static = os.path.join(home, \"Dropbox/Icke/Work/static\")"
   ]
  },
  {
   "cell_type": "markdown",
   "metadata": {},
   "source": [
    "## make EBcache matrix\n",
    "+ to be used by bam2matrix in cache-mode"
   ]
  },
  {
   "cell_type": "code",
   "execution_count": null,
   "metadata": {},
   "outputs": [],
   "source": [
    "from file2matrix import PON2matrix\n",
    "\n",
    "EBconfig = {\n",
    "    \"temp_dir\": os.path.join(ebdata, \"temp\"),\n",
    "    \"pon_path\": pon_path,\n",
    "    \"zero_path\": os.path.join(pon_path, \"zero\"),\n",
    "    \"bed_file\": os.path.join(static, \"bed_files/SureSelect/hg38/SS_HAEv7_hg38_Padded.bed\"),\n",
    "    \"mawk_path\": \"../shell\",\n",
    "    \"genome_split\": f\"{static}/genome/gatk/hg38/split\",\n",
    "    \"MAPQ\": 20,\n",
    "    \"Q\": 25,\n",
    "    \"fit_pen\": 0.5,\n",
    "    \"use_cache\": True\n",
    "}\n",
    "pon_list = \"PON_chr19.txt\"\n",
    "chrom = \"chr19\"\n",
    "\n",
    "PON2matrix(pon_list, chrom, EBconfig)"
   ]
  },
  {
   "cell_type": "markdown",
   "metadata": {},
   "source": [
    "## computation has  to be done per PON string\n",
    "+ allows use of same function for both PONcache and matrix2AB\n",
    "+ allows optimal caching of the results"
   ]
  },
  {
   "cell_type": "code",
   "execution_count": null,
   "metadata": {},
   "outputs": [],
   "source": [
    "from ebcache import PONmatrix2AB_multi\n",
    "\n",
    "# _ = collapse_zeros(os.path.join(pon_path, \"zero\"), ponsize=5)\n",
    "\n",
    "PONAB_config = {\n",
    "    \"fit_pen\": 0.5,\n",
    "    \"threads\": 8,\n",
    "    \"pon_path\": pon_path,\n",
    "    \"zero_path\": os.path.join(pon_path, \"zero\"),\n",
    "    \"chunksize\": 50000,\n",
    "    \"ZDfactor\": 13,  # how much complexity remains after flattening the tumor-zero lines\n",
    "    \"min_zt\": 2000 # min number of zeroT lines to bother zerocache\n",
    "}\n",
    "\n",
    "\n",
    "chr19_gen = pd.read_csv(os.path.join(pon_path, \"matrix/chr19.pon.gz\"), compression=\"gzip\", sep=\"\\t\", chunksize=config['chunksize'], nrows=6000)\n",
    "chr7_AB_df = PONmatrix2AB_multi(chr19_gen, config=PONAB_config)\n",
    "chr7_AB_df"
   ]
  },
  {
   "cell_type": "code",
   "execution_count": null,
   "metadata": {},
   "outputs": [],
   "source": [
    "df = chr7_AB_df.reset_index(drop=True)\n",
    "df.iloc[10].name"
   ]
  },
  {
   "cell_type": "code",
   "execution_count": null,
   "metadata": {},
   "outputs": [],
   "source": [
    "chr7_AB_df.to_csv(os.path.join(pon_path, \"ABcache/chr7.AB\"), sep=\"\\t\", index=False)"
   ]
  },
  {
   "cell_type": "code",
   "execution_count": null,
   "metadata": {
    "ExecuteTime": {
     "end_time": "2021-04-13T19:47:49.085697Z",
     "start_time": "2021-04-13T19:47:46.205206Z"
    }
   },
   "outputs": [],
   "source": [
    "from zerocache import collapse_zeros\n",
    "zdf = collapse_zeros(os.path.join(pon_path, \"zero\"), ponsize=5, ZDfactor=13)\n",
    "zdf"
   ]
  },
  {
   "cell_type": "markdown",
   "metadata": {},
   "source": [
    "### test collapse_zeros"
   ]
  },
  {
   "cell_type": "code",
   "execution_count": null,
   "metadata": {},
   "outputs": [],
   "source": [
    "from zerocache import flatten_zeros\n",
    "from script_utils import show_output\n",
    "\n",
    "def collapse_zeros(zero_path, ZDfactor=13):\n",
    "    \"\"\"\n",
    "    reduces all zero_files to zero.0.csv\n",
    "    \"\"\"\n",
    "    # get all the zero files\n",
    "    show_output(f\"Collapsing all zero files in {zero_path} into zero.0.csv\")\n",
    "    zero_files = [\n",
    "        os.path.join(zero_path, file)\n",
    "        for file in os.listdir(zero_path)\n",
    "        if os.path.isfile(os.path.join(zero_path, file)) and \"zero\" in file\n",
    "    ]\n",
    "    zero_df = pd.DataFrame()\n",
    "    if len(zero_files) == 0:\n",
    "        show_output(f\"No zerofiles found in {zero_path}!\")\n",
    "        return\n",
    "    for file in zero_files:\n",
    "        show_output(f\"Cleaning up zero file {file}\", time=False)\n",
    "        try:\n",
    "            zdf = pd.read_csv(file, sep=\"\\t\")\n",
    "            # concat to zdf_all and drop duplicates\n",
    "            zero_df = pd.concat([zero_df, zdf]).drop_duplicates(\"D\")\n",
    "            # reduce complexity using condense factor\n",
    "            zero_df.loc[:, \"D\"] = flatten_zeros(\n",
    "                zero_df[\"D\"], ZDfactor=ZDfactor\n",
    "            )\n",
    "        except:\n",
    "            show_output(f\"{file} could not be loaded\", color=\"warning\", time=False)\n",
    "        os.remove(file)\n",
    "\n",
    "    zero_df = zero_df.sort_values(\"D\")\n",
    "\n",
    "    zero_df.to_csv(os.path.join(zero_path, \"zero.0.csv\"), sep=\"\\t\", index=False)\n",
    "    show_output(f\"Written collapsed zerofile ({len(zero_df.index)} lines) to {zero_path}/zero.0.csv\")\n",
    "    return zero_df"
   ]
  },
  {
   "cell_type": "code",
   "execution_count": null,
   "metadata": {},
   "outputs": [],
   "source": [
    "zdf = collapse_zeros(os.path.join(pon_path, \"zero\"), ZDfactor=13)"
   ]
  },
  {
   "cell_type": "code",
   "execution_count": null,
   "metadata": {},
   "outputs": [],
   "source": []
  }
 ],
 "metadata": {
  "kernelspec": {
   "display_name": "Python 3",
   "language": "python",
   "name": "python3"
  },
  "language_info": {
   "codemirror_mode": {
    "name": "ipython",
    "version": 3
   },
   "file_extension": ".py",
   "mimetype": "text/x-python",
   "name": "python",
   "nbconvert_exporter": "python",
   "pygments_lexer": "ipython3",
   "version": "3.8.5"
  },
  "varInspector": {
   "cols": {
    "lenName": 16,
    "lenType": 16,
    "lenVar": 40
   },
   "kernels_config": {
    "python": {
     "delete_cmd_postfix": "",
     "delete_cmd_prefix": "del ",
     "library": "var_list.py",
     "varRefreshCmd": "print(var_dic_list())"
    },
    "r": {
     "delete_cmd_postfix": ") ",
     "delete_cmd_prefix": "rm(",
     "library": "var_list.r",
     "varRefreshCmd": "cat(var_dic_list()) "
    }
   },
   "types_to_exclude": [
    "module",
    "function",
    "builtin_function_or_method",
    "instance",
    "_Feature"
   ],
   "window_display": false
  }
 },
 "nbformat": 4,
 "nbformat_minor": 4
}
