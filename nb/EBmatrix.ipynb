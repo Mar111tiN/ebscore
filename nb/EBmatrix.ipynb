{
 "cells": [
  {
   "cell_type": "code",
   "execution_count": 3,
   "metadata": {
    "ExecuteTime": {
     "end_time": "2021-04-12T10:12:31.006010Z",
     "start_time": "2021-04-12T10:12:31.000341Z"
    }
   },
   "outputs": [],
   "source": [
    "# get the code\n",
    "import sys\n",
    "import os\n",
    "sys.path.append('../code')\n",
    "\n",
    "# set the paths\n",
    "home = '/Users/martinscience'\n",
    "home = '/Users/mahtin'\n",
    "\n",
    "\n",
    "somvar_path = os.path.join(home, \"Dropbox/Icke/Work/somVar\")\n",
    "testdata = os.path.join(somvar_path, \"testdata\")\n",
    "ebdata = os.path.join(somvar_path, \"tooldata/EBdata\")\n",
    "pon_path = os.path.join(testdata, \"PON\")\n",
    "\n",
    "static = os.path.join(home, \"Dropbox/Icke/Work/static\")"
   ]
  },
  {
   "cell_type": "markdown",
   "metadata": {},
   "source": [
    "## create EBmatrix from different input\n",
    "+ filterVar.mawk is the input fork"
   ]
  },
  {
   "cell_type": "code",
   "execution_count": 4,
   "metadata": {
    "ExecuteTime": {
     "end_time": "2021-04-12T10:13:20.188531Z",
     "start_time": "2021-04-12T10:13:19.593981Z"
    }
   },
   "outputs": [
    {
     "name": "stdout",
     "output_type": "stream",
     "text": [
      "\u001b[1;35;2m08:05:25\u001b[0m : \u001b[1;31;1m02_B.chr7.bam from PON list matches /Users/mahtin/Dropbox/Icke/Work/somVar/testdata/bam/002_A.chr7.bam and is removed from pon_list. If not desired, change names\u001b[0m\n",
      "\u001b[1m$ samtools mpileup -Q 25 -q 20 -l /Users/mahtin/Dropbox/Icke/Work/somVar/tooldata/EBdata/temp/002_A-B_chr7.bed -f /Users/mahtin/Dropbox/Icke/Work/static/genome/gatk/hg38/split/chr7.fa -r chr7 /Users/mahtin/Dropbox/Icke/Work/somVar/testdata/bam/002_A.chr7.bam | ../shell/cleanpileup.mawk | ../shell/pile2count.mawk | ../shell/tumor2matrix.mawk /Users/mahtin/Dropbox/Icke/Work/somVar/tooldata/EBdata/table/002_A-B.csv chr7 -P /Users/mahtin/Dropbox/Icke/Work/somVar/testdata/PON/matrix/chr7.pon -x 2\u001b[0m\n"
     ]
    },
    {
     "data": {
      "text/html": [
       "<div>\n",
       "<style scoped>\n",
       "    .dataframe tbody tr th:only-of-type {\n",
       "        vertical-align: middle;\n",
       "    }\n",
       "\n",
       "    .dataframe tbody tr th {\n",
       "        vertical-align: top;\n",
       "    }\n",
       "\n",
       "    .dataframe thead th {\n",
       "        text-align: right;\n",
       "    }\n",
       "</style>\n",
       "<table border=\"1\" class=\"dataframe\">\n",
       "  <thead>\n",
       "    <tr style=\"text-align: right;\">\n",
       "      <th></th>\n",
       "      <th>Chr</th>\n",
       "      <th>Start</th>\n",
       "      <th>End</th>\n",
       "      <th>Ref</th>\n",
       "      <th>Alt</th>\n",
       "      <th>Tumor</th>\n",
       "      <th>PON+</th>\n",
       "      <th>PON-</th>\n",
       "    </tr>\n",
       "  </thead>\n",
       "  <tbody>\n",
       "    <tr>\n",
       "      <th>0</th>\n",
       "      <td>chr7</td>\n",
       "      <td>35326</td>\n",
       "      <td>35326</td>\n",
       "      <td>C</td>\n",
       "      <td>T</td>\n",
       "      <td>0-1=0-1</td>\n",
       "      <td>0|0|0|0=4|6|31|0</td>\n",
       "      <td>0|0|0|3=2|0|0|3</td>\n",
       "    </tr>\n",
       "    <tr>\n",
       "      <th>1</th>\n",
       "      <td>chr7</td>\n",
       "      <td>248451</td>\n",
       "      <td>248451</td>\n",
       "      <td>G</td>\n",
       "      <td>A</td>\n",
       "      <td>0-0=6-30</td>\n",
       "      <td>1|0|1|0=69|33|86|65</td>\n",
       "      <td>0|1|0|0=102|60|135|75</td>\n",
       "    </tr>\n",
       "    <tr>\n",
       "      <th>2</th>\n",
       "      <td>chr7</td>\n",
       "      <td>248458</td>\n",
       "      <td>248458</td>\n",
       "      <td>T</td>\n",
       "      <td>C</td>\n",
       "      <td>0-0=6-28</td>\n",
       "      <td>1|0|1|0=49|20|66|49</td>\n",
       "      <td>0|0|0|0=114|60|139|79</td>\n",
       "    </tr>\n",
       "    <tr>\n",
       "      <th>3</th>\n",
       "      <td>chr7</td>\n",
       "      <td>248482</td>\n",
       "      <td>248482</td>\n",
       "      <td>-</td>\n",
       "      <td>A</td>\n",
       "      <td>0-0=2-21</td>\n",
       "      <td>0|0|0|0=23|8|25|22</td>\n",
       "      <td>0|1|1|0=95|51|130|68</td>\n",
       "    </tr>\n",
       "    <tr>\n",
       "      <th>4</th>\n",
       "      <td>chr7</td>\n",
       "      <td>248487</td>\n",
       "      <td>248487</td>\n",
       "      <td>G</td>\n",
       "      <td>A</td>\n",
       "      <td>0-0=1-21</td>\n",
       "      <td>0|0|1|0=11|6|16|18</td>\n",
       "      <td>0|1|2|0=86|52|121|66</td>\n",
       "    </tr>\n",
       "    <tr>\n",
       "      <th>...</th>\n",
       "      <td>...</td>\n",
       "      <td>...</td>\n",
       "      <td>...</td>\n",
       "      <td>...</td>\n",
       "      <td>...</td>\n",
       "      <td>...</td>\n",
       "      <td>...</td>\n",
       "      <td>...</td>\n",
       "    </tr>\n",
       "    <tr>\n",
       "      <th>7010</th>\n",
       "      <td>chr7</td>\n",
       "      <td>159142337</td>\n",
       "      <td>159142338</td>\n",
       "      <td>T</td>\n",
       "      <td>-</td>\n",
       "      <td>1-0=8-0</td>\n",
       "      <td>1|1|1|1=52|59|71|83</td>\n",
       "      <td>0|0|0|0=4|2|1|2</td>\n",
       "    </tr>\n",
       "    <tr>\n",
       "      <th>7011</th>\n",
       "      <td>chr7</td>\n",
       "      <td>159144277</td>\n",
       "      <td>159144277</td>\n",
       "      <td>C</td>\n",
       "      <td>A</td>\n",
       "      <td>0-0=25-3</td>\n",
       "      <td>0|0|0|0=166|241|218|113</td>\n",
       "      <td>0|0|0|0=27|33|27|17</td>\n",
       "    </tr>\n",
       "    <tr>\n",
       "      <th>7012</th>\n",
       "      <td>chr7</td>\n",
       "      <td>159144683</td>\n",
       "      <td>159144683</td>\n",
       "      <td>C</td>\n",
       "      <td>T</td>\n",
       "      <td>5-3=5-9</td>\n",
       "      <td>0|0|0|0=100|120|120|85</td>\n",
       "      <td>0|0|0|0=77|156|138|43</td>\n",
       "    </tr>\n",
       "    <tr>\n",
       "      <th>7013</th>\n",
       "      <td>chr7</td>\n",
       "      <td>159144893</td>\n",
       "      <td>159144893</td>\n",
       "      <td>T</td>\n",
       "      <td>C</td>\n",
       "      <td>0-1=1-8</td>\n",
       "      <td>0|22|5|6=7|22|5|8</td>\n",
       "      <td>0|65|54|12=30|65|54|28</td>\n",
       "    </tr>\n",
       "    <tr>\n",
       "      <th>7014</th>\n",
       "      <td>chr7</td>\n",
       "      <td>159144902</td>\n",
       "      <td>159144902</td>\n",
       "      <td>-</td>\n",
       "      <td>C</td>\n",
       "      <td>0-3=1-7</td>\n",
       "      <td>3|14|1|3=3|17|2|5</td>\n",
       "      <td>32|66|45|14=35|68|51|19</td>\n",
       "    </tr>\n",
       "  </tbody>\n",
       "</table>\n",
       "<p>7015 rows × 8 columns</p>\n",
       "</div>"
      ],
      "text/plain": [
       "       Chr      Start        End Ref Alt     Tumor                     PON+  \\\n",
       "0     chr7      35326      35326   C   T   0-1=0-1         0|0|0|0=4|6|31|0   \n",
       "1     chr7     248451     248451   G   A  0-0=6-30      1|0|1|0=69|33|86|65   \n",
       "2     chr7     248458     248458   T   C  0-0=6-28      1|0|1|0=49|20|66|49   \n",
       "3     chr7     248482     248482   -   A  0-0=2-21       0|0|0|0=23|8|25|22   \n",
       "4     chr7     248487     248487   G   A  0-0=1-21       0|0|1|0=11|6|16|18   \n",
       "...    ...        ...        ...  ..  ..       ...                      ...   \n",
       "7010  chr7  159142337  159142338   T   -   1-0=8-0      1|1|1|1=52|59|71|83   \n",
       "7011  chr7  159144277  159144277   C   A  0-0=25-3  0|0|0|0=166|241|218|113   \n",
       "7012  chr7  159144683  159144683   C   T   5-3=5-9   0|0|0|0=100|120|120|85   \n",
       "7013  chr7  159144893  159144893   T   C   0-1=1-8        0|22|5|6=7|22|5|8   \n",
       "7014  chr7  159144902  159144902   -   C   0-3=1-7        3|14|1|3=3|17|2|5   \n",
       "\n",
       "                         PON-  \n",
       "0             0|0|0|3=2|0|0|3  \n",
       "1       0|1|0|0=102|60|135|75  \n",
       "2       0|0|0|0=114|60|139|79  \n",
       "3        0|1|1|0=95|51|130|68  \n",
       "4        0|1|2|0=86|52|121|66  \n",
       "...                       ...  \n",
       "7010          0|0|0|0=4|2|1|2  \n",
       "7011      0|0|0|0=27|33|27|17  \n",
       "7012    0|0|0|0=77|156|138|43  \n",
       "7013   0|65|54|12=30|65|54|28  \n",
       "7014  32|66|45|14=35|68|51|19  \n",
       "\n",
       "[7015 rows x 8 columns]"
      ]
     },
     "execution_count": 4,
     "metadata": {},
     "output_type": "execute_result"
    }
   ],
   "source": [
    "from ebraw import tumor2matrix\n",
    "\n",
    "EBconfig = {\n",
    "    \"temp_dir\": os.path.join(ebdata, \"temp\"),\n",
    "    \"pon_path\": pon_path,\n",
    "    \"mawk_path\": \"../shell\",\n",
    "    \"genome_split\": os.path.join(static, \"genome/gatk/hg38/split\"),\n",
    "    \"MAPQ\": 20,\n",
    "    \"Q\": 25,\n",
    "    \"fit_pen\": 0.5,\n",
    "    \"count_dict\": {0:\"alt+\", 1:\"alt-\", 2:\"depth+\", 3:\"depth-\"},\n",
    "    \"use_cache\": True\n",
    "}\n",
    "\n",
    "\n",
    "bam_file = f\"{testdata}/bam/002_A.chr7.bam\"\n",
    "pileup_file = os.path.join(ebdata, \"pileup/002_A-B.pileup.gz\")\n",
    "mut_file = os.path.join(ebdata, \"table/002_A-B.csv\")\n",
    "pon_list = \"PON_chr7.txt\"\n",
    "chrom = \"chr7\"\n",
    "\n",
    "# df = bam2matrix(mut_file, pileup=pileup_file, chrom=chrom, pon_list=pon_list, EBconfig=EBconfig)\n",
    "matrix_df = tumor2matrix(mut_file, bam=bam_file, chrom=chrom, pon_list=pon_list, EBconfig=EBconfig)\n",
    "matrix_df"
   ]
  },
  {
   "cell_type": "markdown",
   "metadata": {},
   "source": [
    "### save matrix file"
   ]
  },
  {
   "cell_type": "code",
   "execution_count": null,
   "metadata": {},
   "outputs": [],
   "source": [
    "matrix_df.to_csv(os.path.join(ebdata, \"matrix/02_A.chr7.matrix\"), sep=\"\\t\", index=False)"
   ]
  },
  {
   "cell_type": "markdown",
   "metadata": {},
   "source": [
    "## matrix2AB"
   ]
  },
  {
   "cell_type": "code",
   "execution_count": null,
   "metadata": {},
   "outputs": [],
   "source": [
    "from matrix2AB import matrix2AB_multi\n",
    "\n",
    "AB_config = {\n",
    "    \"fit_pen\": 0.5,\n",
    "    \"threads\": 8,\n",
    "    \"chunk_size\":500,\n",
    "    \"zero_path\": os.path.join(pon_path, \"zero\")\n",
    "}\n",
    "AB_df = matrix2AB_multi(matrix_df, AB_config)\n",
    "AB_df"
   ]
  },
  {
   "cell_type": "markdown",
   "metadata": {},
   "source": [
    "### save AB file"
   ]
  },
  {
   "cell_type": "code",
   "execution_count": null,
   "metadata": {},
   "outputs": [],
   "source": [
    "AB_df.to_csv(os.path.join(ebdata, \"AB/02_A.chr7.AB\"), sep=\"\\t\", index=False)"
   ]
  }
 ],
 "metadata": {
  "kernelspec": {
   "display_name": "Python 3",
   "language": "python",
   "name": "python3"
  },
  "language_info": {
   "codemirror_mode": {
    "name": "ipython",
    "version": 3
   },
   "file_extension": ".py",
   "mimetype": "text/x-python",
   "name": "python",
   "nbconvert_exporter": "python",
   "pygments_lexer": "ipython3",
   "version": "3.8.5"
  },
  "varInspector": {
   "cols": {
    "lenName": 16,
    "lenType": 16,
    "lenVar": 40
   },
   "kernels_config": {
    "python": {
     "delete_cmd_postfix": "",
     "delete_cmd_prefix": "del ",
     "library": "var_list.py",
     "varRefreshCmd": "print(var_dic_list())"
    },
    "r": {
     "delete_cmd_postfix": ") ",
     "delete_cmd_prefix": "rm(",
     "library": "var_list.r",
     "varRefreshCmd": "cat(var_dic_list()) "
    }
   },
   "types_to_exclude": [
    "module",
    "function",
    "builtin_function_or_method",
    "instance",
    "_Feature"
   ],
   "window_display": false
  }
 },
 "nbformat": 4,
 "nbformat_minor": 4
}
