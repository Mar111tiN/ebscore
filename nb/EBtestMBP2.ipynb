{
 "cells": [
  {
   "cell_type": "code",
   "execution_count": null,
   "metadata": {
    "ExecuteTime": {
     "end_time": "2021-04-04T05:44:33.565525Z",
     "start_time": "2021-04-04T05:44:33.550923Z"
    }
   },
   "outputs": [],
   "source": [
    "# get the code\n",
    "import sys\n",
    "import os\n",
    "sys.path.append('../code')\n",
    "\n",
    "# set the paths\n",
    "home = '/Users/martinscience'\n",
    "home = '/Users/mahtin'\n",
    "\n",
    "somvar_path = os.path.join(home, \"Dropbox/Icke/Work/somVar\")\n",
    "testdata = os.path.join(somvar_path, \"testdata\")\n",
    "ebdata = os.path.join(somvar_path, \"tooldata/EBdata\")\n",
    "pon_path = os.path.join(testdata, \"testpon\")\n",
    "\n",
    "static = os.path.join(home, \"Dropbox/Icke/Work/static\")"
   ]
  },
  {
   "cell_type": "markdown",
   "metadata": {},
   "source": [
    "## create EBmatrix from different input\n",
    "+ filterVar.mawk is the input fork"
   ]
  },
  {
   "cell_type": "code",
   "execution_count": null,
   "metadata": {
    "ExecuteTime": {
     "end_time": "2021-04-04T05:44:36.039964Z",
     "start_time": "2021-04-04T05:44:35.809905Z"
    }
   },
   "outputs": [],
   "source": [
    "from ebraw import tumor2matrix\n",
    "\n",
    "EBconfig = {\n",
    "    \"pon_path\": pon_path,\n",
    "    \"mawk_path\": \"../shell\",\n",
    "    \"genome_split\": f\"{static}/genome/gatk/hg38/split\",\n",
    "    \"pon_path\": os.path.join(testdata, \"testpon\"),\n",
    "    \"MAPQ\": 20,\n",
    "    \"Q\": 25,\n",
    "    \"fit_pen\": 0.5,\n",
    "    \"count_dict\": {0:\"alt+\", 1:\"alt-\", 2:\"depth+\", 3:\"depth-\"},\n",
    "    \"use_cache\": True\n",
    "}\n",
    "\n",
    "\n",
    "bam_file = f\"{testdata}/bam/002_A.bam\"\n",
    "pileup_file = os.path.join(ebdata, \"002_A-B.pileup.gz\")\n",
    "mut_file = os.path.join(ebdata, \"002.csv\")\n",
    "pon_list = \"Pon_chr7.txt\"\n",
    "chrom = \"chr7\"\n",
    "\n",
    "# df = bam2matrix(mut_file, pileup=pileup_file, chrom=chrom, pon_list=pon_list, EBconfig=EBconfig)\n",
    "df = tumor2matrix(mut_file, bam=bam_file, chrom=chrom, pon_list=pon_list, EBconfig=EBconfig)\n",
    "df"
   ]
  },
  {
   "cell_type": "markdown",
   "metadata": {},
   "source": [
    "## make EBcache matrix\n",
    "+ to be used by bam2matrix in cache-mode"
   ]
  },
  {
   "cell_type": "code",
   "execution_count": null,
   "metadata": {},
   "outputs": [],
   "source": [
    "from ebcache import PON2matrix\n",
    "\n",
    "EBconfig = {\n",
    "    \"pon_path\": pon_path,\n",
    "    \"bed_file\": os.path.join(static, \"bed_files/SureSelect/hg38/SS_HAEv7_hg38_Padded.bed\"),\n",
    "    \"mawk_path\": \"../shell\",\n",
    "    \"genome_split\": f\"{static}/genome/gatk/hg38/split\",\n",
    "    \"pon_path\": os.path.join(testdata, \"testpon\"),\n",
    "    \"MAPQ\": 20,\n",
    "    \"Q\": 25,\n",
    "    \"fit_pen\": 0.5,\n",
    "    \"count_dict\": {0:\"alt+\", 1:\"alt-\", 2:\"depth+\", 3:\"depth-\"},\n",
    "    \"use_cache\": True\n",
    "}\n",
    "pon_list = \"Pon_chr7.txt\"\n",
    "chrom = \"chr7\"\n",
    "\n",
    "EBcache_matrix(pon_list, chrom, EBconfig)"
   ]
  },
  {
   "cell_type": "markdown",
   "metadata": {},
   "source": [
    "## EBcache matrix2AB\n",
    "+ second level cache containing the ABparams"
   ]
  },
  {
   "cell_type": "code",
   "execution_count": null,
   "metadata": {},
   "outputs": [],
   "source": [
    "chr7_df = pd.read_csv(os.path.join(pon_path, \"matrix/chr7.pon.gz\"), compression=\"gzip\", sep=\"\\t\")\n",
    "chr7_df"
   ]
  },
  {
   "cell_type": "code",
   "execution_count": null,
   "metadata": {},
   "outputs": [],
   "source": [
    "from ebcache import PONmatrix2AB_multi\n",
    "\n",
    "# use this but going through all letters and \n",
    "PONEB_config = {\n",
    "    \"fit_pen\": 0.5,\n",
    "    \"threads\": 8,\n",
    "    \"chunk_size\": 1000\n",
    "}\n",
    "\n",
    "%time df = PONmatrix2AB_multi(chr7_df[:500000], config=PONEB_config)\n",
    "# df.to_csv(os.path.join(pon_path, \"ABcache/chr7.AB.gz\"), sep=\"\\t\", compression=\"gzip\", index=False)\n",
    "df"
   ]
  },
  {
   "cell_type": "code",
   "execution_count": null,
   "metadata": {},
   "outputs": [],
   "source": [
    "%time print(\"Hello\")"
   ]
  },
  {
   "cell_type": "markdown",
   "metadata": {},
   "source": [
    "## caching the caching\n",
    "+ trying to find common cachable AB parameters"
   ]
  },
  {
   "cell_type": "code",
   "execution_count": null,
   "metadata": {},
   "outputs": [],
   "source": [
    "# merge AB with matrix\n",
    "merge = chr7_df[:500000].merge(df, left_index=True, right_index=True)\n",
    "merge"
   ]
  },
  {
   "cell_type": "markdown",
   "metadata": {},
   "source": [
    "## flatten the df by the letters"
   ]
  },
  {
   "cell_type": "code",
   "execution_count": null,
   "metadata": {},
   "outputs": [],
   "source": [
    "dfs = []\n",
    "for letter in \"AGCTID\":\n",
    "    print(letter)\n",
    "    letter_df = merge.loc[:, [f\"{letter}_x\", \"Depth\", f\"{letter}_y\"]].rename({f\"{letter}_x\":\"tumor\", f\"{letter}_y\":\"AB\"}, axis=1)\n",
    "    dfs.append(letter_df)\n",
    "merge2 = pd.concat(dfs)\n",
    "merge2"
   ]
  },
  {
   "cell_type": "markdown",
   "metadata": {},
   "source": [
    "## split left and right"
   ]
  },
  {
   "cell_type": "code",
   "execution_count": null,
   "metadata": {},
   "outputs": [],
   "source": [
    "ldfs = []\n",
    "for l in [0,1]:\n",
    "    ldf = pd.DataFrame()\n",
    "    for col in ['tumor', 'Depth', 'AB']:\n",
    "        ldf[col] = merge2[col].str.split(\"-\").str[0]\n",
    "    ldfs.append(ldf)\n",
    "merge3 = pd.concat(ldfs)\n",
    "merge3"
   ]
  },
  {
   "cell_type": "code",
   "execution_count": null,
   "metadata": {},
   "outputs": [],
   "source": [
    "# merge3.to_csv(os.path.join(pon_path, \"chr7.cache.cache.gz\"), sep=\"\\t\", index=False, compression=\"gzip\")\n",
    "merge3 = pd.read_csv(os.path.join(pon_path, \"chr7.cache.cache.gz\"), sep=\"\\t\", compression=\"gzip\")"
   ]
  },
  {
   "cell_type": "markdown",
   "metadata": {},
   "source": [
    "### sort the splits by Depth"
   ]
  },
  {
   "cell_type": "code",
   "execution_count": null,
   "metadata": {},
   "outputs": [],
   "source": [
    "merge3.query('tumor != \"0|0|0|0|0\"')"
   ]
  },
  {
   "cell_type": "code",
   "execution_count": null,
   "metadata": {},
   "outputs": [],
   "source": [
    "row = merge3.iloc[138]\n",
    "row"
   ]
  },
  {
   "cell_type": "code",
   "execution_count": null,
   "metadata": {},
   "outputs": [],
   "source": [
    "def order(row):\n",
    "    dl = [int(d) for d in row['Depth'].split(\"|\")]\n",
    "    row['Depth'] = \"|\".join([str(d) for d in sorted(dl)])\n",
    "    row['tumor'] = \"|\".join([str(row['tumor'].split(\"|\")[i]) for i in np.argsort(dl)])\n",
    "    return row"
   ]
  },
  {
   "cell_type": "code",
   "execution_count": null,
   "metadata": {},
   "outputs": [],
   "source": [
    "order(row)"
   ]
  },
  {
   "cell_type": "code",
   "execution_count": null,
   "metadata": {},
   "outputs": [],
   "source": [
    "merge4 = merge3.apply(order, axis=1)"
   ]
  },
  {
   "cell_type": "code",
   "execution_count": null,
   "metadata": {},
   "outputs": [],
   "source": [
    "merge5 = merge4.sort_values(['AB', 'Depth', 'tumor'])\n",
    "merge5"
   ]
  },
  {
   "cell_type": "code",
   "execution_count": null,
   "metadata": {},
   "outputs": [],
   "source": [
    "merge6 = merge5.groupby(['Depth', 'tumor']).agg(['first', 'last', \"count\"])\n",
    "merge6"
   ]
  },
  {
   "cell_type": "code",
   "execution_count": null,
   "metadata": {},
   "outputs": [],
   "source": [
    "merge6['AB']"
   ]
  },
  {
   "cell_type": "code",
   "execution_count": null,
   "metadata": {},
   "outputs": [],
   "source": [
    "merge7 = merge6['AB'].reset_index().sort_values(['count'], ascending=False)\n",
    "merge7['freq'] = merge7['count'] / 6000000\n",
    "merge7['sumfreq'] = merge7['freq'].cumsum()\n",
    "merge7"
   ]
  },
  {
   "cell_type": "code",
   "execution_count": null,
   "metadata": {},
   "outputs": [],
   "source": [
    "merge7.to_csv(os.path.join(pon_path, \"chr7.cache.cache.gz\"), sep=\"\\t\", index=False, compression=\"gzip\")\n",
    "# merge7 = pd.read_csv(os.path.join(pon_path, \"chr7.cache.cache.gz\"), sep=\"\\t\", compression=\"gzip\")"
   ]
  },
  {
   "cell_type": "code",
   "execution_count": null,
   "metadata": {},
   "outputs": [],
   "source": [
    "merge7.query('tumor == \"0|0|0|0|0\"')"
   ]
  },
  {
   "cell_type": "markdown",
   "metadata": {},
   "source": [
    "### EX|INport"
   ]
  },
  {
   "cell_type": "code",
   "execution_count": null,
   "metadata": {},
   "outputs": [],
   "source": [
    "# get the code\n",
    "import sys\n",
    "sys.path.append('../code')\n",
    "\n",
    "# set the paths\n",
    "home = '/Users/mahtin'\n",
    "home = '/Users/martinscience'\n",
    "testdata = f\"{home}/Dropbox/Icke/Work/somVar/testdata\"\n",
    "ebdata = f\"{testdata}/EBdata\"\n",
    "pon_path = f\"{testdata}/testpon\"\n",
    "static = f\"{home}/Dropbox/Icke/Work/static\"\n",
    "\n",
    "\n",
    "# df.to_csv(f\"{ebdata}/002.matrix\", sep='\\t', index=False)\n",
    "df = pd.read_csv(f\"{ebdata}/002.matrix\", sep='\\t')\n",
    "df[:3]"
   ]
  },
  {
   "cell_type": "markdown",
   "metadata": {},
   "source": [
    "## matrix to AB"
   ]
  },
  {
   "cell_type": "markdown",
   "metadata": {},
   "source": [
    "### get_count_df for matrix2EB"
   ]
  },
  {
   "cell_type": "code",
   "execution_count": null,
   "metadata": {},
   "outputs": [],
   "source": [
    "from ebutils import get_count_df\n",
    "row = df.iloc[2,:]\n",
    "row\n",
    "cdf = get_count_df(row['PON:ALT=Depth'], EBconfig[\"count_dict\"])\n",
    "cdf"
   ]
  },
  {
   "cell_type": "code",
   "execution_count": null,
   "metadata": {},
   "outputs": [],
   "source": [
    "from ebconvert import matrix2AB\n",
    "from ebcore import fit_bb\n",
    "bb_params = fit_bb(cdf, 0.5)\n",
    "bb_params"
   ]
  },
  {
   "cell_type": "code",
   "execution_count": null,
   "metadata": {},
   "outputs": [],
   "source": [
    "matrix2AB(row, config=EBconfig)"
   ]
  },
  {
   "cell_type": "markdown",
   "metadata": {},
   "source": [
    "### expand matrix2AB to df"
   ]
  },
  {
   "cell_type": "code",
   "execution_count": null,
   "metadata": {},
   "outputs": [],
   "source": [
    "df['ABparams'] = df.apply(matrix2AB, config=EBconfig, axis=1)\n",
    "df[:3]"
   ]
  },
  {
   "cell_type": "markdown",
   "metadata": {},
   "source": [
    "## AB to EB"
   ]
  },
  {
   "cell_type": "code",
   "execution_count": null,
   "metadata": {},
   "outputs": [],
   "source": [
    "# make a row with the same values as in EBold for comparison\n",
    "row_dict = {\n",
    "    \"Chr\": [\"chr7\"],\n",
    "    \"Start\": 680651,\n",
    "    \"Tumor:Alt=Depth\": \"0-5=12-42\",\n",
    "    \"ABparams\": \"0.20509|23.07746-0.22661|2.47235\"\n",
    "}\n",
    "\n",
    "test_row = pd.DataFrame().from_dict(row_dict).iloc[0]\n",
    "test_row\n",
    "from ebconvert import AB2EBscore\n",
    "AB2EBscore(test_row, config=EBconfig)"
   ]
  },
  {
   "cell_type": "code",
   "execution_count": null,
   "metadata": {},
   "outputs": [],
   "source": [
    "df['EBscore'] = df.apply(AB2EBscore, config=EBconfig, axis=1)\n",
    "df"
   ]
  },
  {
   "cell_type": "code",
   "execution_count": null,
   "metadata": {},
   "outputs": [],
   "source": []
  },
  {
   "cell_type": "code",
   "execution_count": null,
   "metadata": {},
   "outputs": [],
   "source": [
    "ls"
   ]
  },
  {
   "cell_type": "code",
   "execution_count": null,
   "metadata": {},
   "outputs": [],
   "source": [
    "p = pd.DataFrame()"
   ]
  },
  {
   "cell_type": "code",
   "execution_count": null,
   "metadata": {},
   "outputs": [],
   "source": [
    "p.index[0]"
   ]
  },
  {
   "cell_type": "code",
   "execution_count": null,
   "metadata": {},
   "outputs": [],
   "source": []
  }
 ],
 "metadata": {
  "kernelspec": {
   "display_name": "Python 3",
   "language": "python",
   "name": "python3"
  },
  "language_info": {
   "codemirror_mode": {
    "name": "ipython",
    "version": 3
   },
   "file_extension": ".py",
   "mimetype": "text/x-python",
   "name": "python",
   "nbconvert_exporter": "python",
   "pygments_lexer": "ipython3",
   "version": "3.8.5"
  },
  "varInspector": {
   "cols": {
    "lenName": 16,
    "lenType": 16,
    "lenVar": 40
   },
   "kernels_config": {
    "python": {
     "delete_cmd_postfix": "",
     "delete_cmd_prefix": "del ",
     "library": "var_list.py",
     "varRefreshCmd": "print(var_dic_list())"
    },
    "r": {
     "delete_cmd_postfix": ") ",
     "delete_cmd_prefix": "rm(",
     "library": "var_list.r",
     "varRefreshCmd": "cat(var_dic_list()) "
    }
   },
   "types_to_exclude": [
    "module",
    "function",
    "builtin_function_or_method",
    "instance",
    "_Feature"
   ],
   "window_display": false
  }
 },
 "nbformat": 4,
 "nbformat_minor": 4
}
