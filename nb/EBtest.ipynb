{
 "cells": [
  {
   "cell_type": "code",
   "execution_count": 2,
   "metadata": {
    "ExecuteTime": {
     "end_time": "2020-08-29T13:31:56.220899Z",
     "start_time": "2020-08-29T13:31:56.094882Z"
    }
   },
   "outputs": [
    {
     "name": "stdout",
     "output_type": "stream",
     "text": [
      "001_A.bam                  002_A.chr7.bam.bai\r\n",
      "001_A.bam.bai              002_B.bam\r\n",
      "001_A.chr1.bam             002_B.bam.bai\r\n",
      "001_A.chr1.bam.bai         002_B.chr7.bam\r\n",
      "001_A.chr7.bam             002_B.chr7.bam.bai\r\n",
      "001_A.chr7.bam.bai         003_A.bam\r\n",
      "001_A.chr7.chr7.bam        003_A.bam.bai\r\n",
      "001_A.chr7.chr7.bam.bai    003_A.chr1.bam\r\n",
      "001_B.bam                  003_A.chr1.bam.bai\r\n",
      "001_B.bam.bai              003_A.chr1.chr1.40018.bed\r\n",
      "001_B.chr7.bam             003_A.chr1.chr1.40019.bed\r\n",
      "001_B.chr7.bam.bai         003_A.chr7.bam\r\n",
      "002_A.bam                  003_A.chr7.bam.bai\r\n",
      "002_A.bam.bai              003_B.bam\r\n",
      "002_A.chr1.bam             003_B.bam.bai\r\n",
      "002_A.chr1.bam.bai         003_B.chr7.bam\r\n",
      "002_A.chr7.bam             003_B.chr7.bam.bai\r\n"
     ]
    }
   ],
   "source": [
    "ls ../../testdata/bam"
   ]
  },
  {
   "cell_type": "code",
   "execution_count": null,
   "metadata": {
    "ExecuteTime": {
     "end_time": "2020-08-29T13:23:35.921193Z",
     "start_time": "2020-08-29T13:23:35.801141Z"
    }
   },
   "outputs": [],
   "source": [
    "ls ../data"
   ]
  },
  {
   "cell_type": "code",
   "execution_count": 4,
   "metadata": {
    "ExecuteTime": {
     "end_time": "2020-08-29T13:44:57.663382Z",
     "start_time": "2020-08-29T13:41:48.470264Z"
    }
   },
   "outputs": [
    {
     "name": "stdout",
     "output_type": "stream",
     "text": [
      "\u001b[1;35;2m15:41:48\u001b[0m : \u001b[1;30;1mComputing EBscore for chrom chr7\u001b[0m\n",
      "\u001b[1;35;2m15:41:48\u001b[0m : \u001b[1;30;1mPiling up chr7 of ../../testdata/bam/002_B.chr7.bam with Pon List.\u001b[0m\n",
      "\u001b[1m$ samtools mpileup -B -q 20 -Q 25 -l ../output/002.chr7.bed -r chr7 -b ../output/002.chr7.pon | cut -f $(../shell/pon2cols.mawk < ../output/002.chr7.pon) | ../shell/cleanpileup.mawk | ../shell/pile2count.mawk > ../output/002.chr7.matrix\u001b[0m\n",
      "\u001b[1;35;2m15:44:55\u001b[0m : \u001b[1;30;1mPileup matrix for chrom chr7 of ../../testdata/bam/002_B.chr7.bam completed.\u001b[0m\n",
      "\u001b[1;35;2m15:44:57\u001b[0m : \u001b[1;36;1mCreated EBscore for chrom chr7 of ../../testdata/bam/002_B.chr7.bam and written to ../output/002.chr7.EB\u001b[0m\n"
     ]
    }
   ],
   "source": [
    "import sys\n",
    "import os\n",
    "sys.path.append('../code')\n",
    "from ebrun import run_eb\n",
    "# set the paths\n",
    "testdata = '../../testdata'\n",
    "\n",
    "EBparams = {\n",
    "    'MAPQ': 20,\n",
    "    'Q': 25,\n",
    "    'fitting_penalty': 0.5\n",
    "}\n",
    "  \n",
    "run_eb(\n",
    "    table='../data/002.csv',\n",
    "    tumor_bam=f\"{testdata}/bam/002_B.chr7.bam\",\n",
    "    output=['../output/002.chr7.EB'],\n",
    "    pon_list='../testpon/Pon_chr7.txt',\n",
    "    chrom=\"chr7\",\n",
    "    log='..output/log.txt',\n",
    "    threads=8,\n",
    "    EBparams=EBparams,\n",
    "    full_output=False,\n",
    "    # import the scripts\n",
    "    cleanpileup='../shell/cleanpileup.mawk',\n",
    "    csv2bed='../shell/csv2bed.mawk',\n",
    "    pon2cols='../shell/pon2cols.mawk',\n",
    "    pile2count='../shell/pile2count.mawk',\n",
    "    matrix2EBinput='../shell/matrix2EBinput.mawk',\n",
    "    makeponlist='../shell/makeponlist.sh',\n",
    "    )"
   ]
  },
  {
   "cell_type": "code",
   "execution_count": null,
   "metadata": {},
   "outputs": [],
   "source": []
  },
  {
   "cell_type": "code",
   "execution_count": null,
   "metadata": {
    "ExecuteTime": {
     "end_time": "2020-08-24T05:10:37.283231Z",
     "start_time": "2020-08-24T05:10:33.803157Z"
    }
   },
   "outputs": [],
   "source": [
    "\n",
    "from io import StringIO\n",
    "from subprocess import Popen, PIPE, run\n",
    "from HDR_run import HDR_master\n",
    "\n",
    "home = '/Users/mahtin'\n",
    "path = '/Users/martinscience/Dropbox/Icke/Work/somVar/HDRtest'\n",
    "bam_file = f'{path}/data/002.bam '\n",
    "chrom = 'chr1'\n",
    "# chrom = ''\n",
    "pileup_file = f'{path}/data/001.chr1.pileup'\n",
    "threads = 8\n",
    "mut_file = f'{path}/data/002.csv'\n",
    "genome_split_path = os.path.join(home,'Dropbox/Icke/Work/static/genome/gatk/hg38/split')\n",
    "HDR_config = {\n",
    "    \"minAltSum\": 2,\n",
    "    \"minAltRatio\": 0.1,\n",
    "    \"maxAltRatio\": 0.85,\n",
    "    \"MINQ\": 15,\n",
    "    \"MINSIM\": .50,\n",
    "    \"PAD\": 100,\n",
    "    \"MINq\": 10,\n",
    "    \"MinAltSupport\": 5,\n",
    "    \"MinHDRCount\": 1,\n",
    "    \"pile2hotspot\": '../shell/pile2hotspot.mawk',#\n",
    "    \"pile2hotspot_chrom\": '../shell/pile2hotspot_chrom.mawk',\n",
    "    \"editbam\": '../shell/editbam.mawk',\n",
    "    \"bam2csv\": '../shell/bam2csv.mawk',\n",
    "    \"genome_split_path\": genome_split_path # the path to the folder with chrom-split genomes (chr1.fa..)\n",
    "}\n",
    "HDR_master(mut_file, bam_file=bam_file, pileup_file=pileup_file, chrom=chrom, threads=threads, HDR_config=HDR_config)"
   ]
  },
  {
   "cell_type": "code",
   "execution_count": null,
   "metadata": {
    "ExecuteTime": {
     "end_time": "2020-08-23T14:07:32.114469Z",
     "start_time": "2020-08-23T14:07:31.983073Z"
    }
   },
   "outputs": [],
   "source": [
    "ls data"
   ]
  },
  {
   "cell_type": "code",
   "execution_count": null,
   "metadata": {
    "ExecuteTime": {
     "end_time": "2020-08-23T19:25:07.814840Z",
     "start_time": "2020-08-23T19:25:07.772067Z"
    }
   },
   "outputs": [],
   "source": [
    "\n",
    "home = '/Users/mahtin'\n",
    "path = '/Users/mahtin/Dropbox/Icke/Work/somVar/HDRtest'\n",
    "bam_file = f'{path}/data/002.bam '\n",
    "chrom = 'chr1'\n",
    "# chrom = ''\n",
    "pileup_file = f'{path}/data/002.pileup'\n",
    "threads = 8\n",
    "mut_file = f'{path}/data/002.csv'\n",
    "mut_df = pd.read_csv(mut_file, sep='\\t').loc[:, [\n",
    "        'Chr', 'Start', 'End', 'Ref', 'Alt', 'Gene']]\n",
    "# make Chr column categorical for sorting .. and sort\n",
    "chrom_list = [f\"chr{i}\" for i in range(23)] + ['chrX', 'chrY']\n",
    "mut_df['Chr'] = pd.Categorical(mut_df['Chr'], chrom_list)\n",
    "mut_df = mut_df.sort_values(['Chr', 'Start'])\n",
    "mut_df = mut_df.query('Chr == @chrom')\n",
    "mut_df\n",
    "mut_split = np.array_split(mut_df, 4)"
   ]
  },
  {
   "cell_type": "code",
   "execution_count": null,
   "metadata": {
    "ExecuteTime": {
     "end_time": "2020-08-23T19:14:23.270088Z",
     "start_time": "2020-08-23T19:14:23.267394Z"
    }
   },
   "outputs": [],
   "source": [
    "mut_df = mut_split[0]"
   ]
  },
  {
   "cell_type": "code",
   "execution_count": null,
   "metadata": {
    "ExecuteTime": {
     "end_time": "2020-08-23T19:30:19.182347Z",
     "start_time": "2020-08-23T19:30:19.170669Z"
    }
   },
   "outputs": [],
   "source": [
    "anno_df = mut_df.sort_values(['Chr', 'Start']).iloc[0:,:5]\n",
    "anno_df"
   ]
  },
  {
   "cell_type": "code",
   "execution_count": null,
   "metadata": {
    "ExecuteTime": {
     "end_time": "2020-08-23T19:38:46.184923Z",
     "start_time": "2020-08-23T19:38:46.179603Z"
    }
   },
   "outputs": [],
   "source": [
    "def reduce_regions(df, padding):\n",
    "    '''\n",
    "    takes a mutation list and returns a region list using padding\n",
    "    overlapping regions are reduced to one using the gap strategy\n",
    "    '''\n",
    "\n",
    "    df = df.sort_values('Start')\n",
    "    df['Start'] = df['Start'] - padding\n",
    "    df['End'] = df['End'] + padding\n",
    "    # find the break points\n",
    "    # if Start is greater than previous End (using shift), this is a gap --> df['gap'] = 1\n",
    "    df['gap'] = df['Start'].gt(df['End'].shift()).astype('int')\n",
    "    # id different reads according to gap\n",
    "    # cumulative sum does not increase at df['gap'] == 0 and so these consecutive stretches are grouped together\n",
    "    df['gap'] = df['gap'].cumsum()\n",
    "    # groupby the coverage break group and condense individual coverage islands\n",
    "    # agg has to contain the neccessary shared columns TransLength because it is needed for coverage computation\n",
    "    df = df.groupby('gap').agg({'Chr':'first','Start': 'min', 'End':'max'})\n",
    "    return df.reset_index('gap').drop(columns='gap')"
   ]
  },
  {
   "cell_type": "code",
   "execution_count": null,
   "metadata": {
    "ExecuteTime": {
     "end_time": "2020-08-23T19:37:26.582555Z",
     "start_time": "2020-08-23T19:37:26.547975Z"
    }
   },
   "outputs": [],
   "source": [
    "df = anno_df\n",
    "anno_df\n",
    "padding = 100\n",
    "df['Start'] = df['Start'] - padding\n",
    "df['End'] = df['End'] + padding\n",
    "df['gap'] = df['Start'].gt(df['End'].shift()).astype('int')\n",
    "df['gap'] = df['gap'].cumsum()\n",
    "df = df.groupby('gap').agg({'Chr':'first','Start': 'min', 'End':'max'}).reset_index().drop(columns='gap')\n",
    "df"
   ]
  },
  {
   "cell_type": "code",
   "execution_count": null,
   "metadata": {
    "ExecuteTime": {
     "end_time": "2020-08-23T19:38:49.099313Z",
     "start_time": "2020-08-23T19:38:49.076795Z"
    }
   },
   "outputs": [],
   "source": [
    "bed_df = reduce_regions(anno_df, 100)\n",
    "bed_df"
   ]
  },
  {
   "cell_type": "code",
   "execution_count": null,
   "metadata": {},
   "outputs": [],
   "source": [
    "pd.DataFrame(columns=[\n",
    "        'Chr',\n",
    "        'Start',\n",
    "        'End',\n",
    "        'Ref',\n",
    "        'Alt',\n",
    "        'Gene',\n",
    "        'HDRcand',\n",
    "        'HDRcount',\n",
    "        'HDRinfo',\n",
    "    ])"
   ]
  },
  {
   "cell_type": "code",
   "execution_count": null,
   "metadata": {},
   "outputs": [],
   "source": []
  }
 ],
 "metadata": {
  "kernelspec": {
   "display_name": "Python 3",
   "language": "python",
   "name": "python3"
  },
  "language_info": {
   "codemirror_mode": {
    "name": "ipython",
    "version": 3
   },
   "file_extension": ".py",
   "mimetype": "text/x-python",
   "name": "python",
   "nbconvert_exporter": "python",
   "pygments_lexer": "ipython3",
   "version": "3.8.5"
  },
  "varInspector": {
   "cols": {
    "lenName": 16,
    "lenType": 16,
    "lenVar": 40
   },
   "kernels_config": {
    "python": {
     "delete_cmd_postfix": "",
     "delete_cmd_prefix": "del ",
     "library": "var_list.py",
     "varRefreshCmd": "print(var_dic_list())"
    },
    "r": {
     "delete_cmd_postfix": ") ",
     "delete_cmd_prefix": "rm(",
     "library": "var_list.r",
     "varRefreshCmd": "cat(var_dic_list()) "
    }
   },
   "types_to_exclude": [
    "module",
    "function",
    "builtin_function_or_method",
    "instance",
    "_Feature"
   ],
   "window_display": false
  }
 },
 "nbformat": 4,
 "nbformat_minor": 4
}
