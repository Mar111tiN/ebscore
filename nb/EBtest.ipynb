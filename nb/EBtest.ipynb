{
 "cells": [
  {
   "cell_type": "code",
   "execution_count": 1,
   "metadata": {
    "ExecuteTime": {
     "end_time": "2021-04-12T10:12:31.006010Z",
     "start_time": "2021-04-12T10:12:31.000341Z"
    }
   },
   "outputs": [],
   "source": [
    "# get the code\n",
    "import sys\n",
    "import os\n",
    "sys.path.append('../code')\n",
    "\n",
    "# set the paths\n",
    "home = '/Users/martinscience'\n",
    "#  home = '/Users/mahtin'\n",
    "\n",
    "\n",
    "somvar_path = os.path.join(home, \"Dropbox/Icke/Work/somVar\")\n",
    "testdata = os.path.join(somvar_path, \"testdata\")\n",
    "ebdata = os.path.join(somvar_path, \"tooldata/EBdata\")\n",
    "pon_path = os.path.join(testdata, \"PON\")\n",
    "\n",
    "static = os.path.join(home, \"Dropbox/Icke/Work/static\")"
   ]
  },
  {
   "cell_type": "markdown",
   "metadata": {},
   "source": [
    "## create EBmatrix from different input\n",
    "+ filterVar.mawk is the input fork"
   ]
  },
  {
   "cell_type": "code",
   "execution_count": 2,
   "metadata": {
    "ExecuteTime": {
     "end_time": "2021-04-12T10:13:20.188531Z",
     "start_time": "2021-04-12T10:13:19.593981Z"
    }
   },
   "outputs": [
    {
     "name": "stderr",
     "output_type": "stream",
     "text": [
      "../code/ebutils.py:33: FutureWarning: The default value of regex will change from True to False in a future version.\n",
      "  pon_df[\"basename\"]\n"
     ]
    },
    {
     "name": "stdout",
     "output_type": "stream",
     "text": [
      "\u001b[1;35;2m13:39:33\u001b[0m : \u001b[1;31;1m02_B.chr7.bam from PON list matches /Users/martinscience/Dropbox/Icke/Work/somVar/testdata/bam/002_A.chr7.bam and is removed from pon_list. If not desired, change names\u001b[0m\n",
      "\u001b[1m$ samtools mpileup -Q 25 -q 20 -l /Users/martinscience/Dropbox/Icke/Work/somVar/tooldata/EBdata/temp/002_A-B_chr7.bed -f /Users/martinscience/Dropbox/Icke/Work/static/genome/gatk/hg38/split/chr7.fa -r chr7 /Users/martinscience/Dropbox/Icke/Work/somVar/testdata/bam/002_A.chr7.bam | ../shell/cleanpileup.mawk | ../shell/pile2count.mawk | ../shell/tumor2matrix.mawk /Users/martinscience/Dropbox/Icke/Work/somVar/tooldata/EBdata/table/002_A-B.csv chr7 -P /Users/martinscience/Dropbox/Icke/Work/somVar/testdata/PON/matrix/chr7.pon -x 2\u001b[0m\n"
     ]
    },
    {
     "data": {
      "text/html": [
       "<div>\n",
       "<style scoped>\n",
       "    .dataframe tbody tr th:only-of-type {\n",
       "        vertical-align: middle;\n",
       "    }\n",
       "\n",
       "    .dataframe tbody tr th {\n",
       "        vertical-align: top;\n",
       "    }\n",
       "\n",
       "    .dataframe thead th {\n",
       "        text-align: right;\n",
       "    }\n",
       "</style>\n",
       "<table border=\"1\" class=\"dataframe\">\n",
       "  <thead>\n",
       "    <tr style=\"text-align: right;\">\n",
       "      <th></th>\n",
       "      <th>Chr</th>\n",
       "      <th>Start</th>\n",
       "      <th>End</th>\n",
       "      <th>Ref</th>\n",
       "      <th>Alt</th>\n",
       "      <th>Tumor</th>\n",
       "      <th>PON+</th>\n",
       "      <th>PON-</th>\n",
       "    </tr>\n",
       "  </thead>\n",
       "  <tbody>\n",
       "    <tr>\n",
       "      <th>0</th>\n",
       "      <td>chr7</td>\n",
       "      <td>35326</td>\n",
       "      <td>35326</td>\n",
       "      <td>C</td>\n",
       "      <td>T</td>\n",
       "      <td>0-1=0-1</td>\n",
       "      <td>0|0|0|0=4|6|31|0</td>\n",
       "      <td>0|0|0|3=2|0|0|3</td>\n",
       "    </tr>\n",
       "    <tr>\n",
       "      <th>1</th>\n",
       "      <td>chr7</td>\n",
       "      <td>248451</td>\n",
       "      <td>248451</td>\n",
       "      <td>G</td>\n",
       "      <td>A</td>\n",
       "      <td>0-0=6-30</td>\n",
       "      <td>1|0|1|0=69|33|86|65</td>\n",
       "      <td>0|1|0|0=102|60|135|75</td>\n",
       "    </tr>\n",
       "    <tr>\n",
       "      <th>2</th>\n",
       "      <td>chr7</td>\n",
       "      <td>248458</td>\n",
       "      <td>248458</td>\n",
       "      <td>T</td>\n",
       "      <td>C</td>\n",
       "      <td>0-0=6-28</td>\n",
       "      <td>1|0|1|0=49|20|66|49</td>\n",
       "      <td>0|0|0|0=114|60|139|79</td>\n",
       "    </tr>\n",
       "    <tr>\n",
       "      <th>3</th>\n",
       "      <td>chr7</td>\n",
       "      <td>248482</td>\n",
       "      <td>248482</td>\n",
       "      <td>-</td>\n",
       "      <td>A</td>\n",
       "      <td>0-0=2-21</td>\n",
       "      <td>0|0|0|0=23|8|25|22</td>\n",
       "      <td>0|1|1|0=95|51|130|68</td>\n",
       "    </tr>\n",
       "    <tr>\n",
       "      <th>4</th>\n",
       "      <td>chr7</td>\n",
       "      <td>248487</td>\n",
       "      <td>248487</td>\n",
       "      <td>G</td>\n",
       "      <td>A</td>\n",
       "      <td>0-0=1-21</td>\n",
       "      <td>0|0|1|0=11|6|16|18</td>\n",
       "      <td>0|1|2|0=86|52|121|66</td>\n",
       "    </tr>\n",
       "    <tr>\n",
       "      <th>...</th>\n",
       "      <td>...</td>\n",
       "      <td>...</td>\n",
       "      <td>...</td>\n",
       "      <td>...</td>\n",
       "      <td>...</td>\n",
       "      <td>...</td>\n",
       "      <td>...</td>\n",
       "      <td>...</td>\n",
       "    </tr>\n",
       "    <tr>\n",
       "      <th>7010</th>\n",
       "      <td>chr7</td>\n",
       "      <td>159142337</td>\n",
       "      <td>159142338</td>\n",
       "      <td>T</td>\n",
       "      <td>-</td>\n",
       "      <td>1-0=8-0</td>\n",
       "      <td>1|1|1|1=52|59|71|83</td>\n",
       "      <td>0|0|0|0=4|2|1|2</td>\n",
       "    </tr>\n",
       "    <tr>\n",
       "      <th>7011</th>\n",
       "      <td>chr7</td>\n",
       "      <td>159144277</td>\n",
       "      <td>159144277</td>\n",
       "      <td>C</td>\n",
       "      <td>A</td>\n",
       "      <td>0-0=25-3</td>\n",
       "      <td>0|0|0|0=166|241|218|113</td>\n",
       "      <td>0|0|0|0=27|33|27|17</td>\n",
       "    </tr>\n",
       "    <tr>\n",
       "      <th>7012</th>\n",
       "      <td>chr7</td>\n",
       "      <td>159144683</td>\n",
       "      <td>159144683</td>\n",
       "      <td>C</td>\n",
       "      <td>T</td>\n",
       "      <td>5-3=5-9</td>\n",
       "      <td>0|0|0|0=100|120|120|85</td>\n",
       "      <td>0|0|0|0=77|156|138|43</td>\n",
       "    </tr>\n",
       "    <tr>\n",
       "      <th>7013</th>\n",
       "      <td>chr7</td>\n",
       "      <td>159144893</td>\n",
       "      <td>159144893</td>\n",
       "      <td>T</td>\n",
       "      <td>C</td>\n",
       "      <td>0-1=1-8</td>\n",
       "      <td>0|22|5|6=7|22|5|8</td>\n",
       "      <td>0|65|54|12=30|65|54|28</td>\n",
       "    </tr>\n",
       "    <tr>\n",
       "      <th>7014</th>\n",
       "      <td>chr7</td>\n",
       "      <td>159144902</td>\n",
       "      <td>159144902</td>\n",
       "      <td>-</td>\n",
       "      <td>C</td>\n",
       "      <td>0-3=1-7</td>\n",
       "      <td>3|14|1|3=3|17|2|5</td>\n",
       "      <td>32|66|45|14=35|68|51|19</td>\n",
       "    </tr>\n",
       "  </tbody>\n",
       "</table>\n",
       "<p>7015 rows × 8 columns</p>\n",
       "</div>"
      ],
      "text/plain": [
       "       Chr      Start        End Ref Alt     Tumor                     PON+  \\\n",
       "0     chr7      35326      35326   C   T   0-1=0-1         0|0|0|0=4|6|31|0   \n",
       "1     chr7     248451     248451   G   A  0-0=6-30      1|0|1|0=69|33|86|65   \n",
       "2     chr7     248458     248458   T   C  0-0=6-28      1|0|1|0=49|20|66|49   \n",
       "3     chr7     248482     248482   -   A  0-0=2-21       0|0|0|0=23|8|25|22   \n",
       "4     chr7     248487     248487   G   A  0-0=1-21       0|0|1|0=11|6|16|18   \n",
       "...    ...        ...        ...  ..  ..       ...                      ...   \n",
       "7010  chr7  159142337  159142338   T   -   1-0=8-0      1|1|1|1=52|59|71|83   \n",
       "7011  chr7  159144277  159144277   C   A  0-0=25-3  0|0|0|0=166|241|218|113   \n",
       "7012  chr7  159144683  159144683   C   T   5-3=5-9   0|0|0|0=100|120|120|85   \n",
       "7013  chr7  159144893  159144893   T   C   0-1=1-8        0|22|5|6=7|22|5|8   \n",
       "7014  chr7  159144902  159144902   -   C   0-3=1-7        3|14|1|3=3|17|2|5   \n",
       "\n",
       "                         PON-  \n",
       "0             0|0|0|3=2|0|0|3  \n",
       "1       0|1|0|0=102|60|135|75  \n",
       "2       0|0|0|0=114|60|139|79  \n",
       "3        0|1|1|0=95|51|130|68  \n",
       "4        0|1|2|0=86|52|121|66  \n",
       "...                       ...  \n",
       "7010          0|0|0|0=4|2|1|2  \n",
       "7011      0|0|0|0=27|33|27|17  \n",
       "7012    0|0|0|0=77|156|138|43  \n",
       "7013   0|65|54|12=30|65|54|28  \n",
       "7014  32|66|45|14=35|68|51|19  \n",
       "\n",
       "[7015 rows x 8 columns]"
      ]
     },
     "execution_count": 2,
     "metadata": {},
     "output_type": "execute_result"
    }
   ],
   "source": [
    "from ebraw import tumor2matrix\n",
    "\n",
    "EBconfig = {\n",
    "    \"temp_dir\": os.path.join(ebdata, \"temp\"),\n",
    "    \"pon_path\": pon_path,\n",
    "    \"mawk_path\": \"../shell\",\n",
    "    \"genome_split\": os.path.join(static, \"genome/gatk/hg38/split\"),\n",
    "    \"MAPQ\": 20,\n",
    "    \"Q\": 25,\n",
    "    \"fit_pen\": 0.5,\n",
    "    \"count_dict\": {0:\"alt+\", 1:\"alt-\", 2:\"depth+\", 3:\"depth-\"},\n",
    "    \"use_cache\": True\n",
    "}\n",
    "\n",
    "\n",
    "bam_file = f\"{testdata}/bam/002_A.chr7.bam\"\n",
    "pileup_file = os.path.join(ebdata, \"pileup/002_A-B.pileup.gz\")\n",
    "mut_file = os.path.join(ebdata, \"table/002_A-B.csv\")\n",
    "pon_list = \"PON_chr7.txt\"\n",
    "chrom = \"chr7\"\n",
    "\n",
    "# df = bam2matrix(mut_file, pileup=pileup_file, chrom=chrom, pon_list=pon_list, EBconfig=EBconfig)\n",
    "matrix_df = tumor2matrix(mut_file, bam=bam_file, chrom=chrom, pon_list=pon_list, EBconfig=EBconfig)\n",
    "matrix_df"
   ]
  },
  {
   "cell_type": "markdown",
   "metadata": {},
   "source": [
    "## matrix to AB"
   ]
  },
  {
   "cell_type": "code",
   "execution_count": 3,
   "metadata": {},
   "outputs": [
    {
     "name": "stdout",
     "output_type": "stream",
     "text": [
      "\u001b[1;35;2m13:40:01\u001b[0m : \u001b[1;30;1mStarting AB conversion of matrix using 8 cores\u001b[0m\n",
      "\u001b[1;35;2m13:40:01\u001b[0m : \u001b[1;30;1mmatrix is stacked\u001b[0m\n",
      "\u001b[1;35;2m13:42:32\u001b[0m : \u001b[1;36;1mmatrix successfully converted!\u001b[0m\n"
     ]
    },
    {
     "data": {
      "text/html": [
       "<div>\n",
       "<style scoped>\n",
       "    .dataframe tbody tr th:only-of-type {\n",
       "        vertical-align: middle;\n",
       "    }\n",
       "\n",
       "    .dataframe tbody tr th {\n",
       "        vertical-align: top;\n",
       "    }\n",
       "\n",
       "    .dataframe thead th {\n",
       "        text-align: right;\n",
       "    }\n",
       "</style>\n",
       "<table border=\"1\" class=\"dataframe\">\n",
       "  <thead>\n",
       "    <tr style=\"text-align: right;\">\n",
       "      <th>strand</th>\n",
       "      <th>Chr</th>\n",
       "      <th>Start</th>\n",
       "      <th>End</th>\n",
       "      <th>Ref</th>\n",
       "      <th>Alt</th>\n",
       "      <th>Tumor</th>\n",
       "      <th>AB</th>\n",
       "    </tr>\n",
       "  </thead>\n",
       "  <tbody>\n",
       "    <tr>\n",
       "      <th>0</th>\n",
       "      <td>chr7</td>\n",
       "      <td>35326</td>\n",
       "      <td>35326</td>\n",
       "      <td>C</td>\n",
       "      <td>T</td>\n",
       "      <td>0-1=0-1</td>\n",
       "      <td>0.1|1.0=0.63663|1.0</td>\n",
       "    </tr>\n",
       "    <tr>\n",
       "      <th>1</th>\n",
       "      <td>chr7</td>\n",
       "      <td>248451</td>\n",
       "      <td>248451</td>\n",
       "      <td>G</td>\n",
       "      <td>A</td>\n",
       "      <td>0-0=6-30</td>\n",
       "      <td>0.82716|74.41157=0.1|1.80911</td>\n",
       "    </tr>\n",
       "    <tr>\n",
       "      <th>2</th>\n",
       "      <td>chr7</td>\n",
       "      <td>248458</td>\n",
       "      <td>248458</td>\n",
       "      <td>T</td>\n",
       "      <td>C</td>\n",
       "      <td>0-0=6-28</td>\n",
       "      <td>0.83603|54.35029=0.1|2.24547</td>\n",
       "    </tr>\n",
       "    <tr>\n",
       "      <th>3</th>\n",
       "      <td>chr7</td>\n",
       "      <td>248482</td>\n",
       "      <td>248482</td>\n",
       "      <td>-</td>\n",
       "      <td>A</td>\n",
       "      <td>0-0=2-21</td>\n",
       "      <td>0.1|1.77802=0.48591|46.19718</td>\n",
       "    </tr>\n",
       "    <tr>\n",
       "      <th>4</th>\n",
       "      <td>chr7</td>\n",
       "      <td>248487</td>\n",
       "      <td>248487</td>\n",
       "      <td>G</td>\n",
       "      <td>A</td>\n",
       "      <td>0-0=1-21</td>\n",
       "      <td>0.1|1.19333=0.51861|37.70095</td>\n",
       "    </tr>\n",
       "    <tr>\n",
       "      <th>...</th>\n",
       "      <td>...</td>\n",
       "      <td>...</td>\n",
       "      <td>...</td>\n",
       "      <td>...</td>\n",
       "      <td>...</td>\n",
       "      <td>...</td>\n",
       "      <td>...</td>\n",
       "    </tr>\n",
       "    <tr>\n",
       "      <th>7010</th>\n",
       "      <td>chr7</td>\n",
       "      <td>159142337</td>\n",
       "      <td>159142338</td>\n",
       "      <td>T</td>\n",
       "      <td>-</td>\n",
       "      <td>1-0=8-0</td>\n",
       "      <td>3.17307|175.81947=0.1|1.0</td>\n",
       "    </tr>\n",
       "    <tr>\n",
       "      <th>7011</th>\n",
       "      <td>chr7</td>\n",
       "      <td>159144277</td>\n",
       "      <td>159144277</td>\n",
       "      <td>C</td>\n",
       "      <td>A</td>\n",
       "      <td>0-0=25-3</td>\n",
       "      <td>0.1|2.33735=0.1|1.92297</td>\n",
       "    </tr>\n",
       "    <tr>\n",
       "      <th>7012</th>\n",
       "      <td>chr7</td>\n",
       "      <td>159144683</td>\n",
       "      <td>159144683</td>\n",
       "      <td>C</td>\n",
       "      <td>T</td>\n",
       "      <td>5-3=5-9</td>\n",
       "      <td>0.1|2.27143=0.1|2.2278</td>\n",
       "    </tr>\n",
       "    <tr>\n",
       "      <th>7013</th>\n",
       "      <td>chr7</td>\n",
       "      <td>159144893</td>\n",
       "      <td>159144893</td>\n",
       "      <td>T</td>\n",
       "      <td>C</td>\n",
       "      <td>0-1=1-8</td>\n",
       "      <td>1.25808|1.0=0.67278|1.0</td>\n",
       "    </tr>\n",
       "    <tr>\n",
       "      <th>7014</th>\n",
       "      <td>chr7</td>\n",
       "      <td>159144902</td>\n",
       "      <td>159144902</td>\n",
       "      <td>-</td>\n",
       "      <td>C</td>\n",
       "      <td>0-3=1-7</td>\n",
       "      <td>7.84878|3.1217=11.80623|1.65618</td>\n",
       "    </tr>\n",
       "  </tbody>\n",
       "</table>\n",
       "<p>7015 rows × 7 columns</p>\n",
       "</div>"
      ],
      "text/plain": [
       "strand   Chr      Start        End Ref Alt     Tumor  \\\n",
       "0       chr7      35326      35326   C   T   0-1=0-1   \n",
       "1       chr7     248451     248451   G   A  0-0=6-30   \n",
       "2       chr7     248458     248458   T   C  0-0=6-28   \n",
       "3       chr7     248482     248482   -   A  0-0=2-21   \n",
       "4       chr7     248487     248487   G   A  0-0=1-21   \n",
       "...      ...        ...        ...  ..  ..       ...   \n",
       "7010    chr7  159142337  159142338   T   -   1-0=8-0   \n",
       "7011    chr7  159144277  159144277   C   A  0-0=25-3   \n",
       "7012    chr7  159144683  159144683   C   T   5-3=5-9   \n",
       "7013    chr7  159144893  159144893   T   C   0-1=1-8   \n",
       "7014    chr7  159144902  159144902   -   C   0-3=1-7   \n",
       "\n",
       "strand                               AB  \n",
       "0                   0.1|1.0=0.63663|1.0  \n",
       "1          0.82716|74.41157=0.1|1.80911  \n",
       "2          0.83603|54.35029=0.1|2.24547  \n",
       "3          0.1|1.77802=0.48591|46.19718  \n",
       "4          0.1|1.19333=0.51861|37.70095  \n",
       "...                                 ...  \n",
       "7010          3.17307|175.81947=0.1|1.0  \n",
       "7011            0.1|2.33735=0.1|1.92297  \n",
       "7012             0.1|2.27143=0.1|2.2278  \n",
       "7013            1.25808|1.0=0.67278|1.0  \n",
       "7014    7.84878|3.1217=11.80623|1.65618  \n",
       "\n",
       "[7015 rows x 7 columns]"
      ]
     },
     "execution_count": 3,
     "metadata": {},
     "output_type": "execute_result"
    }
   ],
   "source": [
    "from matrix2AB import matrix2AB_multi\n",
    "\n",
    "AB_config = {\n",
    "    \"fit_pen\": 0.5,\n",
    "    \"threads\": 8,\n",
    "    \"chunk_size\":500,\n",
    "    \"zero_path\": os.path.join(pon_path, \"zero\")\n",
    "}\n",
    "AB_df = matrix2AB_multi(matrix_df, AB_config)\n",
    "AB_df"
   ]
  },
  {
   "cell_type": "markdown",
   "metadata": {},
   "source": [
    "## AB to EB"
   ]
  },
  {
   "cell_type": "code",
   "execution_count": 14,
   "metadata": {},
   "outputs": [
    {
     "data": {
      "text/plain": [
       "strand\n",
       "Chr                        chr7\n",
       "Start                 159144683\n",
       "End                   159144683\n",
       "Ref                           C\n",
       "Alt                           T\n",
       "Tumor                   5-3=5-9\n",
       "AB       0.1|2.27143=0.1|2.2278\n",
       "Name: 7012, dtype: object"
      ]
     },
     "execution_count": 14,
     "metadata": {},
     "output_type": "execute_result"
    }
   ],
   "source": [
    "row = AB_df.iloc[7012]\n",
    "row"
   ]
  },
  {
   "cell_type": "code",
   "execution_count": 41,
   "metadata": {},
   "outputs": [
    {
     "data": {
      "text/plain": [
       "array([[0.1    , 2.27143],\n",
       "       [0.1    , 2.2278 ]])"
      ]
     },
     "execution_count": 41,
     "metadata": {},
     "output_type": "execute_result"
    }
   ],
   "source": [
    "# get AB params\n",
    "\n",
    "AB_params = np.array([p.split(\"|\") for p in row[\"AB\"].split(\"=\")]).astype(float)\n",
    "AB_params"
   ]
  },
  {
   "cell_type": "code",
   "execution_count": 60,
   "metadata": {},
   "outputs": [
    {
     "data": {
      "text/plain": [
       "array([[5, 5],\n",
       "       [3, 9]])"
      ]
     },
     "execution_count": 60,
     "metadata": {},
     "output_type": "execute_result"
    }
   ],
   "source": [
    "# get tumor matrix\n",
    "\n",
    "t_matrix = np.transpose([p.split(\"-\") for p in row['Tumor'].split(\"=\")]).astype(int)\n",
    "t_matrix"
   ]
  },
  {
   "cell_type": "code",
   "execution_count": 61,
   "metadata": {},
   "outputs": [
    {
     "data": {
      "text/plain": [
       "array([3, 9])"
      ]
     },
     "execution_count": 61,
     "metadata": {},
     "output_type": "execute_result"
    }
   ],
   "source": [
    "t = t_matrix[1]\n",
    "t"
   ]
  },
  {
   "cell_type": "code",
   "execution_count": 66,
   "metadata": {},
   "outputs": [
    {
     "data": {
      "text/plain": [
       "[array([[5, 5]]),\n",
       " array([[9, 3],\n",
       "        [9, 4],\n",
       "        [9, 5],\n",
       "        [9, 6],\n",
       "        [9, 7],\n",
       "        [9, 8],\n",
       "        [9, 9]])]"
      ]
     },
     "execution_count": 66,
     "metadata": {},
     "output_type": "execute_result"
    }
   ],
   "source": [
    "def get_obs_matrix(t_pair):\n",
    "    return np.array([[t_pair[1], s] for s in range(t_pair[0], t_pair[1] + 1)])\n",
    "    \n",
    "\n",
    "obs_matrices[get_obs_matrix(t_pair) for t_pair in t_matrix]"
   ]
  },
  {
   "cell_type": "code",
   "execution_count": null,
   "metadata": {},
   "outputs": [],
   "source": [
    "bb_pvalue([])"
   ]
  },
  {
   "cell_type": "code",
   "execution_count": 64,
   "metadata": {},
   "outputs": [
    {
     "data": {
      "text/plain": [
       "alt+      5\n",
       "alt-      3\n",
       "depth+    5\n",
       "depth-    9\n",
       "dtype: int64"
      ]
     },
     "execution_count": 64,
     "metadata": {},
     "output_type": "execute_result"
    }
   ],
   "source": [
    "from ebcore import bb_pvalue\n",
    "\n",
    "def retrieveABdata(row):\n",
    "    # retrieve the data from the row\n",
    "    # target_s:\n",
    "    # turn string \"0-5=12-42\" into target_s:\n",
    "    # pd.Series\n",
    "    # alt+       0\n",
    "    # alt-       5\n",
    "    # depth+    12\n",
    "    # depth-    42\n",
    "    target = row[\"Tumor\"]\n",
    "    count_dict = {0: \"alt+\", 1: \"alt-\", 2: \"depth+\", 3: \"depth-\"}\n",
    "    target_split = [s for ad in target.split(\"=\") for s in ad.split(\"-\")]\n",
    "    target_s = pd.Series({count_dict[i]: v for i, v in enumerate(target_split)}).astype(\n",
    "        int\n",
    "    )\n",
    "    # params:\n",
    "    # turn string A+|B+-A-|B- into AB dict {'+':[A+, B+], '-':[A-, B-]}\n",
    "    params = row[\"AB\"]\n",
    "    AB_list = [float(ab) for s in params.split(\"=\") for ab in s.split(\"|\")]\n",
    "    AB_dict = {\"+\": AB_list[:2], \"-\": AB_list[2:]}\n",
    "    return target_s, AB_dict\n",
    "\n",
    "def get_obs_df(target_s, cols):\n",
    "    \"\"\"\n",
    "    turn the target_s into obs_df\n",
    "    \"\"\"\n",
    "\n",
    "    # cols is either ['depth+', 'alt+'] or ['depth-', 'alt-']\n",
    "    alt_type = cols[1]\n",
    "    # creates an observation df for each observation from depth-alt to depth-depth\n",
    "    n_minus_k = target_s[cols[0]] - target_s[alt_type]\n",
    "    # obs_df is instantiated from target_s dict with n_minus_k + 1 rows\n",
    "    obs_df = pd.DataFrame(target_s[cols].to_dict(), index=range(n_minus_k + 1))\n",
    "    # alt column is incremented using index\n",
    "    obs_df[alt_type] = obs_df[alt_type] + obs_df.index\n",
    "    return obs_df\n",
    "\n",
    "\n",
    "def bb_pvalue(obs_df, params):\n",
    "    \"\"\"\n",
    "    get the sum of exponentials of loglikelihoods (densities) per observation\n",
    "    params is strand-specific [A,B]\n",
    "    \"\"\"\n",
    "\n",
    "    # get the loglikelihood per observation\n",
    "    obs_df[\"p\"] = obs_df.apply(bb_loglikelihood_1d, params=params, axis=1)\n",
    "\n",
    "    # sum up the exponentials\n",
    "    p_value = np.exp(obs_df[\"p\"]).sum()\n",
    "\n",
    "    return p_value\n",
    "\n",
    "\n",
    "target_s, AB_dict = retrieveABdata(row)\n",
    "target_s"
   ]
  },
  {
   "cell_type": "code",
   "execution_count": 38,
   "metadata": {},
   "outputs": [
    {
     "data": {
      "text/plain": [
       "array([[9, 3],\n",
       "       [9, 4],\n",
       "       [9, 5],\n",
       "       [9, 6],\n",
       "       [9, 7],\n",
       "       [9, 8],\n",
       "       [9, 9]])"
      ]
     },
     "execution_count": 38,
     "metadata": {},
     "output_type": "execute_result"
    }
   ],
   "source": [
    "get_obs_df(target_s, [\"depth-\", \"alt-\"]).values"
   ]
  },
  {
   "cell_type": "code",
   "execution_count": 39,
   "metadata": {},
   "outputs": [
    {
     "data": {
      "text/plain": [
       "{'+': [0.1, 2.27143], '-': [0.1, 2.2278]}"
      ]
     },
     "execution_count": 39,
     "metadata": {},
     "output_type": "execute_result"
    }
   ],
   "source": [
    "AB_dict"
   ]
  },
  {
   "cell_type": "code",
   "execution_count": 26,
   "metadata": {},
   "outputs": [
    {
     "data": {
      "text/plain": [
       "0.00245461118548069"
      ]
     },
     "execution_count": 26,
     "metadata": {},
     "output_type": "execute_result"
    }
   ],
   "source": [
    "bb_pvalue(get_obs_df(target_s, [\"depth+\", \"alt+\"]), AB_dict[\"+\"])"
   ]
  },
  {
   "cell_type": "code",
   "execution_count": 28,
   "metadata": {},
   "outputs": [
    {
     "data": {
      "text/plain": [
       "0.055243206206543424"
      ]
     },
     "execution_count": 28,
     "metadata": {},
     "output_type": "execute_result"
    }
   ],
   "source": [
    "bb_pvalue(get_obs_df(target_s, [\"depth-\", \"alt-\"]), AB_dict[\"-\"])"
   ]
  },
  {
   "cell_type": "code",
   "execution_count": null,
   "metadata": {},
   "outputs": [],
   "source": []
  },
  {
   "cell_type": "code",
   "execution_count": null,
   "metadata": {},
   "outputs": [],
   "source": []
  },
  {
   "cell_type": "code",
   "execution_count": null,
   "metadata": {},
   "outputs": [],
   "source": []
  },
  {
   "cell_type": "code",
   "execution_count": null,
   "metadata": {},
   "outputs": [],
   "source": []
  },
  {
   "cell_type": "code",
   "execution_count": null,
   "metadata": {},
   "outputs": [],
   "source": []
  },
  {
   "cell_type": "code",
   "execution_count": null,
   "metadata": {},
   "outputs": [],
   "source": []
  },
  {
   "cell_type": "code",
   "execution_count": null,
   "metadata": {},
   "outputs": [],
   "source": [
    "# make a row with the same values as in EBold for comparison\n",
    "row_dict = {\n",
    "    \"Chr\": [\"chr7\"],\n",
    "    \"Start\": 680651,\n",
    "    \"Tumor:Alt=Depth\": \"0-5=12-42\",\n",
    "    \"ABparams\": \"0.20509|23.07746-0.22661|2.47235\"\n",
    "}\n",
    "\n",
    "test_row = pd.DataFrame().from_dict(row_dict).iloc[0]\n",
    "test_row\n",
    "from ebconvert import AB2EBscore\n",
    "AB2EBscore(test_row, config=EBconfig)"
   ]
  },
  {
   "cell_type": "code",
   "execution_count": null,
   "metadata": {},
   "outputs": [],
   "source": [
    "df['EBscore'] = df.apply(AB2EBscore, config=EBconfig, axis=1)\n",
    "df"
   ]
  }
 ],
 "metadata": {
  "kernelspec": {
   "display_name": "Python 3",
   "language": "python",
   "name": "python3"
  },
  "language_info": {
   "codemirror_mode": {
    "name": "ipython",
    "version": 3
   },
   "file_extension": ".py",
   "mimetype": "text/x-python",
   "name": "python",
   "nbconvert_exporter": "python",
   "pygments_lexer": "ipython3",
   "version": "3.9.2"
  },
  "varInspector": {
   "cols": {
    "lenName": 16,
    "lenType": 16,
    "lenVar": 40
   },
   "kernels_config": {
    "python": {
     "delete_cmd_postfix": "",
     "delete_cmd_prefix": "del ",
     "library": "var_list.py",
     "varRefreshCmd": "print(var_dic_list())"
    },
    "r": {
     "delete_cmd_postfix": ") ",
     "delete_cmd_prefix": "rm(",
     "library": "var_list.r",
     "varRefreshCmd": "cat(var_dic_list()) "
    }
   },
   "types_to_exclude": [
    "module",
    "function",
    "builtin_function_or_method",
    "instance",
    "_Feature"
   ],
   "window_display": false
  }
 },
 "nbformat": 4,
 "nbformat_minor": 4
}
