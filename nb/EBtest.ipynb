{
 "cells": [
  {
   "cell_type": "code",
   "execution_count": 2,
   "metadata": {
    "ExecuteTime": {
     "end_time": "2021-04-04T05:44:33.565525Z",
     "start_time": "2021-04-04T05:44:33.550923Z"
    }
   },
   "outputs": [],
   "source": [
    "# get the code\n",
    "import sys\n",
    "import os\n",
    "sys.path.append('../code')\n",
    "\n",
    "# set the paths\n",
    "home = '/Users/martinscience'\n",
    "#  home = '/Users/mahtin'\n",
    "\n",
    "somvar_path = os.path.join(home, \"Dropbox/Icke/Work/somVar\")\n",
    "testdata = os.path.join(somvar_path, \"testdata\")\n",
    "ebdata = os.path.join(somvar_path, \"tooldata/EBdata\")\n",
    "pon_path = os.path.join(testdata, \"testpon\")\n",
    "\n",
    "static = os.path.join(home, \"Dropbox/Icke/Work/static\")"
   ]
  },
  {
   "cell_type": "markdown",
   "metadata": {},
   "source": [
    "## create EBmatrix from different input\n",
    "+ filterVar.mawk is the input fork"
   ]
  },
  {
   "cell_type": "code",
   "execution_count": null,
   "metadata": {
    "ExecuteTime": {
     "end_time": "2021-04-04T05:44:36.039964Z",
     "start_time": "2021-04-04T05:44:35.809905Z"
    }
   },
   "outputs": [],
   "source": [
    "from ebraw import tumor2matrix\n",
    "\n",
    "EBconfig = {\n",
    "    \"pon_path\": pon_path,\n",
    "    \"mawk_path\": \"../shell\",\n",
    "    \"genome_split\": f\"{static}/genome/gatk/hg38/split\",\n",
    "    \"pon_path\": os.path.join(testdata, \"testpon\"),\n",
    "    \"MAPQ\": 20,\n",
    "    \"Q\": 25,\n",
    "    \"fit_pen\": 0.5,\n",
    "    \"count_dict\": {0:\"alt+\", 1:\"alt-\", 2:\"depth+\", 3:\"depth-\"},\n",
    "    \"use_cache\": True\n",
    "}\n",
    "\n",
    "\n",
    "bam_file = f\"{testdata}/bam/002_A.bam\"\n",
    "pileup_file = os.path.join(ebdata, \"002_A-B.pileup.gz\")\n",
    "mut_file = os.path.join(ebdata, \"002.csv\")\n",
    "pon_list = \"Pon_chr7.txt\"\n",
    "chrom = \"chr7\"\n",
    "\n",
    "# df = bam2matrix(mut_file, pileup=pileup_file, chrom=chrom, pon_list=pon_list, EBconfig=EBconfig)\n",
    "df = bam2matrix(mut_file, bam=bam_file, chrom=chrom, pon_list=pon_list, EBconfig=EBconfig)\n",
    "df"
   ]
  },
  {
   "cell_type": "markdown",
   "metadata": {},
   "source": [
    "## make EBcache matrix\n",
    "+ to be used by bam2matrix in cache-mode"
   ]
  },
  {
   "cell_type": "code",
   "execution_count": null,
   "metadata": {},
   "outputs": [],
   "source": [
    "from ebcache import PON2matrix\n",
    "\n",
    "EBconfig = {\n",
    "    \"pon_path\": pon_path,\n",
    "    \"bed_file\": os.path.join(static, \"bed_files/SureSelect/hg38/SS_HAEv7_hg38_Padded.bed\"),\n",
    "    \"mawk_path\": \"../shell\",\n",
    "    \"genome_split\": f\"{static}/genome/gatk/hg38/split\",\n",
    "    \"pon_path\": os.path.join(testdata, \"testpon\"),\n",
    "    \"MAPQ\": 20,\n",
    "    \"Q\": 25,\n",
    "    \"fit_pen\": 0.5,\n",
    "    \"count_dict\": {0:\"alt+\", 1:\"alt-\", 2:\"depth+\", 3:\"depth-\"},\n",
    "    \"use_cache\": True\n",
    "}\n",
    "pon_list = \"Pon_chr7.txt\"\n",
    "chrom = \"chr7\"\n",
    "\n",
    "EBcache_matrix(pon_list, chrom, EBconfig)"
   ]
  },
  {
   "cell_type": "markdown",
   "metadata": {},
   "source": [
    "## EBcache matrix2AB\n",
    "+ second level cache containing the ABparams"
   ]
  },
  {
   "cell_type": "code",
   "execution_count": 3,
   "metadata": {},
   "outputs": [
    {
     "data": {
      "text/html": [
       "<div>\n",
       "<style scoped>\n",
       "    .dataframe tbody tr th:only-of-type {\n",
       "        vertical-align: middle;\n",
       "    }\n",
       "\n",
       "    .dataframe tbody tr th {\n",
       "        vertical-align: top;\n",
       "    }\n",
       "\n",
       "    .dataframe thead th {\n",
       "        text-align: right;\n",
       "    }\n",
       "</style>\n",
       "<table border=\"1\" class=\"dataframe\">\n",
       "  <thead>\n",
       "    <tr style=\"text-align: right;\">\n",
       "      <th></th>\n",
       "      <th>Chr</th>\n",
       "      <th>Start</th>\n",
       "      <th>Ref</th>\n",
       "      <th>A</th>\n",
       "      <th>G</th>\n",
       "      <th>C</th>\n",
       "      <th>T</th>\n",
       "      <th>I</th>\n",
       "      <th>D</th>\n",
       "      <th>Depth</th>\n",
       "    </tr>\n",
       "  </thead>\n",
       "  <tbody>\n",
       "    <tr>\n",
       "      <th>0</th>\n",
       "      <td>chr7</td>\n",
       "      <td>35213</td>\n",
       "      <td>G</td>\n",
       "      <td>0|0|0|0|0-0|0|0|0|0</td>\n",
       "      <td>0|0|0|0|0-0|0|0|0|0</td>\n",
       "      <td>0|0|0|0|0-0|0|0|0|0</td>\n",
       "      <td>0|0|0|0|0-0|0|0|0|0</td>\n",
       "      <td>0|0|0|0|0-0|0|0|0|0</td>\n",
       "      <td>0|0|0|0|0-0|0|0|0|0</td>\n",
       "      <td>5|5|1|9|3-0|1|0|0|0</td>\n",
       "    </tr>\n",
       "    <tr>\n",
       "      <th>1</th>\n",
       "      <td>chr7</td>\n",
       "      <td>35214</td>\n",
       "      <td>A</td>\n",
       "      <td>0|0|0|0|0-0|0|0|0|0</td>\n",
       "      <td>0|0|0|0|0-0|0|0|0|0</td>\n",
       "      <td>0|0|0|0|0-0|0|0|0|0</td>\n",
       "      <td>0|0|0|0|0-0|0|0|0|0</td>\n",
       "      <td>0|0|0|0|0-0|0|0|0|0</td>\n",
       "      <td>0|0|0|0|0-0|0|0|0|0</td>\n",
       "      <td>5|5|1|9|3-0|1|0|0|0</td>\n",
       "    </tr>\n",
       "    <tr>\n",
       "      <th>2</th>\n",
       "      <td>chr7</td>\n",
       "      <td>35215</td>\n",
       "      <td>A</td>\n",
       "      <td>0|0|0|0|0-0|0|0|0|0</td>\n",
       "      <td>0|0|0|0|0-0|0|0|0|0</td>\n",
       "      <td>0|0|0|0|0-0|0|0|0|0</td>\n",
       "      <td>0|0|0|0|0-0|0|0|0|0</td>\n",
       "      <td>0|0|0|0|0-0|0|0|0|0</td>\n",
       "      <td>0|0|0|0|0-0|0|0|0|0</td>\n",
       "      <td>5|3|1|9|3-0|1|0|0|0</td>\n",
       "    </tr>\n",
       "    <tr>\n",
       "      <th>3</th>\n",
       "      <td>chr7</td>\n",
       "      <td>35216</td>\n",
       "      <td>T</td>\n",
       "      <td>0|0|0|0|0-0|0|0|0|0</td>\n",
       "      <td>0|0|0|0|0-0|0|0|0|0</td>\n",
       "      <td>0|0|0|0|0-0|0|0|0|0</td>\n",
       "      <td>0|0|0|0|0-0|0|0|0|0</td>\n",
       "      <td>0|0|0|0|0-0|0|0|0|0</td>\n",
       "      <td>0|0|0|0|0-0|0|0|0|0</td>\n",
       "      <td>5|5|1|9|3-0|1|0|0|0</td>\n",
       "    </tr>\n",
       "    <tr>\n",
       "      <th>4</th>\n",
       "      <td>chr7</td>\n",
       "      <td>35217</td>\n",
       "      <td>C</td>\n",
       "      <td>0|0|0|0|0-0|0|0|0|0</td>\n",
       "      <td>0|0|0|0|0-0|0|0|0|0</td>\n",
       "      <td>0|0|0|0|0-0|0|0|0|0</td>\n",
       "      <td>0|0|0|0|0-0|0|0|0|0</td>\n",
       "      <td>0|0|0|0|0-0|0|0|0|0</td>\n",
       "      <td>0|0|0|0|0-0|0|0|0|0</td>\n",
       "      <td>5|5|1|9|3-0|1|0|0|0</td>\n",
       "    </tr>\n",
       "    <tr>\n",
       "      <th>...</th>\n",
       "      <td>...</td>\n",
       "      <td>...</td>\n",
       "      <td>...</td>\n",
       "      <td>...</td>\n",
       "      <td>...</td>\n",
       "      <td>...</td>\n",
       "      <td>...</td>\n",
       "      <td>...</td>\n",
       "      <td>...</td>\n",
       "      <td>...</td>\n",
       "    </tr>\n",
       "    <tr>\n",
       "      <th>4225516</th>\n",
       "      <td>chr7</td>\n",
       "      <td>159144962</td>\n",
       "      <td>G</td>\n",
       "      <td>0|0|0|0|0-0|0|0|0|0</td>\n",
       "      <td>0|0|0|0|0-0|0|0|0|0</td>\n",
       "      <td>0|0|0|0|0-0|0|0|0|0</td>\n",
       "      <td>0|0|0|0|0-0|0|0|0|0</td>\n",
       "      <td>0|0|0|0|0-0|0|0|0|0</td>\n",
       "      <td>0|0|0|0|0-0|0|0|0|0</td>\n",
       "      <td>0|0|3|1|0-11|22|34|17|5</td>\n",
       "    </tr>\n",
       "    <tr>\n",
       "      <th>4225517</th>\n",
       "      <td>chr7</td>\n",
       "      <td>159144963</td>\n",
       "      <td>T</td>\n",
       "      <td>0|0|0|0|0-0|0|0|0|0</td>\n",
       "      <td>0|0|0|0|0-0|0|0|0|0</td>\n",
       "      <td>0|0|0|0|0-0|0|0|0|0</td>\n",
       "      <td>0|0|0|0|0-0|0|0|0|0</td>\n",
       "      <td>0|0|0|0|0-0|0|0|0|0</td>\n",
       "      <td>0|0|0|0|0-0|0|0|0|0</td>\n",
       "      <td>0|0|2|0|0-11|19|29|19|5</td>\n",
       "    </tr>\n",
       "    <tr>\n",
       "      <th>4225518</th>\n",
       "      <td>chr7</td>\n",
       "      <td>159144964</td>\n",
       "      <td>C</td>\n",
       "      <td>0|0|0|0|0-0|0|0|0|0</td>\n",
       "      <td>0|0|0|0|0-0|0|0|0|0</td>\n",
       "      <td>0|0|0|0|0-0|0|0|0|0</td>\n",
       "      <td>0|0|0|0|0-0|0|0|0|0</td>\n",
       "      <td>0|0|0|0|0-0|0|0|0|0</td>\n",
       "      <td>0|0|0|0|0-0|0|0|0|0</td>\n",
       "      <td>0|0|1|0|0-12|21|31|20|4</td>\n",
       "    </tr>\n",
       "    <tr>\n",
       "      <th>4225519</th>\n",
       "      <td>chr7</td>\n",
       "      <td>159144965</td>\n",
       "      <td>C</td>\n",
       "      <td>0|0|0|0|0-0|0|0|0|0</td>\n",
       "      <td>0|0|0|0|0-0|0|0|0|0</td>\n",
       "      <td>0|0|0|0|0-0|0|0|0|0</td>\n",
       "      <td>0|0|0|0|0-0|0|0|0|0</td>\n",
       "      <td>0|0|0|0|0-0|0|0|0|0</td>\n",
       "      <td>0|0|0|0|0-0|0|0|0|0</td>\n",
       "      <td>0|0|2|1|0-12|20|30|21|4</td>\n",
       "    </tr>\n",
       "    <tr>\n",
       "      <th>4225520</th>\n",
       "      <td>chr7</td>\n",
       "      <td>159144966</td>\n",
       "      <td>C</td>\n",
       "      <td>0|0|0|0|0-0|0|0|0|0</td>\n",
       "      <td>0|0|0|0|0-0|0|0|0|0</td>\n",
       "      <td>0|0|0|0|0-0|0|0|0|0</td>\n",
       "      <td>0|0|0|0|0-0|0|0|0|0</td>\n",
       "      <td>0|0|0|0|0-0|0|0|0|0</td>\n",
       "      <td>0|0|0|0|0-0|0|0|0|0</td>\n",
       "      <td>0|0|1|1|0-12|18|28|19|4</td>\n",
       "    </tr>\n",
       "  </tbody>\n",
       "</table>\n",
       "<p>4225521 rows × 10 columns</p>\n",
       "</div>"
      ],
      "text/plain": [
       "          Chr      Start Ref                    A                    G  \\\n",
       "0        chr7      35213   G  0|0|0|0|0-0|0|0|0|0  0|0|0|0|0-0|0|0|0|0   \n",
       "1        chr7      35214   A  0|0|0|0|0-0|0|0|0|0  0|0|0|0|0-0|0|0|0|0   \n",
       "2        chr7      35215   A  0|0|0|0|0-0|0|0|0|0  0|0|0|0|0-0|0|0|0|0   \n",
       "3        chr7      35216   T  0|0|0|0|0-0|0|0|0|0  0|0|0|0|0-0|0|0|0|0   \n",
       "4        chr7      35217   C  0|0|0|0|0-0|0|0|0|0  0|0|0|0|0-0|0|0|0|0   \n",
       "...       ...        ...  ..                  ...                  ...   \n",
       "4225516  chr7  159144962   G  0|0|0|0|0-0|0|0|0|0  0|0|0|0|0-0|0|0|0|0   \n",
       "4225517  chr7  159144963   T  0|0|0|0|0-0|0|0|0|0  0|0|0|0|0-0|0|0|0|0   \n",
       "4225518  chr7  159144964   C  0|0|0|0|0-0|0|0|0|0  0|0|0|0|0-0|0|0|0|0   \n",
       "4225519  chr7  159144965   C  0|0|0|0|0-0|0|0|0|0  0|0|0|0|0-0|0|0|0|0   \n",
       "4225520  chr7  159144966   C  0|0|0|0|0-0|0|0|0|0  0|0|0|0|0-0|0|0|0|0   \n",
       "\n",
       "                           C                    T                    I  \\\n",
       "0        0|0|0|0|0-0|0|0|0|0  0|0|0|0|0-0|0|0|0|0  0|0|0|0|0-0|0|0|0|0   \n",
       "1        0|0|0|0|0-0|0|0|0|0  0|0|0|0|0-0|0|0|0|0  0|0|0|0|0-0|0|0|0|0   \n",
       "2        0|0|0|0|0-0|0|0|0|0  0|0|0|0|0-0|0|0|0|0  0|0|0|0|0-0|0|0|0|0   \n",
       "3        0|0|0|0|0-0|0|0|0|0  0|0|0|0|0-0|0|0|0|0  0|0|0|0|0-0|0|0|0|0   \n",
       "4        0|0|0|0|0-0|0|0|0|0  0|0|0|0|0-0|0|0|0|0  0|0|0|0|0-0|0|0|0|0   \n",
       "...                      ...                  ...                  ...   \n",
       "4225516  0|0|0|0|0-0|0|0|0|0  0|0|0|0|0-0|0|0|0|0  0|0|0|0|0-0|0|0|0|0   \n",
       "4225517  0|0|0|0|0-0|0|0|0|0  0|0|0|0|0-0|0|0|0|0  0|0|0|0|0-0|0|0|0|0   \n",
       "4225518  0|0|0|0|0-0|0|0|0|0  0|0|0|0|0-0|0|0|0|0  0|0|0|0|0-0|0|0|0|0   \n",
       "4225519  0|0|0|0|0-0|0|0|0|0  0|0|0|0|0-0|0|0|0|0  0|0|0|0|0-0|0|0|0|0   \n",
       "4225520  0|0|0|0|0-0|0|0|0|0  0|0|0|0|0-0|0|0|0|0  0|0|0|0|0-0|0|0|0|0   \n",
       "\n",
       "                           D                    Depth  \n",
       "0        0|0|0|0|0-0|0|0|0|0      5|5|1|9|3-0|1|0|0|0  \n",
       "1        0|0|0|0|0-0|0|0|0|0      5|5|1|9|3-0|1|0|0|0  \n",
       "2        0|0|0|0|0-0|0|0|0|0      5|3|1|9|3-0|1|0|0|0  \n",
       "3        0|0|0|0|0-0|0|0|0|0      5|5|1|9|3-0|1|0|0|0  \n",
       "4        0|0|0|0|0-0|0|0|0|0      5|5|1|9|3-0|1|0|0|0  \n",
       "...                      ...                      ...  \n",
       "4225516  0|0|0|0|0-0|0|0|0|0  0|0|3|1|0-11|22|34|17|5  \n",
       "4225517  0|0|0|0|0-0|0|0|0|0  0|0|2|0|0-11|19|29|19|5  \n",
       "4225518  0|0|0|0|0-0|0|0|0|0  0|0|1|0|0-12|21|31|20|4  \n",
       "4225519  0|0|0|0|0-0|0|0|0|0  0|0|2|1|0-12|20|30|21|4  \n",
       "4225520  0|0|0|0|0-0|0|0|0|0  0|0|1|1|0-12|18|28|19|4  \n",
       "\n",
       "[4225521 rows x 10 columns]"
      ]
     },
     "execution_count": 3,
     "metadata": {},
     "output_type": "execute_result"
    }
   ],
   "source": [
    "chr7_df = pd.read_csv(os.path.join(pon_path, \"matrix/chr7.pon.gz\"), compression=\"gzip\", sep=\"\\t\")\n",
    "chr7_df"
   ]
  },
  {
   "cell_type": "code",
   "execution_count": null,
   "metadata": {},
   "outputs": [],
   "source": [
    "from ebcache import PONmatrix2AB_multi\n",
    "\n",
    "# use this but going through all letters and \n",
    "PONEB_config = {\n",
    "    \"fit_pen\": 0.5,\n",
    "    \"threads\": 8\n",
    "}\n",
    "\n",
    "df = PONmatrix2AB_multi(chr7_df, config=PONEB_config)\n",
    "df.to_csv(os.path.join(pon_path, \"ABcache/chr7.AB.gz\"), sep=\"\\t\", compression=\"gzip\", index=False)\n",
    "df"
   ]
  },
  {
   "cell_type": "code",
   "execution_count": null,
   "metadata": {},
   "outputs": [],
   "source": []
  },
  {
   "cell_type": "markdown",
   "metadata": {},
   "source": [
    "### EX|INport"
   ]
  },
  {
   "cell_type": "code",
   "execution_count": null,
   "metadata": {},
   "outputs": [],
   "source": [
    "# get the code\n",
    "import sys\n",
    "sys.path.append('../code')\n",
    "\n",
    "# set the paths\n",
    "home = '/Users/mahtin'\n",
    "home = '/Users/martinscience'\n",
    "testdata = f\"{home}/Dropbox/Icke/Work/somVar/testdata\"\n",
    "ebdata = f\"{testdata}/EBdata\"\n",
    "pon_path = f\"{testdata}/testpon\"\n",
    "static = f\"{home}/Dropbox/Icke/Work/static\"\n",
    "\n",
    "\n",
    "# df.to_csv(f\"{ebdata}/002.matrix\", sep='\\t', index=False)\n",
    "df = pd.read_csv(f\"{ebdata}/002.matrix\", sep='\\t')\n",
    "df[:3]"
   ]
  },
  {
   "cell_type": "markdown",
   "metadata": {},
   "source": [
    "## matrix to AB"
   ]
  },
  {
   "cell_type": "markdown",
   "metadata": {},
   "source": [
    "### get_count_df for matrix2EB"
   ]
  },
  {
   "cell_type": "code",
   "execution_count": null,
   "metadata": {},
   "outputs": [],
   "source": [
    "from ebutils import get_count_df\n",
    "row = df.iloc[2,:]\n",
    "row\n",
    "cdf = get_count_df(row['PON:ALT=Depth'], EBconfig[\"count_dict\"])\n",
    "cdf"
   ]
  },
  {
   "cell_type": "code",
   "execution_count": null,
   "metadata": {},
   "outputs": [],
   "source": [
    "from ebconvert import matrix2AB\n",
    "from ebcore import fit_bb\n",
    "bb_params = fit_bb(cdf, 0.5)\n",
    "bb_params"
   ]
  },
  {
   "cell_type": "code",
   "execution_count": null,
   "metadata": {},
   "outputs": [],
   "source": [
    "matrix2AB(row, config=EBconfig)"
   ]
  },
  {
   "cell_type": "markdown",
   "metadata": {},
   "source": [
    "### expand matrix2AB to df"
   ]
  },
  {
   "cell_type": "code",
   "execution_count": null,
   "metadata": {},
   "outputs": [],
   "source": [
    "df['ABparams'] = df.apply(matrix2AB, config=EBconfig, axis=1)\n",
    "df[:3]"
   ]
  },
  {
   "cell_type": "markdown",
   "metadata": {},
   "source": [
    "## AB to EB"
   ]
  },
  {
   "cell_type": "code",
   "execution_count": null,
   "metadata": {},
   "outputs": [],
   "source": [
    "# make a row with the same values as in EBold for comparison\n",
    "row_dict = {\n",
    "    \"Chr\": [\"chr7\"],\n",
    "    \"Start\": 680651,\n",
    "    \"Tumor:Alt=Depth\": \"0-5=12-42\",\n",
    "    \"ABparams\": \"0.20509|23.07746-0.22661|2.47235\"\n",
    "}\n",
    "\n",
    "test_row = pd.DataFrame().from_dict(row_dict).iloc[0]\n",
    "test_row\n",
    "from ebconvert import AB2EBscore\n",
    "AB2EBscore(test_row, config=EBconfig)"
   ]
  },
  {
   "cell_type": "code",
   "execution_count": null,
   "metadata": {},
   "outputs": [],
   "source": [
    "df['EBscore'] = df.apply(AB2EBscore, config=EBconfig, axis=1)\n",
    "df"
   ]
  },
  {
   "cell_type": "code",
   "execution_count": null,
   "metadata": {},
   "outputs": [],
   "source": [
    "os.path.isfile(\"EBtest.ipynb\")"
   ]
  },
  {
   "cell_type": "code",
   "execution_count": null,
   "metadata": {},
   "outputs": [],
   "source": [
    "ls"
   ]
  },
  {
   "cell_type": "code",
   "execution_count": null,
   "metadata": {},
   "outputs": [],
   "source": [
    "p = pd.DataFrame()"
   ]
  },
  {
   "cell_type": "code",
   "execution_count": null,
   "metadata": {},
   "outputs": [],
   "source": [
    "p.index[0]"
   ]
  },
  {
   "cell_type": "code",
   "execution_count": null,
   "metadata": {},
   "outputs": [],
   "source": []
  }
 ],
 "metadata": {
  "kernelspec": {
   "display_name": "Python 3",
   "language": "python",
   "name": "python3"
  },
  "language_info": {
   "codemirror_mode": {
    "name": "ipython",
    "version": 3
   },
   "file_extension": ".py",
   "mimetype": "text/x-python",
   "name": "python",
   "nbconvert_exporter": "python",
   "pygments_lexer": "ipython3",
   "version": "3.9.2"
  },
  "varInspector": {
   "cols": {
    "lenName": 16,
    "lenType": 16,
    "lenVar": 40
   },
   "kernels_config": {
    "python": {
     "delete_cmd_postfix": "",
     "delete_cmd_prefix": "del ",
     "library": "var_list.py",
     "varRefreshCmd": "print(var_dic_list())"
    },
    "r": {
     "delete_cmd_postfix": ") ",
     "delete_cmd_prefix": "rm(",
     "library": "var_list.r",
     "varRefreshCmd": "cat(var_dic_list()) "
    }
   },
   "types_to_exclude": [
    "module",
    "function",
    "builtin_function_or_method",
    "instance",
    "_Feature"
   ],
   "window_display": false
  }
 },
 "nbformat": 4,
 "nbformat_minor": 4
}
